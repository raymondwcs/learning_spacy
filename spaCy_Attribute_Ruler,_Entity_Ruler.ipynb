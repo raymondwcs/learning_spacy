{
  "nbformat": 4,
  "nbformat_minor": 0,
  "metadata": {
    "colab": {
      "name": "spaCy Attribute Ruler, Entity Ruler.ipynb",
      "provenance": [],
      "collapsed_sections": [],
      "authorship_tag": "ABX9TyM/6kSZWcxbalFkX4Se2xL+",
      "include_colab_link": true
    },
    "kernelspec": {
      "name": "python3",
      "display_name": "Python 3"
    },
    "language_info": {
      "name": "python"
    }
  },
  "cells": [
    {
      "cell_type": "markdown",
      "metadata": {
        "id": "view-in-github",
        "colab_type": "text"
      },
      "source": [
        "<a href=\"https://colab.research.google.com/github/raymondwcs/learning_spacy/blob/main/spaCy_Attribute_Ruler%2C_Entity_Ruler.ipynb\" target=\"_parent\"><img src=\"https://colab.research.google.com/assets/colab-badge.svg\" alt=\"Open In Colab\"/></a>"
      ]
    },
    {
      "cell_type": "code",
      "metadata": {
        "colab": {
          "base_uri": "https://localhost:8080/"
        },
        "id": "GGD5HO6Ye9_0",
        "outputId": "d7f42c30-b45c-46ef-d956-1260ab860edc"
      },
      "source": [
        "!pip install --quiet -U spacy\n",
        "!python -m spacy download zh_core_web_lg"
      ],
      "execution_count": 13,
      "outputs": [
        {
          "output_type": "stream",
          "name": "stdout",
          "text": [
            "Collecting zh-core-web-lg==3.1.0\n",
            "  Downloading https://github.com/explosion/spacy-models/releases/download/zh_core_web_lg-3.1.0/zh_core_web_lg-3.1.0-py3-none-any.whl (603.8 MB)\n",
            "\u001b[K     |████████████████████████████████| 603.8 MB 7.9 kB/s \n",
            "\u001b[?25hRequirement already satisfied: spacy<3.2.0,>=3.1.0 in /usr/local/lib/python3.7/dist-packages (from zh-core-web-lg==3.1.0) (3.1.2)\n",
            "Requirement already satisfied: spacy-pkuseg<0.1.0,>=0.0.27 in /usr/local/lib/python3.7/dist-packages (from zh-core-web-lg==3.1.0) (0.0.28)\n",
            "Requirement already satisfied: setuptools in /usr/local/lib/python3.7/dist-packages (from spacy<3.2.0,>=3.1.0->zh-core-web-lg==3.1.0) (57.4.0)\n",
            "Requirement already satisfied: typing-extensions<4.0.0.0,>=3.7.4 in /usr/local/lib/python3.7/dist-packages (from spacy<3.2.0,>=3.1.0->zh-core-web-lg==3.1.0) (3.7.4.3)\n",
            "Requirement already satisfied: catalogue<2.1.0,>=2.0.4 in /usr/local/lib/python3.7/dist-packages (from spacy<3.2.0,>=3.1.0->zh-core-web-lg==3.1.0) (2.0.6)\n",
            "Requirement already satisfied: preshed<3.1.0,>=3.0.2 in /usr/local/lib/python3.7/dist-packages (from spacy<3.2.0,>=3.1.0->zh-core-web-lg==3.1.0) (3.0.5)\n",
            "Requirement already satisfied: spacy-legacy<3.1.0,>=3.0.7 in /usr/local/lib/python3.7/dist-packages (from spacy<3.2.0,>=3.1.0->zh-core-web-lg==3.1.0) (3.0.8)\n",
            "Requirement already satisfied: requests<3.0.0,>=2.13.0 in /usr/local/lib/python3.7/dist-packages (from spacy<3.2.0,>=3.1.0->zh-core-web-lg==3.1.0) (2.23.0)\n",
            "Requirement already satisfied: jinja2 in /usr/local/lib/python3.7/dist-packages (from spacy<3.2.0,>=3.1.0->zh-core-web-lg==3.1.0) (2.11.3)\n",
            "Requirement already satisfied: pathy>=0.3.5 in /usr/local/lib/python3.7/dist-packages (from spacy<3.2.0,>=3.1.0->zh-core-web-lg==3.1.0) (0.6.0)\n",
            "Requirement already satisfied: tqdm<5.0.0,>=4.38.0 in /usr/local/lib/python3.7/dist-packages (from spacy<3.2.0,>=3.1.0->zh-core-web-lg==3.1.0) (4.62.0)\n",
            "Requirement already satisfied: pydantic!=1.8,!=1.8.1,<1.9.0,>=1.7.4 in /usr/local/lib/python3.7/dist-packages (from spacy<3.2.0,>=3.1.0->zh-core-web-lg==3.1.0) (1.8.2)\n",
            "Requirement already satisfied: packaging>=20.0 in /usr/local/lib/python3.7/dist-packages (from spacy<3.2.0,>=3.1.0->zh-core-web-lg==3.1.0) (21.0)\n",
            "Requirement already satisfied: murmurhash<1.1.0,>=0.28.0 in /usr/local/lib/python3.7/dist-packages (from spacy<3.2.0,>=3.1.0->zh-core-web-lg==3.1.0) (1.0.5)\n",
            "Requirement already satisfied: thinc<8.1.0,>=8.0.8 in /usr/local/lib/python3.7/dist-packages (from spacy<3.2.0,>=3.1.0->zh-core-web-lg==3.1.0) (8.0.10)\n",
            "Requirement already satisfied: wasabi<1.1.0,>=0.8.1 in /usr/local/lib/python3.7/dist-packages (from spacy<3.2.0,>=3.1.0->zh-core-web-lg==3.1.0) (0.8.2)\n",
            "Requirement already satisfied: cymem<2.1.0,>=2.0.2 in /usr/local/lib/python3.7/dist-packages (from spacy<3.2.0,>=3.1.0->zh-core-web-lg==3.1.0) (2.0.5)\n",
            "Requirement already satisfied: srsly<3.0.0,>=2.4.1 in /usr/local/lib/python3.7/dist-packages (from spacy<3.2.0,>=3.1.0->zh-core-web-lg==3.1.0) (2.4.1)\n",
            "Requirement already satisfied: blis<0.8.0,>=0.4.0 in /usr/local/lib/python3.7/dist-packages (from spacy<3.2.0,>=3.1.0->zh-core-web-lg==3.1.0) (0.4.1)\n",
            "Requirement already satisfied: numpy>=1.15.0 in /usr/local/lib/python3.7/dist-packages (from spacy<3.2.0,>=3.1.0->zh-core-web-lg==3.1.0) (1.19.5)\n",
            "Requirement already satisfied: typer<0.4.0,>=0.3.0 in /usr/local/lib/python3.7/dist-packages (from spacy<3.2.0,>=3.1.0->zh-core-web-lg==3.1.0) (0.3.2)\n",
            "Requirement already satisfied: zipp>=0.5 in /usr/local/lib/python3.7/dist-packages (from catalogue<2.1.0,>=2.0.4->spacy<3.2.0,>=3.1.0->zh-core-web-lg==3.1.0) (3.5.0)\n",
            "Requirement already satisfied: pyparsing>=2.0.2 in /usr/local/lib/python3.7/dist-packages (from packaging>=20.0->spacy<3.2.0,>=3.1.0->zh-core-web-lg==3.1.0) (2.4.7)\n",
            "Requirement already satisfied: smart-open<6.0.0,>=5.0.0 in /usr/local/lib/python3.7/dist-packages (from pathy>=0.3.5->spacy<3.2.0,>=3.1.0->zh-core-web-lg==3.1.0) (5.1.0)\n",
            "Requirement already satisfied: urllib3!=1.25.0,!=1.25.1,<1.26,>=1.21.1 in /usr/local/lib/python3.7/dist-packages (from requests<3.0.0,>=2.13.0->spacy<3.2.0,>=3.1.0->zh-core-web-lg==3.1.0) (1.24.3)\n",
            "Requirement already satisfied: idna<3,>=2.5 in /usr/local/lib/python3.7/dist-packages (from requests<3.0.0,>=2.13.0->spacy<3.2.0,>=3.1.0->zh-core-web-lg==3.1.0) (2.10)\n",
            "Requirement already satisfied: chardet<4,>=3.0.2 in /usr/local/lib/python3.7/dist-packages (from requests<3.0.0,>=2.13.0->spacy<3.2.0,>=3.1.0->zh-core-web-lg==3.1.0) (3.0.4)\n",
            "Requirement already satisfied: certifi>=2017.4.17 in /usr/local/lib/python3.7/dist-packages (from requests<3.0.0,>=2.13.0->spacy<3.2.0,>=3.1.0->zh-core-web-lg==3.1.0) (2021.5.30)\n",
            "Requirement already satisfied: cython>=0.25 in /usr/local/lib/python3.7/dist-packages (from spacy-pkuseg<0.1.0,>=0.0.27->zh-core-web-lg==3.1.0) (0.29.24)\n",
            "Requirement already satisfied: click<7.2.0,>=7.1.1 in /usr/local/lib/python3.7/dist-packages (from typer<0.4.0,>=0.3.0->spacy<3.2.0,>=3.1.0->zh-core-web-lg==3.1.0) (7.1.2)\n",
            "Requirement already satisfied: MarkupSafe>=0.23 in /usr/local/lib/python3.7/dist-packages (from jinja2->spacy<3.2.0,>=3.1.0->zh-core-web-lg==3.1.0) (2.0.1)\n",
            "\u001b[38;5;2m✔ Download and installation successful\u001b[0m\n",
            "You can now load the package via spacy.load('zh_core_web_lg')\n"
          ]
        }
      ]
    },
    {
      "cell_type": "code",
      "metadata": {
        "colab": {
          "base_uri": "https://localhost:8080/"
        },
        "id": "81UChYO9fJ-D",
        "outputId": "5fca3daa-86ca-47e2-bc21-d51a36dc2e2a"
      },
      "source": [
        "!git clone https://github.com/raymondwcs/learning_spacy/"
      ],
      "execution_count": 14,
      "outputs": [
        {
          "output_type": "stream",
          "name": "stdout",
          "text": [
            "fatal: destination path 'learning_spacy' already exists and is not an empty directory.\n"
          ]
        }
      ]
    },
    {
      "cell_type": "code",
      "metadata": {
        "id": "blDlmcoJfNY4"
      },
      "source": [
        "import spacy\n",
        "\n",
        "sentences = [\n",
        "  '一齊係國企成份股調整期間 大家一齊不問價掃貨 尤其是386 857 成份股佔指數比重只係5%左右 冇咩受新計法影響 挾死班歐美鬼佬 港股10月29000 遠必挾之 foshan fst_evil.gif',\n",
        "  '恆指上29000 smile_22.gif  qq400 smile_22.gif ',\n",
        "  'a股牛市開始😎',\n",
        "  '我都唔知同佢講乜xyz123'\n",
        "]"
      ],
      "execution_count": 4,
      "outputs": []
    },
    {
      "cell_type": "code",
      "metadata": {
        "id": "Q9exuEEMfSOj"
      },
      "source": [
        "nlp = spacy.load('zh_core_web_lg')\n",
        "nlp.tokenizer.initialize(pkuseg_model=\"./learning_spacy/spacy_pkuseg/models\")\n",
        "# nlp.tokenizer.pkuseg_update_user_dict([])\n",
        "\n",
        "attribute_patterns = [\n",
        "  { \n",
        "    \"patterns\" :[[{\"TEXT\": {\"REGEX\": \".*\\.(gif|jpe?g|png)$\"}}]],\n",
        "    \"attrs\" : {\"TAG\": \"STICKER\", \"POS\":\"ADJ\"}\n",
        "  }\n",
        "]\n",
        "attribute_ruler = nlp.get_pipe('attribute_ruler')\n",
        "attribute_ruler.add_patterns(attribute_patterns)\n",
        "\n",
        "entity_patterns = [\n",
        "    {\"label\": \"STOCK\", \"pattern\": \"386\"},\n",
        "    {\"label\": \"STOCK\", \"pattern\": \"857\"},\n",
        "]\n",
        "\n",
        "entity_ruler = nlp.add_pipe(\"entity_ruler\", before='ner')\n",
        "entity_ruler.add_patterns(entity_patterns)"
      ],
      "execution_count": 23,
      "outputs": []
    },
    {
      "cell_type": "code",
      "metadata": {
        "id": "aaww_oSgToxt"
      },
      "source": [
        "def myTokenizer(sentence):\n",
        "  doc = nlp(sentence)\n",
        "  list = []\n",
        "  oov = []\n",
        "  for token in doc:\n",
        "    print(token.text, token.tag_, token.pos_)\n",
        "    if token.is_oov and token.text not in oov:  # out of dictionary\n",
        "      oov.append(token.text)\n",
        "    if token.tag_ == 'STICKER':\n",
        "      if token.text == 'smile_22.gif':\n",
        "        list.append('😡')\n",
        "      elif token.text == 'fst_evil.gif':\n",
        "        list.append('😈')\n",
        "      elif token.text == 'smile_34.gif':\n",
        "        list.append('😎')\n",
        "    elif token.pos_ == 'NOUN' or token.pos_ == 'VERB' or token.pos_ == 'PROPN' and token.text not in list:\n",
        "      list.append(token.text)\n",
        "\n",
        "  for ent in doc.ents:\n",
        "    print(ent.text, ent.start_char, ent.end_char, ent.label_)\n",
        "    if ent.label_ == 'STOCK' and ent.text not in list:\n",
        "      list.append(ent.text)\n",
        "\n",
        "  print(list)\n",
        "  print('OOV: {}\\n'.format(oov))\n",
        "  return(list)"
      ],
      "execution_count": 37,
      "outputs": []
    },
    {
      "cell_type": "code",
      "metadata": {
        "colab": {
          "base_uri": "https://localhost:8080/"
        },
        "id": "I56teWRdTzsu",
        "outputId": "a8d020e9-cf3e-4154-f616-a16283cc18ca"
      },
      "source": [
        "sentence_tokens = []\n",
        "for sentence in sentences:\n",
        "  tokens = myTokenizer(sentence)\n",
        "  sentence_tokens.append(tokens)\n",
        "\n",
        "for s, k in zip(sentences,sentence_tokens):\n",
        "  print(s)\n",
        "  print(k)\n",
        "  print()"
      ],
      "execution_count": 38,
      "outputs": [
        {
          "output_type": "stream",
          "name": "stdout",
          "text": [
            "一齊 AD ADV\n",
            "係 NN NOUN\n",
            "國企 NR PROPN\n",
            "成份股 NN NOUN\n",
            "調整 VV VERB\n",
            "期間 LC PART\n",
            "大家 PN PRON\n",
            "一齊 AD ADV\n",
            "不 AD ADV\n",
            "問價 VV VERB\n",
            "掃貨 VV VERB\n",
            "尤其 AD ADV\n",
            "是 VC VERB\n",
            "386 CD NUM\n",
            "857 CD NUM\n",
            "成份 NN NOUN\n",
            "股佔 NN NOUN\n",
            "指數 NN NOUN\n",
            "比重 NN NOUN\n",
            "只 AD ADV\n",
            "係 VV VERB\n",
            "5% CD NUM\n",
            "左右 LC PART\n",
            "冇咩 VV VERB\n",
            "受 VV VERB\n",
            "新 AD ADV\n",
            "計法 VV VERB\n",
            "影響 NN NOUN\n",
            "挾 VV VERB\n",
            "死班 NR PROPN\n",
            "歐美 NR PROPN\n",
            "鬼佬 NN NOUN\n",
            "港股 NN NOUN\n",
            "10月 NT NOUN\n",
            "29000 CD NUM\n",
            "遠必 VV VERB\n",
            "挾 VV VERB\n",
            "之 DEC PART\n",
            "foshan NN NOUN\n",
            "fst_evil.gif STICKER ADJ\n",
            "一齊 0 2 CARDINAL\n",
            "386 26 29 STOCK\n",
            "857 30 33 STOCK\n",
            "5% 44 46 CARDINAL\n",
            "['係', '國企', '成份股', '調整', '問價', '掃貨', '是', '成份', '股佔', '指數', '比重', '係', '冇咩', '受', '計法', '影響', '挾', '死班', '歐美', '鬼佬', '港股', '10月', '遠必', '挾', 'foshan', '😈', '386', '857']\n",
            "OOV: ['一齊', '問價', '股佔', '冇咩', '計法', '死班', '遠必', 'foshan', 'fst_evil.gif']\n",
            "\n",
            "恆指 NN NOUN\n",
            "上 VV VERB\n",
            "29000 CD NUM\n",
            "smile_22.gif STICKER ADJ\n",
            "  _SP SPACE\n",
            "qq NN NOUN\n",
            "400 OD NUM\n",
            "smile_22.gif STICKER ADJ\n",
            "29000 smile_22.gif 3 21 QUANTITY\n",
            "400 smile_22.gif 25 41 QUANTITY\n",
            "['恆指', '上', '😡', 'qq', '😡']\n",
            "OOV: ['smile_22.gif', ' ']\n",
            "\n",
            "a股 NN NOUN\n",
            "牛市 NN NOUN\n",
            "開始 AD ADV\n",
            "😎 VV VERB\n",
            "a股 0 2 GPE\n",
            "😎 6 7 CARDINAL\n",
            "['a股', '牛市', '😎']\n",
            "OOV: ['😎']\n",
            "\n",
            "我 PN PRON\n",
            "都 AD ADV\n",
            "唔知 VV VERB\n",
            "同 P ADP\n",
            "佢 PN PRON\n",
            "講 VV VERB\n",
            "乜xyz VV VERB\n",
            "123 CD NUM\n",
            "123 11 14 CARDINAL\n",
            "['唔知', '講', '乜xyz']\n",
            "OOV: ['乜xyz']\n",
            "\n",
            "一齊係國企成份股調整期間 大家一齊不問價掃貨 尤其是386 857 成份股佔指數比重只係5%左右 冇咩受新計法影響 挾死班歐美鬼佬 港股10月29000 遠必挾之 foshan fst_evil.gif\n",
            "['係', '國企', '成份股', '調整', '問價', '掃貨', '是', '成份', '股佔', '指數', '比重', '係', '冇咩', '受', '計法', '影響', '挾', '死班', '歐美', '鬼佬', '港股', '10月', '遠必', '挾', 'foshan', '😈', '386', '857']\n",
            "\n",
            "恆指上29000 smile_22.gif  qq400 smile_22.gif \n",
            "['恆指', '上', '😡', 'qq', '😡']\n",
            "\n",
            "a股牛市開始😎\n",
            "['a股', '牛市', '😎']\n",
            "\n",
            "我都唔知同佢講乜xyz123\n",
            "['唔知', '講', '乜xyz']\n",
            "\n"
          ]
        }
      ]
    }
  ]
}