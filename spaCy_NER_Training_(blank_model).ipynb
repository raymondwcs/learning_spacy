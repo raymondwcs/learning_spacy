{
  "nbformat": 4,
  "nbformat_minor": 0,
  "metadata": {
    "colab": {
      "name": "spaCy - NER Training (blank model).ipynb",
      "provenance": [],
      "authorship_tag": "ABX9TyMyY56eiM/zZxc4CC/YiiAn",
      "include_colab_link": true
    },
    "kernelspec": {
      "name": "python3",
      "display_name": "Python 3"
    },
    "language_info": {
      "name": "python"
    }
  },
  "cells": [
    {
      "cell_type": "markdown",
      "metadata": {
        "id": "view-in-github",
        "colab_type": "text"
      },
      "source": [
        "<a href=\"https://colab.research.google.com/github/raymondwcs/learning_spacy/blob/main/spaCy_NER_Training_(blank_model).ipynb\" target=\"_parent\"><img src=\"https://colab.research.google.com/assets/colab-badge.svg\" alt=\"Open In Colab\"/></a>"
      ]
    },
    {
      "cell_type": "code",
      "metadata": {
        "colab": {
          "base_uri": "https://localhost:8080/"
        },
        "id": "-hGHHPIjC0JJ",
        "outputId": "afacfcff-d62a-4545-f398-f411154ccd96"
      },
      "source": [
        "!pip install -U spacy\n",
        "# !python -m spacy download zh_core_web_sm\n",
        "# !python -m spacy download zh_core_web_trf"
      ],
      "execution_count": 1,
      "outputs": [
        {
          "output_type": "stream",
          "text": [
            "Requirement already satisfied: spacy in /usr/local/lib/python3.7/dist-packages (2.2.4)\n",
            "Collecting spacy\n",
            "  Downloading spacy-3.1.1-cp37-cp37m-manylinux_2_17_x86_64.manylinux2014_x86_64.whl (6.4 MB)\n",
            "\u001b[K     |████████████████████████████████| 6.4 MB 6.7 MB/s \n",
            "\u001b[?25hCollecting spacy-legacy<3.1.0,>=3.0.7\n",
            "  Downloading spacy_legacy-3.0.8-py2.py3-none-any.whl (14 kB)\n",
            "Requirement already satisfied: jinja2 in /usr/local/lib/python3.7/dist-packages (from spacy) (2.11.3)\n",
            "Requirement already satisfied: wasabi<1.1.0,>=0.8.1 in /usr/local/lib/python3.7/dist-packages (from spacy) (0.8.2)\n",
            "Requirement already satisfied: requests<3.0.0,>=2.13.0 in /usr/local/lib/python3.7/dist-packages (from spacy) (2.23.0)\n",
            "Requirement already satisfied: tqdm<5.0.0,>=4.38.0 in /usr/local/lib/python3.7/dist-packages (from spacy) (4.41.1)\n",
            "Requirement already satisfied: typing-extensions<4.0.0.0,>=3.7.4 in /usr/local/lib/python3.7/dist-packages (from spacy) (3.7.4.3)\n",
            "Requirement already satisfied: murmurhash<1.1.0,>=0.28.0 in /usr/local/lib/python3.7/dist-packages (from spacy) (1.0.5)\n",
            "Requirement already satisfied: cymem<2.1.0,>=2.0.2 in /usr/local/lib/python3.7/dist-packages (from spacy) (2.0.5)\n",
            "Collecting catalogue<2.1.0,>=2.0.4\n",
            "  Downloading catalogue-2.0.4-py3-none-any.whl (16 kB)\n",
            "Collecting typer<0.4.0,>=0.3.0\n",
            "  Downloading typer-0.3.2-py3-none-any.whl (21 kB)\n",
            "Requirement already satisfied: preshed<3.1.0,>=3.0.2 in /usr/local/lib/python3.7/dist-packages (from spacy) (3.0.5)\n",
            "Collecting pydantic!=1.8,!=1.8.1,<1.9.0,>=1.7.4\n",
            "  Downloading pydantic-1.8.2-cp37-cp37m-manylinux2014_x86_64.whl (10.1 MB)\n",
            "\u001b[K     |████████████████████████████████| 10.1 MB 55.6 MB/s \n",
            "\u001b[?25hRequirement already satisfied: packaging>=20.0 in /usr/local/lib/python3.7/dist-packages (from spacy) (21.0)\n",
            "Collecting pathy>=0.3.5\n",
            "  Downloading pathy-0.6.0-py3-none-any.whl (42 kB)\n",
            "\u001b[K     |████████████████████████████████| 42 kB 1.2 MB/s \n",
            "\u001b[?25hCollecting srsly<3.0.0,>=2.4.1\n",
            "  Downloading srsly-2.4.1-cp37-cp37m-manylinux2014_x86_64.whl (456 kB)\n",
            "\u001b[K     |████████████████████████████████| 456 kB 51.7 MB/s \n",
            "\u001b[?25hRequirement already satisfied: setuptools in /usr/local/lib/python3.7/dist-packages (from spacy) (57.2.0)\n",
            "Collecting thinc<8.1.0,>=8.0.8\n",
            "  Downloading thinc-8.0.8-cp37-cp37m-manylinux_2_17_x86_64.manylinux2014_x86_64.whl (621 kB)\n",
            "\u001b[K     |████████████████████████████████| 621 kB 33.8 MB/s \n",
            "\u001b[?25hRequirement already satisfied: blis<0.8.0,>=0.4.0 in /usr/local/lib/python3.7/dist-packages (from spacy) (0.4.1)\n",
            "Requirement already satisfied: numpy>=1.15.0 in /usr/local/lib/python3.7/dist-packages (from spacy) (1.19.5)\n",
            "Requirement already satisfied: zipp>=0.5 in /usr/local/lib/python3.7/dist-packages (from catalogue<2.1.0,>=2.0.4->spacy) (3.5.0)\n",
            "Requirement already satisfied: pyparsing>=2.0.2 in /usr/local/lib/python3.7/dist-packages (from packaging>=20.0->spacy) (2.4.7)\n",
            "Requirement already satisfied: smart-open<6.0.0,>=5.0.0 in /usr/local/lib/python3.7/dist-packages (from pathy>=0.3.5->spacy) (5.1.0)\n",
            "Requirement already satisfied: urllib3!=1.25.0,!=1.25.1,<1.26,>=1.21.1 in /usr/local/lib/python3.7/dist-packages (from requests<3.0.0,>=2.13.0->spacy) (1.24.3)\n",
            "Requirement already satisfied: chardet<4,>=3.0.2 in /usr/local/lib/python3.7/dist-packages (from requests<3.0.0,>=2.13.0->spacy) (3.0.4)\n",
            "Requirement already satisfied: certifi>=2017.4.17 in /usr/local/lib/python3.7/dist-packages (from requests<3.0.0,>=2.13.0->spacy) (2021.5.30)\n",
            "Requirement already satisfied: idna<3,>=2.5 in /usr/local/lib/python3.7/dist-packages (from requests<3.0.0,>=2.13.0->spacy) (2.10)\n",
            "Requirement already satisfied: click<7.2.0,>=7.1.1 in /usr/local/lib/python3.7/dist-packages (from typer<0.4.0,>=0.3.0->spacy) (7.1.2)\n",
            "Requirement already satisfied: MarkupSafe>=0.23 in /usr/local/lib/python3.7/dist-packages (from jinja2->spacy) (2.0.1)\n",
            "Installing collected packages: catalogue, typer, srsly, pydantic, thinc, spacy-legacy, pathy, spacy\n",
            "  Attempting uninstall: catalogue\n",
            "    Found existing installation: catalogue 1.0.0\n",
            "    Uninstalling catalogue-1.0.0:\n",
            "      Successfully uninstalled catalogue-1.0.0\n",
            "  Attempting uninstall: srsly\n",
            "    Found existing installation: srsly 1.0.5\n",
            "    Uninstalling srsly-1.0.5:\n",
            "      Successfully uninstalled srsly-1.0.5\n",
            "  Attempting uninstall: thinc\n",
            "    Found existing installation: thinc 7.4.0\n",
            "    Uninstalling thinc-7.4.0:\n",
            "      Successfully uninstalled thinc-7.4.0\n",
            "  Attempting uninstall: spacy\n",
            "    Found existing installation: spacy 2.2.4\n",
            "    Uninstalling spacy-2.2.4:\n",
            "      Successfully uninstalled spacy-2.2.4\n",
            "Successfully installed catalogue-2.0.4 pathy-0.6.0 pydantic-1.8.2 spacy-3.1.1 spacy-legacy-3.0.8 srsly-2.4.1 thinc-8.0.8 typer-0.3.2\n"
          ],
          "name": "stdout"
        }
      ]
    },
    {
      "cell_type": "code",
      "metadata": {
        "colab": {
          "base_uri": "https://localhost:8080/"
        },
        "id": "6ZaGJf8WC6cH",
        "outputId": "6254d52b-e2c1-4ee2-fd2d-9ab50d3f86c6"
      },
      "source": [
        "import spacy\n",
        "import random\n",
        "from spacy.training.example import Example\n",
        "\n",
        "# Create a blank \"zh\" model\n",
        "nlp = spacy.blank(\"zh\")\n",
        "\n",
        "# Create a new entity recognizer and add it to the pipeline\n",
        "ner = nlp.create_pipe(\"ner\")\n",
        "nlp.add_pipe(\"ner\")\n",
        "\n",
        "# Add the label \"STOCK\", \"FIN\" to the entity recognizer\n",
        "ner.add_label(\"STOCK\")\n",
        "ner.add_label(\"FIN\")\n",
        "\n",
        "TRAINING_DATA = [\n",
        "  (\n",
        "    '現時恒指已跌穿重要支持位26500點來看，港股繼續尋底的機會是頗高的。',\n",
        "    {\n",
        "        'entities':\n",
        "        [\n",
        "         (2,4,'FIN'),(9,12,'FIN'),(21,23,'FIN')\n",
        "        ]\n",
        "    }\n",
        "  ),\n",
        "  (\n",
        "    '恆生指數和創業板指數。',\n",
        "    {\n",
        "      'entities': \n",
        "      [\n",
        "        (0,4,'FIN'),(5,10,'FIN')          \n",
        "      ]\n",
        "    }\n",
        "  ),  \n",
        "  (\n",
        "    '中電、匯控、和黃8月暴升8.5%。',\n",
        "    {\n",
        "      'entities': \n",
        "      [\n",
        "        (0,2,'STOCK'),(3,5,'STOCK'),(6,8,'STOCK'),(10,12,'FIN')          \n",
        "      ]\n",
        "    }\n",
        "  ),\n",
        "  (\n",
        "    '恆指小雙底9月盼反彈。中電、匯控、和黃8月齊齊跌8.5%金融海嘯後最差。',\n",
        "    {\n",
        "      'entities': \n",
        "      [\n",
        "        (0,2,'FIN'),(2,5,'FIN'),(8,10,'FIN'),(11,13,'STOCK'),(14,16,'STOCK'),(17,19,'STOCK')          \n",
        "      ]\n",
        "    }\n",
        "  ),     \n",
        "  (\n",
        "    '匯控(00005)將於下周一（2日）公布2021年度中期業績',\n",
        "    {\n",
        "        'entities':\n",
        "        [\n",
        "          (0,2,'STOCK'),(4,9,'STOCK')\n",
        "        ]\n",
        "    }\n",
        "  ),\n",
        "  (\n",
        "    '查看最新的中電股票報價、記錄、新聞及其他重要資訊，助你賣買股票及投資。',\n",
        "   {\n",
        "      'entities':\n",
        "      [\n",
        "        (21,28,'STOCK')\n",
        "      ]\n",
        "   }\n",
        "  ),\n",
        "  (\n",
        "    '美股異動受港股收跌拖累，和黃醫藥(HCM.US)低開低走跌超14%',\n",
        "    {\n",
        "        'entities':\n",
        "        [\n",
        "         (0,2,'FIN'),(5,7,'FIN'),(7,11,'FIN'),(12,16,'STOCK'),(17,23,'STOCK'),(24,28,'FIN')\n",
        "        ]\n",
        "    }\n",
        "  )\n",
        "]\n",
        "\n",
        "# Start the training\n",
        "nlp.begin_training()\n",
        "\n",
        "# Loop for n iterations\n",
        "for itn in range(30):\n",
        "    # Shuffle the training data\n",
        "    random.shuffle(TRAINING_DATA)\n",
        "    losses = {}\n",
        "\n",
        "    # Batch the examples and iterate over them\n",
        "    for batch in spacy.util.minibatch(TRAINING_DATA, size=2):\n",
        "        texts = [text for text, entities in batch]\n",
        "        annotations = [entities for text, entities in batch]\n",
        "\n",
        "        # Update the model\n",
        "        # nlp.update(texts, annotations, losses=losses)\n",
        "        example = []\n",
        "        for i in range(len(texts)):\n",
        "          doc = nlp.make_doc(texts[i])\n",
        "          example.append(Example.from_dict(doc, annotations[i]))\n",
        "        nlp.update(example,losses=losses)\n",
        "\n",
        "    print(losses)"
      ],
      "execution_count": 39,
      "outputs": [
        {
          "output_type": "stream",
          "text": [
            "{'ner': 169.9149661064148}\n",
            "{'ner': 113.48558589816093}\n",
            "{'ner': 41.480406285554636}\n",
            "{'ner': 38.413625840817986}\n",
            "{'ner': 69.50898702545237}\n",
            "{'ner': 66.84218920953572}\n",
            "{'ner': 36.15499497728888}\n",
            "{'ner': 28.97237423794104}\n",
            "{'ner': 32.383636318899846}\n",
            "{'ner': 26.520248449904997}\n",
            "{'ner': 20.04466566973774}\n",
            "{'ner': 13.950912911951136}\n",
            "{'ner': 13.275791992609939}\n",
            "{'ner': 60.62641661198313}\n",
            "{'ner': 37.89636708039751}\n",
            "{'ner': 17.03949642146722}\n",
            "{'ner': 10.1799449206043}\n",
            "{'ner': 3.425763768110445}\n",
            "{'ner': 0.5598372757727819}\n",
            "{'ner': 0.022449948781014306}\n",
            "{'ner': 0.0005771868002182857}\n",
            "{'ner': 2.790556077962703e-05}\n",
            "{'ner': 1.3315104599249664e-05}\n",
            "{'ner': 5.913699434639074e-06}\n",
            "{'ner': 2.1400140347083678e-07}\n",
            "{'ner': 1.1227047313796033e-07}\n",
            "{'ner': 3.1014642149538457e-07}\n",
            "{'ner': 9.74802766006135e-08}\n",
            "{'ner': 1.0880845534658967e-07}\n",
            "{'ner': 8.206366089180893e-08}\n"
          ],
          "name": "stdout"
        }
      ]
    },
    {
      "cell_type": "code",
      "metadata": {
        "colab": {
          "base_uri": "https://localhost:8080/",
          "height": 224
        },
        "id": "nG7-jYCqJlCC",
        "outputId": "b6ed723f-cdab-4a27-f2ec-777efd726272"
      },
      "source": [
        "texts = [\n",
        "  '中電在假期前做好帶動，恒指單日暴升961.22點。',\n",
        "  '受美股收跌拖累和黃跌超2%',\n",
        "  '智通財經獲悉，7月6日(周二)，和黃醫藥(HCM.US)低開低走'\n",
        "]\n",
        "\n",
        "for text in texts:\n",
        "  doc = nlp(text)\n",
        "  \n",
        "  # for ent in doc.ents:\n",
        "  #     print(ent.text, ent.start_char, ent.end_char, ent.label_)\n",
        "\n",
        "  from spacy import displacy\n",
        "  from IPython.core.display import display, HTML\n",
        "\n",
        "  html = displacy.render(doc,style=\"ent\")\n",
        "  display(HTML(html))\n",
        "  print('\\n')\n"
      ],
      "execution_count": 40,
      "outputs": [
        {
          "output_type": "display_data",
          "data": {
            "text/html": [
              "<div class=\"entities\" style=\"line-height: 2.5; direction: ltr\">\n",
              "<mark class=\"entity\" style=\"background: #ddd; padding: 0.45em 0.6em; margin: 0 0.25em; line-height: 1; border-radius: 0.35em;\">\n",
              "    中電\n",
              "    <span style=\"font-size: 0.8em; font-weight: bold; line-height: 1; border-radius: 0.35em; vertical-align: middle; margin-left: 0.5rem\">STOCK</span>\n",
              "</mark>\n",
              "在假期前做好帶動，\n",
              "<mark class=\"entity\" style=\"background: #ddd; padding: 0.45em 0.6em; margin: 0 0.25em; line-height: 1; border-radius: 0.35em;\">\n",
              "    恒指\n",
              "    <span style=\"font-size: 0.8em; font-weight: bold; line-height: 1; border-radius: 0.35em; vertical-align: middle; margin-left: 0.5rem\">FIN</span>\n",
              "</mark>\n",
              "單日\n",
              "<mark class=\"entity\" style=\"background: #ddd; padding: 0.45em 0.6em; margin: 0 0.25em; line-height: 1; border-radius: 0.35em;\">\n",
              "    暴升\n",
              "    <span style=\"font-size: 0.8em; font-weight: bold; line-height: 1; border-radius: 0.35em; vertical-align: middle; margin-left: 0.5rem\">FIN</span>\n",
              "</mark>\n",
              "961.22點。</div>"
            ],
            "text/plain": [
              "<IPython.core.display.HTML object>"
            ]
          },
          "metadata": {
            "tags": []
          }
        },
        {
          "output_type": "stream",
          "text": [
            "\n",
            "\n"
          ],
          "name": "stdout"
        },
        {
          "output_type": "display_data",
          "data": {
            "text/html": [
              "<div class=\"entities\" style=\"line-height: 2.5; direction: ltr\">受\n",
              "<mark class=\"entity\" style=\"background: #ddd; padding: 0.45em 0.6em; margin: 0 0.25em; line-height: 1; border-radius: 0.35em;\">\n",
              "    美股\n",
              "    <span style=\"font-size: 0.8em; font-weight: bold; line-height: 1; border-radius: 0.35em; vertical-align: middle; margin-left: 0.5rem\">FIN</span>\n",
              "</mark>\n",
              "\n",
              "<mark class=\"entity\" style=\"background: #ddd; padding: 0.45em 0.6em; margin: 0 0.25em; line-height: 1; border-radius: 0.35em;\">\n",
              "    收跌拖累\n",
              "    <span style=\"font-size: 0.8em; font-weight: bold; line-height: 1; border-radius: 0.35em; vertical-align: middle; margin-left: 0.5rem\">FIN</span>\n",
              "</mark>\n",
              "\n",
              "<mark class=\"entity\" style=\"background: #ddd; padding: 0.45em 0.6em; margin: 0 0.25em; line-height: 1; border-radius: 0.35em;\">\n",
              "    和黃跌超\n",
              "    <span style=\"font-size: 0.8em; font-weight: bold; line-height: 1; border-radius: 0.35em; vertical-align: middle; margin-left: 0.5rem\">STOCK</span>\n",
              "</mark>\n",
              "2%</div>"
            ],
            "text/plain": [
              "<IPython.core.display.HTML object>"
            ]
          },
          "metadata": {
            "tags": []
          }
        },
        {
          "output_type": "stream",
          "text": [
            "\n",
            "\n"
          ],
          "name": "stdout"
        },
        {
          "output_type": "display_data",
          "data": {
            "text/html": [
              "<div class=\"entities\" style=\"line-height: 2.5; direction: ltr\">智通財經獲悉，7月6日(\n",
              "<mark class=\"entity\" style=\"background: #ddd; padding: 0.45em 0.6em; margin: 0 0.25em; line-height: 1; border-radius: 0.35em;\">\n",
              "    周二\n",
              "    <span style=\"font-size: 0.8em; font-weight: bold; line-height: 1; border-radius: 0.35em; vertical-align: middle; margin-left: 0.5rem\">FIN</span>\n",
              "</mark>\n",
              ")，\n",
              "<mark class=\"entity\" style=\"background: #ddd; padding: 0.45em 0.6em; margin: 0 0.25em; line-height: 1; border-radius: 0.35em;\">\n",
              "    和黃醫藥\n",
              "    <span style=\"font-size: 0.8em; font-weight: bold; line-height: 1; border-radius: 0.35em; vertical-align: middle; margin-left: 0.5rem\">STOCK</span>\n",
              "</mark>\n",
              "(\n",
              "<mark class=\"entity\" style=\"background: #ddd; padding: 0.45em 0.6em; margin: 0 0.25em; line-height: 1; border-radius: 0.35em;\">\n",
              "    HCM.US\n",
              "    <span style=\"font-size: 0.8em; font-weight: bold; line-height: 1; border-radius: 0.35em; vertical-align: middle; margin-left: 0.5rem\">STOCK</span>\n",
              "</mark>\n",
              ")\n",
              "<mark class=\"entity\" style=\"background: #ddd; padding: 0.45em 0.6em; margin: 0 0.25em; line-height: 1; border-radius: 0.35em;\">\n",
              "    低開低走\n",
              "    <span style=\"font-size: 0.8em; font-weight: bold; line-height: 1; border-radius: 0.35em; vertical-align: middle; margin-left: 0.5rem\">FIN</span>\n",
              "</mark>\n",
              "</div>"
            ],
            "text/plain": [
              "<IPython.core.display.HTML object>"
            ]
          },
          "metadata": {
            "tags": []
          }
        },
        {
          "output_type": "stream",
          "text": [
            "\n",
            "\n"
          ],
          "name": "stdout"
        }
      ]
    }
  ]
}