{
  "nbformat": 4,
  "nbformat_minor": 0,
  "metadata": {
    "orig_nbformat": 4,
    "language_info": {
      "name": "python",
      "version": "3.9.7",
      "mimetype": "text/x-python",
      "codemirror_mode": {
        "name": "ipython",
        "version": 3
      },
      "pygments_lexer": "ipython3",
      "nbconvert_exporter": "python",
      "file_extension": ".py"
    },
    "kernelspec": {
      "name": "python3",
      "display_name": "Python 3.9.7 64-bit ('nlp': conda)"
    },
    "interpreter": {
      "hash": "351231c1f7e72ec05ff176d4b7814d8150b7ea6b9dc70ba3501701b8f740a37d"
    },
    "colab": {
      "name": "spaCy NER training, Entity Ruler.ipynb",
      "provenance": [],
      "collapsed_sections": [],
      "include_colab_link": true
    }
  },
  "cells": [
    {
      "cell_type": "markdown",
      "metadata": {
        "id": "view-in-github",
        "colab_type": "text"
      },
      "source": [
        "<a href=\"https://colab.research.google.com/github/raymondwcs/learning_spacy/blob/main/spaCy_NER_training%2C_Entity_Ruler.ipynb\" target=\"_parent\"><img src=\"https://colab.research.google.com/assets/colab-badge.svg\" alt=\"Open In Colab\"/></a>"
      ]
    },
    {
      "cell_type": "markdown",
      "metadata": {
        "id": "6TcIJUPPdlzC"
      },
      "source": [
        "This example demonstrates how to use rules-augmented model-based NER to locate stock codes"
      ]
    },
    {
      "cell_type": "code",
      "metadata": {
        "colab": {
          "base_uri": "https://localhost:8080/"
        },
        "id": "-xmMkwz0dVMo",
        "outputId": "f4875a13-f95e-432d-baee-29390895bf50"
      },
      "source": [
        "!pip install --quiet -U spacy\n",
        "!python -m spacy download zh_core_web_lg\n",
        "!git clone http://github.com/raymondwcs/learning_spacy"
      ],
      "execution_count": 1,
      "outputs": [
        {
          "output_type": "stream",
          "name": "stdout",
          "text": [
            "\u001b[K     |████████████████████████████████| 5.9 MB 4.5 MB/s \n",
            "\u001b[K     |████████████████████████████████| 456 kB 54.5 MB/s \n",
            "\u001b[K     |████████████████████████████████| 42 kB 1.4 MB/s \n",
            "\u001b[K     |████████████████████████████████| 10.1 MB 28.1 MB/s \n",
            "\u001b[K     |████████████████████████████████| 623 kB 69.5 MB/s \n",
            "\u001b[?25hCollecting zh-core-web-lg==3.1.0\n",
            "  Downloading https://github.com/explosion/spacy-models/releases/download/zh_core_web_lg-3.1.0/zh_core_web_lg-3.1.0-py3-none-any.whl (603.8 MB)\n",
            "\u001b[K     |████████████████████████████████| 603.8 MB 8.3 kB/s \n",
            "\u001b[?25hRequirement already satisfied: spacy<3.2.0,>=3.1.0 in /usr/local/lib/python3.7/dist-packages (from zh-core-web-lg==3.1.0) (3.1.3)\n",
            "Collecting spacy-pkuseg<0.1.0,>=0.0.27\n",
            "  Downloading spacy_pkuseg-0.0.28-cp37-cp37m-manylinux2014_x86_64.whl (2.4 MB)\n",
            "\u001b[K     |████████████████████████████████| 2.4 MB 4.8 MB/s \n",
            "\u001b[?25hRequirement already satisfied: cymem<2.1.0,>=2.0.2 in /usr/local/lib/python3.7/dist-packages (from spacy<3.2.0,>=3.1.0->zh-core-web-lg==3.1.0) (2.0.5)\n",
            "Requirement already satisfied: murmurhash<1.1.0,>=0.28.0 in /usr/local/lib/python3.7/dist-packages (from spacy<3.2.0,>=3.1.0->zh-core-web-lg==3.1.0) (1.0.5)\n",
            "Requirement already satisfied: spacy-legacy<3.1.0,>=3.0.8 in /usr/local/lib/python3.7/dist-packages (from spacy<3.2.0,>=3.1.0->zh-core-web-lg==3.1.0) (3.0.8)\n",
            "Requirement already satisfied: blis<0.8.0,>=0.4.0 in /usr/local/lib/python3.7/dist-packages (from spacy<3.2.0,>=3.1.0->zh-core-web-lg==3.1.0) (0.4.1)\n",
            "Requirement already satisfied: jinja2 in /usr/local/lib/python3.7/dist-packages (from spacy<3.2.0,>=3.1.0->zh-core-web-lg==3.1.0) (2.11.3)\n",
            "Requirement already satisfied: thinc<8.1.0,>=8.0.9 in /usr/local/lib/python3.7/dist-packages (from spacy<3.2.0,>=3.1.0->zh-core-web-lg==3.1.0) (8.0.10)\n",
            "Requirement already satisfied: preshed<3.1.0,>=3.0.2 in /usr/local/lib/python3.7/dist-packages (from spacy<3.2.0,>=3.1.0->zh-core-web-lg==3.1.0) (3.0.5)\n",
            "Requirement already satisfied: wasabi<1.1.0,>=0.8.1 in /usr/local/lib/python3.7/dist-packages (from spacy<3.2.0,>=3.1.0->zh-core-web-lg==3.1.0) (0.8.2)\n",
            "Requirement already satisfied: typer<0.5.0,>=0.3.0 in /usr/local/lib/python3.7/dist-packages (from spacy<3.2.0,>=3.1.0->zh-core-web-lg==3.1.0) (0.4.0)\n",
            "Requirement already satisfied: requests<3.0.0,>=2.13.0 in /usr/local/lib/python3.7/dist-packages (from spacy<3.2.0,>=3.1.0->zh-core-web-lg==3.1.0) (2.23.0)\n",
            "Requirement already satisfied: typing-extensions<4.0.0.0,>=3.7.4 in /usr/local/lib/python3.7/dist-packages (from spacy<3.2.0,>=3.1.0->zh-core-web-lg==3.1.0) (3.7.4.3)\n",
            "Requirement already satisfied: setuptools in /usr/local/lib/python3.7/dist-packages (from spacy<3.2.0,>=3.1.0->zh-core-web-lg==3.1.0) (57.4.0)\n",
            "Requirement already satisfied: catalogue<2.1.0,>=2.0.6 in /usr/local/lib/python3.7/dist-packages (from spacy<3.2.0,>=3.1.0->zh-core-web-lg==3.1.0) (2.0.6)\n",
            "Requirement already satisfied: tqdm<5.0.0,>=4.38.0 in /usr/local/lib/python3.7/dist-packages (from spacy<3.2.0,>=3.1.0->zh-core-web-lg==3.1.0) (4.62.2)\n",
            "Requirement already satisfied: numpy>=1.15.0 in /usr/local/lib/python3.7/dist-packages (from spacy<3.2.0,>=3.1.0->zh-core-web-lg==3.1.0) (1.19.5)\n",
            "Requirement already satisfied: packaging>=20.0 in /usr/local/lib/python3.7/dist-packages (from spacy<3.2.0,>=3.1.0->zh-core-web-lg==3.1.0) (21.0)\n",
            "Requirement already satisfied: pathy>=0.3.5 in /usr/local/lib/python3.7/dist-packages (from spacy<3.2.0,>=3.1.0->zh-core-web-lg==3.1.0) (0.6.0)\n",
            "Requirement already satisfied: srsly<3.0.0,>=2.4.1 in /usr/local/lib/python3.7/dist-packages (from spacy<3.2.0,>=3.1.0->zh-core-web-lg==3.1.0) (2.4.1)\n",
            "Requirement already satisfied: pydantic!=1.8,!=1.8.1,<1.9.0,>=1.7.4 in /usr/local/lib/python3.7/dist-packages (from spacy<3.2.0,>=3.1.0->zh-core-web-lg==3.1.0) (1.8.2)\n",
            "Requirement already satisfied: zipp>=0.5 in /usr/local/lib/python3.7/dist-packages (from catalogue<2.1.0,>=2.0.6->spacy<3.2.0,>=3.1.0->zh-core-web-lg==3.1.0) (3.5.0)\n",
            "Requirement already satisfied: pyparsing>=2.0.2 in /usr/local/lib/python3.7/dist-packages (from packaging>=20.0->spacy<3.2.0,>=3.1.0->zh-core-web-lg==3.1.0) (2.4.7)\n",
            "Requirement already satisfied: smart-open<6.0.0,>=5.0.0 in /usr/local/lib/python3.7/dist-packages (from pathy>=0.3.5->spacy<3.2.0,>=3.1.0->zh-core-web-lg==3.1.0) (5.2.1)\n",
            "Requirement already satisfied: certifi>=2017.4.17 in /usr/local/lib/python3.7/dist-packages (from requests<3.0.0,>=2.13.0->spacy<3.2.0,>=3.1.0->zh-core-web-lg==3.1.0) (2021.5.30)\n",
            "Requirement already satisfied: chardet<4,>=3.0.2 in /usr/local/lib/python3.7/dist-packages (from requests<3.0.0,>=2.13.0->spacy<3.2.0,>=3.1.0->zh-core-web-lg==3.1.0) (3.0.4)\n",
            "Requirement already satisfied: idna<3,>=2.5 in /usr/local/lib/python3.7/dist-packages (from requests<3.0.0,>=2.13.0->spacy<3.2.0,>=3.1.0->zh-core-web-lg==3.1.0) (2.10)\n",
            "Requirement already satisfied: urllib3!=1.25.0,!=1.25.1,<1.26,>=1.21.1 in /usr/local/lib/python3.7/dist-packages (from requests<3.0.0,>=2.13.0->spacy<3.2.0,>=3.1.0->zh-core-web-lg==3.1.0) (1.24.3)\n",
            "Requirement already satisfied: cython>=0.25 in /usr/local/lib/python3.7/dist-packages (from spacy-pkuseg<0.1.0,>=0.0.27->zh-core-web-lg==3.1.0) (0.29.24)\n",
            "Requirement already satisfied: click<9.0.0,>=7.1.1 in /usr/local/lib/python3.7/dist-packages (from typer<0.5.0,>=0.3.0->spacy<3.2.0,>=3.1.0->zh-core-web-lg==3.1.0) (7.1.2)\n",
            "Requirement already satisfied: MarkupSafe>=0.23 in /usr/local/lib/python3.7/dist-packages (from jinja2->spacy<3.2.0,>=3.1.0->zh-core-web-lg==3.1.0) (2.0.1)\n",
            "Installing collected packages: spacy-pkuseg, zh-core-web-lg\n",
            "Successfully installed spacy-pkuseg-0.0.28 zh-core-web-lg-3.1.0\n",
            "\u001b[38;5;2m✔ Download and installation successful\u001b[0m\n",
            "You can now load the package via spacy.load('zh_core_web_lg')\n",
            "Cloning into 'learning_spacy'...\n",
            "warning: redirecting to https://github.com/raymondwcs/learning_spacy/\n",
            "remote: Enumerating objects: 237, done.\u001b[K\n",
            "remote: Counting objects: 100% (237/237), done.\u001b[K\n",
            "remote: Compressing objects: 100% (213/213), done.\u001b[K\n",
            "remote: Total 237 (delta 135), reused 57 (delta 19), pack-reused 0\u001b[K\n",
            "Receiving objects: 100% (237/237), 66.24 MiB | 28.01 MiB/s, done.\n",
            "Resolving deltas: 100% (135/135), done.\n"
          ]
        }
      ]
    },
    {
      "cell_type": "code",
      "metadata": {
        "id": "QMcLQHQ5dAAA"
      },
      "source": [
        "import spacy\n",
        "import random\n",
        "from spacy.training.example import Example\n",
        "from spacy import displacy\n",
        "import re\n"
      ],
      "execution_count": 2,
      "outputs": []
    },
    {
      "cell_type": "code",
      "metadata": {
        "id": "-vnwMcEmdAAC"
      },
      "source": [
        "nlp = spacy.load('zh_core_web_lg')\n",
        "nlp.tokenizer.initialize(pkuseg_model=\"./learning_spacy/spacy_pkuseg/models\")"
      ],
      "execution_count": 3,
      "outputs": []
    },
    {
      "cell_type": "markdown",
      "metadata": {
        "id": "rJsI4DaOJbYi"
      },
      "source": [
        "# Part 1 - Train model-based NER"
      ]
    },
    {
      "cell_type": "markdown",
      "metadata": {
        "id": "wOkZtiKAhjnQ"
      },
      "source": [
        "## Data for training the model-based NER\n",
        "Training can also be done via CLI.  Details below.\n",
        "\n",
        "https://github.com/raymondwcs/learning_spacy/tree/main/NER_Training_CLI"
      ]
    },
    {
      "cell_type": "code",
      "metadata": {
        "id": "smi8zsDQdAAD"
      },
      "source": [
        "TRAIN_DATA = [\n",
        "    (\"一齊係國企成份股調整期間 大家一齊不問價掃貨 尤其是386 857 成份股佔指數比重只係5%左右 冇咩受新計法影響 挾死班歐美鬼佬 港股10月29000 遠必挾之\", \n",
        "        {\"entities\": [(26,29,\"STOCK\"),(30,33,\"STOCK\")]}),\n",
        "    (\"高盛：維持對騰訊(0700)買入評級 目標價705港元高盛發表報告指,與騰訊管理層於路演活動溝通後,重申對騰訊嘅積極正面睇法。\",\n",
        "        {\"entities\": [(6,8,\"STOCK\")]}),\n",
        "    (\"中電、匯控、恒大8月暴升8.5%。\",\n",
        "        {'entities': [(0,2,\"STOCK\"),(3,5,\"STOCK\"),(6,8,\"STOCK\")]}),\n",
        "    (\"匯控(00005)將於下周一（2日）公布2021年度中期業績。\",\n",
        "        {'entities': [(0,2,\"STOCK\")]}),\n",
        "    (\"中電，匯控，港交所齊齊跌8.5%金融海嘯後最差。\",\n",
        "        {\"entities\": [(0,2,\"STOCK\"),(3,5,\"STOCK\"),(6,9,\"STOCK\")]}),    \n",
        "    (\"港燈將恢復派息\",\n",
        "        {\"entities\": [(0,2,\"STOCK\")]})\n",
        "]"
      ],
      "execution_count": 4,
      "outputs": []
    },
    {
      "cell_type": "code",
      "metadata": {
        "id": "451MmG4PdAAD"
      },
      "source": [
        "ner=nlp.get_pipe(\"ner\")\n",
        "\n",
        "# Adding labels to the `ner`\n",
        "for _, annotations in TRAIN_DATA:\n",
        "  for ent in annotations.get(\"entities\"):\n",
        "    ner.add_label(ent[2])"
      ],
      "execution_count": 5,
      "outputs": []
    },
    {
      "cell_type": "markdown",
      "metadata": {
        "id": "VnyzPNiBhu5Y"
      },
      "source": [
        "## Start training"
      ]
    },
    {
      "cell_type": "code",
      "metadata": {
        "colab": {
          "base_uri": "https://localhost:8080/"
        },
        "id": "_M0x6E4HdAAE",
        "outputId": "343e3869-0318-430e-d494-f9e0e1df0d1f"
      },
      "source": [
        "epoch = 40\n",
        "optimizer = nlp.resume_training()\n",
        "\n",
        "# get names of other pipes to disable them during training\n",
        "other_pipes = [pipe for pipe in nlp.pipe_names if pipe != 'ner']\n",
        "with nlp.disable_pipes(*other_pipes):  # only train NER\n",
        "  for itn in range(epoch):\n",
        "    random.shuffle(TRAIN_DATA)\n",
        "    losses = {}\n",
        "    # batch up the examples using spaCy's minibatch\n",
        "    batches = spacy.util.minibatch(TRAIN_DATA,size=2)\n",
        "    for batch in batches:\n",
        "        texts, annotations = zip(*batch)\n",
        "        example = []\n",
        "        for i in range(len(texts)):\n",
        "          doc = nlp.make_doc(texts[i])\n",
        "          example.append(Example.from_dict(doc, annotations[i]))\n",
        "        nlp.update(example,drop=0.2,sgd=optimizer,losses=losses)\n",
        "    print(\"Losses\", losses)"
      ],
      "execution_count": 6,
      "outputs": [
        {
          "output_type": "stream",
          "name": "stdout",
          "text": [
            "Losses {'ner': 29.80569051964155}\n",
            "Losses {'ner': 21.33120996992286}\n",
            "Losses {'ner': 17.264909458008084}\n",
            "Losses {'ner': 17.34275606229609}\n",
            "Losses {'ner': 13.694723675889215}\n",
            "Losses {'ner': 12.269792577459475}\n",
            "Losses {'ner': 10.499901448728323}\n",
            "Losses {'ner': 7.881121755061969}\n",
            "Losses {'ner': 4.01600178885937}\n",
            "Losses {'ner': 4.973818328274774}\n",
            "Losses {'ner': 1.0109716565409617}\n",
            "Losses {'ner': 0.3056274061318054}\n",
            "Losses {'ner': 0.09899645444205335}\n",
            "Losses {'ner': 0.22101525751172638}\n",
            "Losses {'ner': 0.006302541398891955}\n",
            "Losses {'ner': 0.037598553872680594}\n",
            "Losses {'ner': 1.1605761572543476}\n",
            "Losses {'ner': 0.7773343336417698}\n",
            "Losses {'ner': 1.198540101539233e-06}\n",
            "Losses {'ner': 5.229506106318361e-07}\n",
            "Losses {'ner': 0.09386078555957031}\n",
            "Losses {'ner': 1.3956495924558543e-07}\n",
            "Losses {'ner': 5.3155734148987865e-06}\n",
            "Losses {'ner': 3.2438042871598963e-06}\n",
            "Losses {'ner': 2.222690839707944e-05}\n",
            "Losses {'ner': 2.6733277308265385e-07}\n",
            "Losses {'ner': 8.201469372117117e-08}\n",
            "Losses {'ner': 2.512568489053015e-06}\n",
            "Losses {'ner': 6.418421008279739e-07}\n",
            "Losses {'ner': 6.481978059887967e-07}\n",
            "Losses {'ner': 5.063035769740683e-08}\n",
            "Losses {'ner': 3.5002712407720295e-08}\n",
            "Losses {'ner': 5.5417403027386136e-08}\n",
            "Losses {'ner': 6.214336684259496e-06}\n",
            "Losses {'ner': 2.742133244492712e-06}\n",
            "Losses {'ner': 6.992920997039944e-08}\n",
            "Losses {'ner': 1.2522845863540945e-08}\n",
            "Losses {'ner': 5.793830074233932e-08}\n",
            "Losses {'ner': 5.4116130340818954e-08}\n",
            "Losses {'ner': 1.4540213601737822e-08}\n"
          ]
        }
      ]
    },
    {
      "cell_type": "markdown",
      "metadata": {
        "id": "jMezKSPYe7sN"
      },
      "source": [
        "## Debug"
      ]
    },
    {
      "cell_type": "code",
      "metadata": {
        "id": "gHvgsUX8dAAF"
      },
      "source": [
        "for text, annotations in TRAIN_DATA:\n",
        "  for ent in annotations.get(\"entities\"):\n",
        "    # print(text,ent)\n",
        "    # print(text[ent[0]:ent[1]])\n",
        "    doc = nlp(text)\n",
        "    char_span = doc.char_span(ent[0],ent[1])\n",
        "    if char_span is None:  # start and end don't map to tokens\n",
        "        print(\"Misaligned tokens\", text, ent)"
      ],
      "execution_count": 7,
      "outputs": []
    },
    {
      "cell_type": "markdown",
      "metadata": {
        "id": "CTnedeX8fDKV"
      },
      "source": [
        "## Save trained model to disk"
      ]
    },
    {
      "cell_type": "code",
      "metadata": {
        "id": "RXhK4SAvdAAG"
      },
      "source": [
        "nlp.to_disk('./ner_model')"
      ],
      "execution_count": 8,
      "outputs": []
    },
    {
      "cell_type": "markdown",
      "metadata": {
        "id": "U8mmNQm9JKL9"
      },
      "source": [
        "# Part 2"
      ]
    },
    {
      "cell_type": "markdown",
      "metadata": {
        "id": "1h3GnKT2fIlT"
      },
      "source": [
        "## Load trained model from disk"
      ]
    },
    {
      "cell_type": "code",
      "metadata": {
        "id": "_F-h5fEhMqsj"
      },
      "source": [
        "nlp = spacy.load('./ner_model')\n",
        "nlp.tokenizer.initialize(pkuseg_model=\"./learning_spacy/spacy_pkuseg/models\")"
      ],
      "execution_count": 20,
      "outputs": []
    },
    {
      "cell_type": "markdown",
      "metadata": {
        "id": "A9P4z0cBM1xj"
      },
      "source": [
        "## Define custom rules for EntityRuler"
      ]
    },
    {
      "cell_type": "code",
      "metadata": {
        "colab": {
          "base_uri": "https://localhost:8080/"
        },
        "id": "wUb-pRvAeogg",
        "outputId": "1473cd0f-24ca-4158-a8a0-ba877a41cabd"
      },
      "source": [
        "!gdown --id 1eo5O6h69_cK09oeYoy9nHp3X8OJ0hKuF"
      ],
      "execution_count": 21,
      "outputs": [
        {
          "output_type": "stream",
          "name": "stdout",
          "text": [
            "Downloading...\n",
            "From: https://drive.google.com/uc?id=1eo5O6h69_cK09oeYoy9nHp3X8OJ0hKuF\n",
            "To: /content/stockcodes.tsv\n",
            "\r  0% 0.00/55.7k [00:00<?, ?B/s]\r100% 55.7k/55.7k [00:00<00:00, 38.9MB/s]\n"
          ]
        }
      ]
    },
    {
      "cell_type": "code",
      "metadata": {
        "colab": {
          "base_uri": "https://localhost:8080/"
        },
        "id": "b_tRH7Dcw4ub",
        "outputId": "4de95e73-d081-4ffc-ac6a-eb0456252e70"
      },
      "source": [
        "from pandas import *\n",
        "\n",
        "# https://docs.google.com/spreadsheets/d/1-btKGkOo_ywPeH8qTlJL0IKF1bxeaPEKTVhAOPeYAU8/edit?usp=sharing\n",
        "data = read_csv(\"stockcodes.tsv\",delimiter=\"\\t\",dtype=str) \n",
        "\n",
        "stockcodes = data.iloc[:,0].to_list()   # STOCK\n",
        "orgs = data.iloc[:,1].to_list()         # ORG-S\n",
        "\n",
        "org_alias = ['5號仔','大笨象']           # ORG-S-A\n",
        "\n",
        "print(stockcodes[:10])\n",
        "print(orgs[:10])\n",
        "print(org_alias[:10])"
      ],
      "execution_count": 22,
      "outputs": [
        {
          "output_type": "stream",
          "name": "stdout",
          "text": [
            "['0002', '0003', '0004', '0005', '0006', '0007', '0008', '0009', '0010', '0011']\n",
            "['中電控股', '中華煤氣', '九龍倉集團', '滙豐控股', '電能實業', '凱富能源', '電訊盈科', '九號通運', '恒隆集團', '恒生銀行']\n",
            "['5號仔', '大笨象']\n"
          ]
        }
      ]
    },
    {
      "cell_type": "code",
      "metadata": {
        "id": "pTcU3mk1dAAG"
      },
      "source": [
        "patterns = [\n",
        "    {\"label\": \"ORG-S\",  \"pattern\": [{'ORTH': {'IN': orgs}}]},\n",
        "    {\"label\": \"ORG-S-A\",\"pattern\": [{'ORTH': {'IN': org_alias}}]},\n",
        "    {\"label\": \"STOCK\",  \"pattern\": [{\"IS_DIGIT\": True},{\"ORTH\":\".\"},{\"ORTH\": \"HK\"}]},\n",
        "    {\"label\": \"STOCK\",  \"pattern\": [{\"TEXT\": {\"REGEX\":\"\\d+\\.HK\"}}]},\n",
        "    {\"label\": \"STOCK\",  \"pattern\": [{\"ORTH\": \"(\"},{\"IS_DIGIT\": True},{\"ORTH\": \")\"}]},\n",
        "    {\"label\": \"STOCK2\", \"pattern\": [{\"IS_DIGIT\": True},{\"ENT_TYPE\": \"ORG-S\"}]},\n",
        "    {\"label\": \"STOCK2\", \"pattern\": [{\"POS\": \"NUM\"},{\"POS\": \"NOUN\"}]},\n",
        "    {\"label\": \"STOCK2\", \"pattern\": [{\"POS\": \"NUM\"},{\"POS\": \"PROPN\"}]},\n",
        "    {\"label\": \"STOCK3\", \"pattern\": [{'TEXT': {'IN': stockcodes}}]},\n",
        "]\n",
        "\n",
        "if \"entity_ruler\" in nlp.pipe_names:\n",
        "  nlp.remove_pipe(\"entity_ruler\")\n",
        "\n",
        "entity_ruler = nlp.add_pipe(\"entity_ruler\", before='ner')\n",
        "entity_ruler.add_patterns(patterns)"
      ],
      "execution_count": 23,
      "outputs": []
    },
    {
      "cell_type": "markdown",
      "metadata": {
        "id": "s4L-It64-Dd0"
      },
      "source": [
        "## Check stock suffix ('STOCK', 'STOCK3')"
      ]
    },
    {
      "cell_type": "code",
      "metadata": {
        "colab": {
          "base_uri": "https://localhost:8080/"
        },
        "id": "woJlgEDL-AOh",
        "outputId": "f89c7604-8262-4d57-956f-8c9dd3feb967"
      },
      "source": [
        "from spacy.language import Language\n",
        "from spacy.tokens import Span\n",
        "\n",
        "def print_ent_details(ents):\n",
        "    ent_details = []\n",
        "    for ent in ents:\n",
        "      ent_details.append([ent.text, ent.label_])\n",
        "    print('doc.ents: {}'.format(ent_details))\n",
        "\n",
        "@Language.component(\"check_stockno_suffix\")\n",
        "def remove_stockno_suffix(doc):\n",
        "    # print_ent_details(doc.ents)\n",
        "    new_ents = []\n",
        "    for i in range(len(doc.ents)):\n",
        "      if doc.ents[i].label_ == \"STOCK3\" or doc.ents[i].label_ == \"STOCK\":\n",
        "        token      = doc.ents[i]\n",
        "        next_token = doc[doc.ents[i].start+1]\n",
        "        # print('[{},{},{}]'.format(doc.ents[i].text,doc.ents[i].label_,next_token.text))\n",
        "        # print(token.text,next_token.text)\n",
        "        if  not re.search(r'[一二三四十五六七八九十零百千萬億壹貳參叄肆伍陸柒捌玖拾佰仟]+',token.text) and \\\n",
        "            not re.search(r'[蚊號]',token.text) and \\\n",
        "            not re.search(r'[元文蚊]',next_token.text):\n",
        "          new_ent = Span(doc, doc.ents[i].start, doc.ents[i].end, label=\"STOCK\")\n",
        "          new_ents.append(new_ent)\n",
        "      else:\n",
        "        new_ents.append(doc.ents[i])\n",
        "    doc.ents = new_ents\n",
        "    # print_ent_details(doc.ents)\n",
        "    return doc\n",
        "\n",
        "# Add the component after the named entity recognizer\n",
        "if \"check_stockno_suffix\" in nlp.pipe_names:\n",
        "  nlp.remove_pipe(\"check_stockno_suffix\")\n",
        "\n",
        "nlp.add_pipe(\"check_stockno_suffix\", after=\"ner\")"
      ],
      "execution_count": 24,
      "outputs": [
        {
          "output_type": "execute_result",
          "data": {
            "text/plain": [
              "<function __main__.remove_stockno_suffix>"
            ]
          },
          "metadata": {},
          "execution_count": 24
        }
      ]
    },
    {
      "cell_type": "markdown",
      "metadata": {
        "id": "AJOJnEtLcjpf"
      },
      "source": [
        "## Remove stock noun suffix ('STOCK2')"
      ]
    },
    {
      "cell_type": "code",
      "metadata": {
        "colab": {
          "base_uri": "https://localhost:8080/"
        },
        "id": "adxyitSpPqZs",
        "outputId": "bb69f6d2-87ab-4d97-863b-d787c514924b"
      },
      "source": [
        "from spacy.language import Language\n",
        "from spacy.tokens import Span\n",
        "\n",
        "@Language.component(\"remove_stockno_suffix\")\n",
        "def remove_stockno_suffix(doc):\n",
        "    new_ents = []\n",
        "    for ent in doc.ents:\n",
        "        if ent.label_ == \"STOCK2\":  #and ent.start != 0:\n",
        "            next_token = doc[ent.start + 1]\n",
        "            if next_token.pos_ == \"NOUN\" or next_token.pos_ == \"PROPN\":\n",
        "                new_ent = Span(doc, ent.start, ent.end - 1, label=\"STOCK\")\n",
        "                new_ents.append(new_ent)\n",
        "        else:\n",
        "            new_ents.append(ent)\n",
        "    doc.ents = new_ents\n",
        "    return doc\n",
        "\n",
        "# Add the component after the named entity recognizer\n",
        "if \"remove_stockno_suffix\" in nlp.pipe_names:\n",
        "  nlp.remove_pipe(\"remove_stockno_suffix\")\n",
        "\n",
        "nlp.add_pipe(\"remove_stockno_suffix\", after=\"ner\")"
      ],
      "execution_count": 25,
      "outputs": [
        {
          "output_type": "execute_result",
          "data": {
            "text/plain": [
              "<function __main__.remove_stockno_suffix>"
            ]
          },
          "metadata": {},
          "execution_count": 25
        }
      ]
    },
    {
      "cell_type": "markdown",
      "metadata": {
        "id": "-FYsX9upfqCY"
      },
      "source": [
        "# Test the trained NER model and EntityRuler"
      ]
    },
    {
      "cell_type": "code",
      "metadata": {
        "colab": {
          "base_uri": "https://localhost:8080/",
          "height": 485
        },
        "id": "BN0IKbXXdAAH",
        "outputId": "6552f996-43ec-4cc5-958a-ac8f001a4ea5"
      },
      "source": [
        "sentences = [\n",
        "  \"睇好港鐡(0066.HK)強烈建議買入 😎\",\n",
        "  \"內地疫情受控,旅遊相關股同程藝龍(780)最近區間上落橫行,大戶收集似近完成,中線支持位$13.83,可考慮作中長線投資。\",\n",
        "  \"睿見教育（6068.HK）：凈利與現金流大增超四成，估值吸引力凸顯，獲大行睇多\t隻1765都賺多幾成 升左少少就跌凸 支股即係支股  🤷 \",\n",
        "  \"密切留意鋼鐵股，581中國東方，323馬鋼，347鞍鋼，1053重鋼，2600中鋁！\",\n",
        "  '入左中女 (308)  升四成，放定加馬\tall in pk 左,起唔翻身  加一注 算, 3元走人!  贏咗購買 tesla 電車  輸咗就pk',\n",
        "  '各位愛國人仕請支持883號中海油\t有你地支持 相信中海油股價今日可以超英趕美  節節上升 多謝各位支持  883 號中海油 油中矛台 😎 ',\n",
        "  '1727 終於止跌。回升中。\t正常今日會反彈既  問題係彈完會企得穩收市嗎?  見佢買貨多過出貨  但都係俾人㩒住升5上去',\n",
        "  '5號仔大笨象有冇機會企番起身\t放心,我信佢會升上去 Ps: 33文入咗貨',\n",
        "  '981中芯國際聽日爆升！淨利潤超預期，第二季度淨利潤1.38億美元，市場預期盈利9519萬美元，舊年同期盈利1854萬美元，同比增長6.44倍\t35應該無問題 今月上返40蚊 GOGO'\n",
        "]\n",
        "\n",
        "# def replace_zh_punctuation(sentence):\n",
        "#   str = sentence\n",
        "#   str = str.replace(\"（\", \"(\")\n",
        "#   str = str.replace(\"）\", \")\")\n",
        "#   return(str)\n",
        "\n",
        "for sentence in sentences:\n",
        "  # sentence = replace_zh_punctuation(sentence)\n",
        "  doc = nlp(sentence)\n",
        "  displacy.render(doc,style='ent',jupyter=True)\n",
        "  print()"
      ],
      "execution_count": 26,
      "outputs": [
        {
          "output_type": "display_data",
          "data": {
            "text/html": [
              "<span class=\"tex2jax_ignore\"><div class=\"entities\" style=\"line-height: 2.5; direction: ltr\">睇好港鐡(\n",
              "<mark class=\"entity\" style=\"background: #ddd; padding: 0.45em 0.6em; margin: 0 0.25em; line-height: 1; border-radius: 0.35em;\">\n",
              "    0066.HK\n",
              "    <span style=\"font-size: 0.8em; font-weight: bold; line-height: 1; border-radius: 0.35em; vertical-align: middle; margin-left: 0.5rem\">STOCK</span>\n",
              "</mark>\n",
              ")強烈建議買入 😎</div></span>"
            ],
            "text/plain": [
              "<IPython.core.display.HTML object>"
            ]
          },
          "metadata": {}
        },
        {
          "output_type": "stream",
          "name": "stdout",
          "text": [
            "\n"
          ]
        },
        {
          "output_type": "display_data",
          "data": {
            "text/html": [
              "<span class=\"tex2jax_ignore\"><div class=\"entities\" style=\"line-height: 2.5; direction: ltr\">內地疫情受控,旅遊相關股同程藝龍\n",
              "<mark class=\"entity\" style=\"background: #ddd; padding: 0.45em 0.6em; margin: 0 0.25em; line-height: 1; border-radius: 0.35em;\">\n",
              "    (780)\n",
              "    <span style=\"font-size: 0.8em; font-weight: bold; line-height: 1; border-radius: 0.35em; vertical-align: middle; margin-left: 0.5rem\">STOCK</span>\n",
              "</mark>\n",
              "最近區間上落橫行,大戶收集似近完成,中線支持位$13.83,可考慮作\n",
              "<mark class=\"entity\" style=\"background: #ddd; padding: 0.45em 0.6em; margin: 0 0.25em; line-height: 1; border-radius: 0.35em;\">\n",
              "    中長線\n",
              "    <span style=\"font-size: 0.8em; font-weight: bold; line-height: 1; border-radius: 0.35em; vertical-align: middle; margin-left: 0.5rem\">STOCK</span>\n",
              "</mark>\n",
              "投資。</div></span>"
            ],
            "text/plain": [
              "<IPython.core.display.HTML object>"
            ]
          },
          "metadata": {}
        },
        {
          "output_type": "stream",
          "name": "stdout",
          "text": [
            "\n"
          ]
        },
        {
          "output_type": "display_data",
          "data": {
            "text/html": [
              "<span class=\"tex2jax_ignore\"><div class=\"entities\" style=\"line-height: 2.5; direction: ltr\">\n",
              "<mark class=\"entity\" style=\"background: #ddd; padding: 0.45em 0.6em; margin: 0 0.25em; line-height: 1; border-radius: 0.35em;\">\n",
              "    睿見\n",
              "    <span style=\"font-size: 0.8em; font-weight: bold; line-height: 1; border-radius: 0.35em; vertical-align: middle; margin-left: 0.5rem\">STOCK</span>\n",
              "</mark>\n",
              "教育（\n",
              "<mark class=\"entity\" style=\"background: #ddd; padding: 0.45em 0.6em; margin: 0 0.25em; line-height: 1; border-radius: 0.35em;\">\n",
              "    6068.HK\n",
              "    <span style=\"font-size: 0.8em; font-weight: bold; line-height: 1; border-radius: 0.35em; vertical-align: middle; margin-left: 0.5rem\">STOCK</span>\n",
              "</mark>\n",
              "）：凈利與現金流大增超四成，估值吸引力凸顯，獲大行睇多\t隻1765都賺多幾成 升左少少就跌凸 支股即係支股  🤷 </div></span>"
            ],
            "text/plain": [
              "<IPython.core.display.HTML object>"
            ]
          },
          "metadata": {}
        },
        {
          "output_type": "stream",
          "name": "stdout",
          "text": [
            "\n"
          ]
        },
        {
          "output_type": "display_data",
          "data": {
            "text/html": [
              "<span class=\"tex2jax_ignore\"><div class=\"entities\" style=\"line-height: 2.5; direction: ltr\">密切留意鋼鐵股，\n",
              "<mark class=\"entity\" style=\"background: #ddd; padding: 0.45em 0.6em; margin: 0 0.25em; line-height: 1; border-radius: 0.35em;\">\n",
              "    581\n",
              "    <span style=\"font-size: 0.8em; font-weight: bold; line-height: 1; border-radius: 0.35em; vertical-align: middle; margin-left: 0.5rem\">STOCK</span>\n",
              "</mark>\n",
              "中國東方，\n",
              "<mark class=\"entity\" style=\"background: #ddd; padding: 0.45em 0.6em; margin: 0 0.25em; line-height: 1; border-radius: 0.35em;\">\n",
              "    323\n",
              "    <span style=\"font-size: 0.8em; font-weight: bold; line-height: 1; border-radius: 0.35em; vertical-align: middle; margin-left: 0.5rem\">STOCK</span>\n",
              "</mark>\n",
              "馬鋼，347鞍鋼，\n",
              "<mark class=\"entity\" style=\"background: #ddd; padding: 0.45em 0.6em; margin: 0 0.25em; line-height: 1; border-radius: 0.35em;\">\n",
              "    1053\n",
              "    <span style=\"font-size: 0.8em; font-weight: bold; line-height: 1; border-radius: 0.35em; vertical-align: middle; margin-left: 0.5rem\">STOCK</span>\n",
              "</mark>\n",
              "重鋼，\n",
              "<mark class=\"entity\" style=\"background: #ddd; padding: 0.45em 0.6em; margin: 0 0.25em; line-height: 1; border-radius: 0.35em;\">\n",
              "    2600\n",
              "    <span style=\"font-size: 0.8em; font-weight: bold; line-height: 1; border-radius: 0.35em; vertical-align: middle; margin-left: 0.5rem\">STOCK</span>\n",
              "</mark>\n",
              "\n",
              "<mark class=\"entity\" style=\"background: #ddd; padding: 0.45em 0.6em; margin: 0 0.25em; line-height: 1; border-radius: 0.35em;\">\n",
              "    中鋁\n",
              "    <span style=\"font-size: 0.8em; font-weight: bold; line-height: 1; border-radius: 0.35em; vertical-align: middle; margin-left: 0.5rem\">STOCK</span>\n",
              "</mark>\n",
              "！</div></span>"
            ],
            "text/plain": [
              "<IPython.core.display.HTML object>"
            ]
          },
          "metadata": {}
        },
        {
          "output_type": "stream",
          "name": "stdout",
          "text": [
            "\n"
          ]
        },
        {
          "output_type": "display_data",
          "data": {
            "text/html": [
              "<span class=\"tex2jax_ignore\"><div class=\"entities\" style=\"line-height: 2.5; direction: ltr\">入左中女 \n",
              "<mark class=\"entity\" style=\"background: #ddd; padding: 0.45em 0.6em; margin: 0 0.25em; line-height: 1; border-radius: 0.35em;\">\n",
              "    (308)\n",
              "    <span style=\"font-size: 0.8em; font-weight: bold; line-height: 1; border-radius: 0.35em; vertical-align: middle; margin-left: 0.5rem\">STOCK</span>\n",
              "</mark>\n",
              "  升四成，放定加馬\tall in pk 左,起唔翻身  加一注 算, 3元走人!  贏咗購買 tesla 電車  輸咗就pk</div></span>"
            ],
            "text/plain": [
              "<IPython.core.display.HTML object>"
            ]
          },
          "metadata": {}
        },
        {
          "output_type": "stream",
          "name": "stdout",
          "text": [
            "\n"
          ]
        },
        {
          "output_type": "display_data",
          "data": {
            "text/html": [
              "<span class=\"tex2jax_ignore\"><div class=\"entities\" style=\"line-height: 2.5; direction: ltr\">各位愛國人仕請支持\n",
              "<mark class=\"entity\" style=\"background: #ddd; padding: 0.45em 0.6em; margin: 0 0.25em; line-height: 1; border-radius: 0.35em;\">\n",
              "    883\n",
              "    <span style=\"font-size: 0.8em; font-weight: bold; line-height: 1; border-radius: 0.35em; vertical-align: middle; margin-left: 0.5rem\">STOCK</span>\n",
              "</mark>\n",
              "號中海油\t有你地支持 相信\n",
              "<mark class=\"entity\" style=\"background: #ddd; padding: 0.45em 0.6em; margin: 0 0.25em; line-height: 1; border-radius: 0.35em;\">\n",
              "    中海油\n",
              "    <span style=\"font-size: 0.8em; font-weight: bold; line-height: 1; border-radius: 0.35em; vertical-align: middle; margin-left: 0.5rem\">STOCK</span>\n",
              "</mark>\n",
              "股價今日可以超英趕美  節節上升 多謝各位支持  \n",
              "<mark class=\"entity\" style=\"background: #ddd; padding: 0.45em 0.6em; margin: 0 0.25em; line-height: 1; border-radius: 0.35em;\">\n",
              "    883\n",
              "    <span style=\"font-size: 0.8em; font-weight: bold; line-height: 1; border-radius: 0.35em; vertical-align: middle; margin-left: 0.5rem\">STOCK</span>\n",
              "</mark>\n",
              " 號中海油 油中矛台 😎 </div></span>"
            ],
            "text/plain": [
              "<IPython.core.display.HTML object>"
            ]
          },
          "metadata": {}
        },
        {
          "output_type": "stream",
          "name": "stdout",
          "text": [
            "\n"
          ]
        },
        {
          "output_type": "display_data",
          "data": {
            "text/html": [
              "<span class=\"tex2jax_ignore\"><div class=\"entities\" style=\"line-height: 2.5; direction: ltr\">\n",
              "<mark class=\"entity\" style=\"background: #ddd; padding: 0.45em 0.6em; margin: 0 0.25em; line-height: 1; border-radius: 0.35em;\">\n",
              "    1727\n",
              "    <span style=\"font-size: 0.8em; font-weight: bold; line-height: 1; border-radius: 0.35em; vertical-align: middle; margin-left: 0.5rem\">STOCK</span>\n",
              "</mark>\n",
              " 終於止跌。回升中。\t正常今日會反彈既  問題係彈完會企得穩收市嗎?  見佢買貨多過出貨  但都係俾人\n",
              "<mark class=\"entity\" style=\"background: #ddd; padding: 0.45em 0.6em; margin: 0 0.25em; line-height: 1; border-radius: 0.35em;\">\n",
              "    㩒住\n",
              "    <span style=\"font-size: 0.8em; font-weight: bold; line-height: 1; border-radius: 0.35em; vertical-align: middle; margin-left: 0.5rem\">STOCK</span>\n",
              "</mark>\n",
              "升5上去</div></span>"
            ],
            "text/plain": [
              "<IPython.core.display.HTML object>"
            ]
          },
          "metadata": {}
        },
        {
          "output_type": "stream",
          "name": "stdout",
          "text": [
            "\n"
          ]
        },
        {
          "output_type": "display_data",
          "data": {
            "text/html": [
              "<span class=\"tex2jax_ignore\"><div class=\"entities\" style=\"line-height: 2.5; direction: ltr\">\n",
              "<mark class=\"entity\" style=\"background: #ddd; padding: 0.45em 0.6em; margin: 0 0.25em; line-height: 1; border-radius: 0.35em;\">\n",
              "    5號仔\n",
              "    <span style=\"font-size: 0.8em; font-weight: bold; line-height: 1; border-radius: 0.35em; vertical-align: middle; margin-left: 0.5rem\">ORG-S-A</span>\n",
              "</mark>\n",
              "\n",
              "<mark class=\"entity\" style=\"background: #ddd; padding: 0.45em 0.6em; margin: 0 0.25em; line-height: 1; border-radius: 0.35em;\">\n",
              "    大笨象\n",
              "    <span style=\"font-size: 0.8em; font-weight: bold; line-height: 1; border-radius: 0.35em; vertical-align: middle; margin-left: 0.5rem\">ORG-S-A</span>\n",
              "</mark>\n",
              "有冇機會企番起身\t放心,我信佢會升上去 \n",
              "<mark class=\"entity\" style=\"background: #ddd; padding: 0.45em 0.6em; margin: 0 0.25em; line-height: 1; border-radius: 0.35em;\">\n",
              "    Ps:\n",
              "    <span style=\"font-size: 0.8em; font-weight: bold; line-height: 1; border-radius: 0.35em; vertical-align: middle; margin-left: 0.5rem\">STOCK</span>\n",
              "</mark>\n",
              " 33文入咗貨</div></span>"
            ],
            "text/plain": [
              "<IPython.core.display.HTML object>"
            ]
          },
          "metadata": {}
        },
        {
          "output_type": "stream",
          "name": "stdout",
          "text": [
            "\n"
          ]
        },
        {
          "output_type": "display_data",
          "data": {
            "text/html": [
              "<span class=\"tex2jax_ignore\"><div class=\"entities\" style=\"line-height: 2.5; direction: ltr\">\n",
              "<mark class=\"entity\" style=\"background: #ddd; padding: 0.45em 0.6em; margin: 0 0.25em; line-height: 1; border-radius: 0.35em;\">\n",
              "    981\n",
              "    <span style=\"font-size: 0.8em; font-weight: bold; line-height: 1; border-radius: 0.35em; vertical-align: middle; margin-left: 0.5rem\">STOCK</span>\n",
              "</mark>\n",
              "中芯國際聽日爆升！淨利潤超預期，第二季度淨利潤1.38億美元，市場預期盈利9519萬美元，舊年同期盈利1854萬美元，同比增長6.44倍\t35應該無問題 今月上返40蚊 GOGO</div></span>"
            ],
            "text/plain": [
              "<IPython.core.display.HTML object>"
            ]
          },
          "metadata": {}
        },
        {
          "output_type": "stream",
          "name": "stdout",
          "text": [
            "\n"
          ]
        }
      ]
    }
  ]
}