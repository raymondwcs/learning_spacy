{
  "nbformat": 4,
  "nbformat_minor": 0,
  "metadata": {
    "orig_nbformat": 4,
    "language_info": {
      "name": "python",
      "version": "3.9.7",
      "mimetype": "text/x-python",
      "codemirror_mode": {
        "name": "ipython",
        "version": 3
      },
      "pygments_lexer": "ipython3",
      "nbconvert_exporter": "python",
      "file_extension": ".py"
    },
    "kernelspec": {
      "name": "python3",
      "display_name": "Python 3.9.7 64-bit ('nlp': conda)"
    },
    "interpreter": {
      "hash": "351231c1f7e72ec05ff176d4b7814d8150b7ea6b9dc70ba3501701b8f740a37d"
    },
    "colab": {
      "name": "spaCy NER training, Entity Ruler.ipynb",
      "provenance": [],
      "collapsed_sections": [],
      "include_colab_link": true
    }
  },
  "cells": [
    {
      "cell_type": "markdown",
      "metadata": {
        "id": "view-in-github",
        "colab_type": "text"
      },
      "source": [
        "<a href=\"https://colab.research.google.com/github/raymondwcs/learning_spacy/blob/main/spaCy_NER_training%2C_Entity_Ruler.ipynb\" target=\"_parent\"><img src=\"https://colab.research.google.com/assets/colab-badge.svg\" alt=\"Open In Colab\"/></a>"
      ]
    },
    {
      "cell_type": "markdown",
      "metadata": {
        "id": "6TcIJUPPdlzC"
      },
      "source": [
        "This example demonstrates how to use rules-augmented model-based NER to locate stock codes"
      ]
    },
    {
      "cell_type": "code",
      "metadata": {
        "colab": {
          "base_uri": "https://localhost:8080/"
        },
        "id": "-xmMkwz0dVMo",
        "outputId": "7273cca2-cb88-427d-f7cb-c7f9837ebc18"
      },
      "source": [
        "!pip install --quiet -U spacy\n",
        "!python -m spacy download zh_core_web_lg\n",
        "!git clone http://github.com/raymondwcs/learning_spacy"
      ],
      "execution_count": null,
      "outputs": [
        {
          "output_type": "stream",
          "name": "stdout",
          "text": [
            "Collecting zh-core-web-lg==3.1.0\n",
            "  Downloading https://github.com/explosion/spacy-models/releases/download/zh_core_web_lg-3.1.0/zh_core_web_lg-3.1.0-py3-none-any.whl (603.8 MB)\n",
            "\u001b[K     |████████████████████████████████| 603.8 MB 7.4 kB/s \n",
            "\u001b[?25hRequirement already satisfied: spacy<3.2.0,>=3.1.0 in /usr/local/lib/python3.7/dist-packages (from zh-core-web-lg==3.1.0) (3.1.3)\n",
            "Requirement already satisfied: spacy-pkuseg<0.1.0,>=0.0.27 in /usr/local/lib/python3.7/dist-packages (from zh-core-web-lg==3.1.0) (0.0.28)\n",
            "Requirement already satisfied: numpy>=1.15.0 in /usr/local/lib/python3.7/dist-packages (from spacy<3.2.0,>=3.1.0->zh-core-web-lg==3.1.0) (1.19.5)\n",
            "Requirement already satisfied: requests<3.0.0,>=2.13.0 in /usr/local/lib/python3.7/dist-packages (from spacy<3.2.0,>=3.1.0->zh-core-web-lg==3.1.0) (2.23.0)\n",
            "Requirement already satisfied: thinc<8.1.0,>=8.0.9 in /usr/local/lib/python3.7/dist-packages (from spacy<3.2.0,>=3.1.0->zh-core-web-lg==3.1.0) (8.0.10)\n",
            "Requirement already satisfied: preshed<3.1.0,>=3.0.2 in /usr/local/lib/python3.7/dist-packages (from spacy<3.2.0,>=3.1.0->zh-core-web-lg==3.1.0) (3.0.5)\n",
            "Requirement already satisfied: murmurhash<1.1.0,>=0.28.0 in /usr/local/lib/python3.7/dist-packages (from spacy<3.2.0,>=3.1.0->zh-core-web-lg==3.1.0) (1.0.5)\n",
            "Requirement already satisfied: packaging>=20.0 in /usr/local/lib/python3.7/dist-packages (from spacy<3.2.0,>=3.1.0->zh-core-web-lg==3.1.0) (21.0)\n",
            "Requirement already satisfied: pathy>=0.3.5 in /usr/local/lib/python3.7/dist-packages (from spacy<3.2.0,>=3.1.0->zh-core-web-lg==3.1.0) (0.6.0)\n",
            "Requirement already satisfied: jinja2 in /usr/local/lib/python3.7/dist-packages (from spacy<3.2.0,>=3.1.0->zh-core-web-lg==3.1.0) (2.11.3)\n",
            "Requirement already satisfied: wasabi<1.1.0,>=0.8.1 in /usr/local/lib/python3.7/dist-packages (from spacy<3.2.0,>=3.1.0->zh-core-web-lg==3.1.0) (0.8.2)\n",
            "Requirement already satisfied: catalogue<2.1.0,>=2.0.6 in /usr/local/lib/python3.7/dist-packages (from spacy<3.2.0,>=3.1.0->zh-core-web-lg==3.1.0) (2.0.6)\n",
            "Requirement already satisfied: typer<0.5.0,>=0.3.0 in /usr/local/lib/python3.7/dist-packages (from spacy<3.2.0,>=3.1.0->zh-core-web-lg==3.1.0) (0.4.0)\n",
            "Requirement already satisfied: blis<0.8.0,>=0.4.0 in /usr/local/lib/python3.7/dist-packages (from spacy<3.2.0,>=3.1.0->zh-core-web-lg==3.1.0) (0.4.1)\n",
            "Requirement already satisfied: srsly<3.0.0,>=2.4.1 in /usr/local/lib/python3.7/dist-packages (from spacy<3.2.0,>=3.1.0->zh-core-web-lg==3.1.0) (2.4.1)\n",
            "Requirement already satisfied: spacy-legacy<3.1.0,>=3.0.8 in /usr/local/lib/python3.7/dist-packages (from spacy<3.2.0,>=3.1.0->zh-core-web-lg==3.1.0) (3.0.8)\n",
            "Requirement already satisfied: cymem<2.1.0,>=2.0.2 in /usr/local/lib/python3.7/dist-packages (from spacy<3.2.0,>=3.1.0->zh-core-web-lg==3.1.0) (2.0.5)\n",
            "Requirement already satisfied: pydantic!=1.8,!=1.8.1,<1.9.0,>=1.7.4 in /usr/local/lib/python3.7/dist-packages (from spacy<3.2.0,>=3.1.0->zh-core-web-lg==3.1.0) (1.8.2)\n",
            "Requirement already satisfied: tqdm<5.0.0,>=4.38.0 in /usr/local/lib/python3.7/dist-packages (from spacy<3.2.0,>=3.1.0->zh-core-web-lg==3.1.0) (4.62.2)\n",
            "Requirement already satisfied: setuptools in /usr/local/lib/python3.7/dist-packages (from spacy<3.2.0,>=3.1.0->zh-core-web-lg==3.1.0) (57.4.0)\n",
            "Requirement already satisfied: typing-extensions<4.0.0.0,>=3.7.4 in /usr/local/lib/python3.7/dist-packages (from spacy<3.2.0,>=3.1.0->zh-core-web-lg==3.1.0) (3.7.4.3)\n",
            "Requirement already satisfied: zipp>=0.5 in /usr/local/lib/python3.7/dist-packages (from catalogue<2.1.0,>=2.0.6->spacy<3.2.0,>=3.1.0->zh-core-web-lg==3.1.0) (3.5.0)\n",
            "Requirement already satisfied: pyparsing>=2.0.2 in /usr/local/lib/python3.7/dist-packages (from packaging>=20.0->spacy<3.2.0,>=3.1.0->zh-core-web-lg==3.1.0) (2.4.7)\n",
            "Requirement already satisfied: smart-open<6.0.0,>=5.0.0 in /usr/local/lib/python3.7/dist-packages (from pathy>=0.3.5->spacy<3.2.0,>=3.1.0->zh-core-web-lg==3.1.0) (5.2.1)\n",
            "Requirement already satisfied: idna<3,>=2.5 in /usr/local/lib/python3.7/dist-packages (from requests<3.0.0,>=2.13.0->spacy<3.2.0,>=3.1.0->zh-core-web-lg==3.1.0) (2.10)\n",
            "Requirement already satisfied: urllib3!=1.25.0,!=1.25.1,<1.26,>=1.21.1 in /usr/local/lib/python3.7/dist-packages (from requests<3.0.0,>=2.13.0->spacy<3.2.0,>=3.1.0->zh-core-web-lg==3.1.0) (1.24.3)\n",
            "Requirement already satisfied: chardet<4,>=3.0.2 in /usr/local/lib/python3.7/dist-packages (from requests<3.0.0,>=2.13.0->spacy<3.2.0,>=3.1.0->zh-core-web-lg==3.1.0) (3.0.4)\n",
            "Requirement already satisfied: certifi>=2017.4.17 in /usr/local/lib/python3.7/dist-packages (from requests<3.0.0,>=2.13.0->spacy<3.2.0,>=3.1.0->zh-core-web-lg==3.1.0) (2021.5.30)\n",
            "Requirement already satisfied: cython>=0.25 in /usr/local/lib/python3.7/dist-packages (from spacy-pkuseg<0.1.0,>=0.0.27->zh-core-web-lg==3.1.0) (0.29.24)\n",
            "Requirement already satisfied: click<9.0.0,>=7.1.1 in /usr/local/lib/python3.7/dist-packages (from typer<0.5.0,>=0.3.0->spacy<3.2.0,>=3.1.0->zh-core-web-lg==3.1.0) (7.1.2)\n",
            "Requirement already satisfied: MarkupSafe>=0.23 in /usr/local/lib/python3.7/dist-packages (from jinja2->spacy<3.2.0,>=3.1.0->zh-core-web-lg==3.1.0) (2.0.1)\n",
            "\u001b[38;5;2m✔ Download and installation successful\u001b[0m\n",
            "You can now load the package via spacy.load('zh_core_web_lg')\n",
            "fatal: destination path 'learning_spacy' already exists and is not an empty directory.\n"
          ]
        }
      ]
    },
    {
      "cell_type": "code",
      "metadata": {
        "id": "QMcLQHQ5dAAA"
      },
      "source": [
        "import spacy\n",
        "import random\n",
        "from spacy.training.example import Example\n",
        "from spacy import displacy\n"
      ],
      "execution_count": null,
      "outputs": []
    },
    {
      "cell_type": "code",
      "metadata": {
        "id": "-vnwMcEmdAAC"
      },
      "source": [
        "nlp = spacy.load('zh_core_web_lg')\n",
        "nlp.tokenizer.initialize(pkuseg_model=\"./learning_spacy/spacy_pkuseg/models\")"
      ],
      "execution_count": null,
      "outputs": []
    },
    {
      "cell_type": "markdown",
      "metadata": {
        "id": "rJsI4DaOJbYi"
      },
      "source": [
        "# Part 1 - Train model-based NER"
      ]
    },
    {
      "cell_type": "markdown",
      "metadata": {
        "id": "wOkZtiKAhjnQ"
      },
      "source": [
        "## Data for training the model-based NER\n",
        "Training can also be done via CLI.  Details below.\n",
        "\n",
        "https://github.com/raymondwcs/learning_spacy/tree/main/NER_Training_CLI"
      ]
    },
    {
      "cell_type": "code",
      "metadata": {
        "id": "smi8zsDQdAAD"
      },
      "source": [
        "TRAIN_DATA = [\n",
        "    (\"一齊係國企成份股調整期間 大家一齊不問價掃貨 尤其是386 857 成份股佔指數比重只係5%左右 冇咩受新計法影響 挾死班歐美鬼佬 港股10月29000 遠必挾之\", \n",
        "        {\"entities\": [(26,29,\"STOCK\"),(30,33,\"STOCK\")]}),\n",
        "    (\"高盛：維持對騰訊(0700)買入評級 目標價705港元高盛發表報告指,與騰訊管理層於路演活動溝通後,重申對騰訊嘅積極正面睇法。\",\n",
        "        {\"entities\": [(6,8,\"STOCK\")]}),\n",
        "    (\"中電、匯控、恒大8月暴升8.5%。\",\n",
        "        {'entities': [(0,2,\"STOCK\"),(3,5,\"STOCK\"),(6,8,\"STOCK\")]}),\n",
        "    (\"匯控(00005)將於下周一（2日）公布2021年度中期業績。\",\n",
        "        {'entities': [(0,2,\"STOCK\")]}),\n",
        "    (\"中電，匯控，港交所齊齊跌8.5%金融海嘯後最差。\",\n",
        "        {\"entities\": [(0,2,\"STOCK\"),(3,5,\"STOCK\"),(6,9,\"STOCK\")]}),    \n",
        "    (\"港燈將恢復派息\",\n",
        "        {\"entities\": [(0,2,\"STOCK\")]})\n",
        "]"
      ],
      "execution_count": null,
      "outputs": []
    },
    {
      "cell_type": "code",
      "metadata": {
        "id": "451MmG4PdAAD"
      },
      "source": [
        "ner=nlp.get_pipe(\"ner\")\n",
        "\n",
        "# Adding labels to the `ner`\n",
        "for _, annotations in TRAIN_DATA:\n",
        "  for ent in annotations.get(\"entities\"):\n",
        "    ner.add_label(ent[2])"
      ],
      "execution_count": null,
      "outputs": []
    },
    {
      "cell_type": "markdown",
      "metadata": {
        "id": "VnyzPNiBhu5Y"
      },
      "source": [
        "## Start training"
      ]
    },
    {
      "cell_type": "code",
      "metadata": {
        "colab": {
          "base_uri": "https://localhost:8080/"
        },
        "id": "_M0x6E4HdAAE",
        "outputId": "8dd88e35-9dff-46cc-b99e-8b4ac23cfc42"
      },
      "source": [
        "epoch = 50\n",
        "optimizer = nlp.resume_training()\n",
        "\n",
        "# get names of other pipes to disable them during training\n",
        "other_pipes = [pipe for pipe in nlp.pipe_names if pipe != 'ner']\n",
        "with nlp.disable_pipes(*other_pipes):  # only train NER\n",
        "  for itn in range(epoch):\n",
        "    random.shuffle(TRAIN_DATA)\n",
        "    losses = {}\n",
        "    # batch up the examples using spaCy's minibatch\n",
        "    batches = spacy.util.minibatch(TRAIN_DATA,size=2)\n",
        "    for batch in batches:\n",
        "        texts, annotations = zip(*batch)\n",
        "        example = []\n",
        "        for i in range(len(texts)):\n",
        "          doc = nlp.make_doc(texts[i])\n",
        "          example.append(Example.from_dict(doc, annotations[i]))\n",
        "        nlp.update(example,drop=0.2,sgd=optimizer,losses=losses)\n",
        "    print(\"Losses\", losses)"
      ],
      "execution_count": null,
      "outputs": [
        {
          "output_type": "stream",
          "name": "stdout",
          "text": [
            "Losses {'ner': 29.22081877060253}\n",
            "Losses {'ner': 20.812319659989534}\n",
            "Losses {'ner': 17.220475332011787}\n",
            "Losses {'ner': 15.91984110974804}\n",
            "Losses {'ner': 13.498841282901372}\n",
            "Losses {'ner': 13.345879691526964}\n",
            "Losses {'ner': 10.313562638904095}\n",
            "Losses {'ner': 7.502196983176759}\n",
            "Losses {'ner': 5.1201089903428425}\n",
            "Losses {'ner': 3.021717614892566}\n",
            "Losses {'ner': 1.1531889246896228}\n",
            "Losses {'ner': 0.7932512694728184}\n",
            "Losses {'ner': 0.4953312555318394}\n",
            "Losses {'ner': 0.8715847934398785}\n",
            "Losses {'ner': 0.006034158273484883}\n",
            "Losses {'ner': 0.5110704447730101}\n",
            "Losses {'ner': 0.009145727409106555}\n",
            "Losses {'ner': 0.0005215870689020312}\n",
            "Losses {'ner': 0.0015148867920141624}\n",
            "Losses {'ner': 0.1883632756806436}\n",
            "Losses {'ner': 0.01183600610360027}\n",
            "Losses {'ner': 3.695664140130636e-05}\n",
            "Losses {'ner': 1.8061213582607767e-08}\n",
            "Losses {'ner': 1.586228998710864e-07}\n",
            "Losses {'ner': 8.975326498383327e-07}\n",
            "Losses {'ner': 0.00038503921729548884}\n",
            "Losses {'ner': 1.870827730154558}\n",
            "Losses {'ner': 0.00034367673075386465}\n",
            "Losses {'ner': 0.0006447614431993966}\n",
            "Losses {'ner': 3.335254038958255e-08}\n",
            "Losses {'ner': 3.567625285643526e-08}\n",
            "Losses {'ner': 4.711647362191083e-08}\n",
            "Losses {'ner': 0.0011454157806741975}\n",
            "Losses {'ner': 0.00021847882204018346}\n",
            "Losses {'ner': 0.05679758918174292}\n",
            "Losses {'ner': 5.198762753346516e-05}\n",
            "Losses {'ner': 6.123642393223637e-09}\n",
            "Losses {'ner': 1.8929808128243555e-06}\n",
            "Losses {'ner': 1.400731458487845e-08}\n",
            "Losses {'ner': 0.0004651416056059424}\n",
            "Losses {'ner': 2.0144400613108966e-07}\n",
            "Losses {'ner': 6.912665589225684e-06}\n",
            "Losses {'ner': 4.853592238521984e-08}\n",
            "Losses {'ner': 3.8950516246997845e-09}\n",
            "Losses {'ner': 5.799996875789041e-07}\n",
            "Losses {'ner': 7.62785822533477e-09}\n",
            "Losses {'ner': 1.492154950477301e-10}\n",
            "Losses {'ner': 9.028532821889225e-09}\n",
            "Losses {'ner': 4.7530861656301046e-07}\n",
            "Losses {'ner': 2.2522728325088488e-08}\n"
          ]
        }
      ]
    },
    {
      "cell_type": "markdown",
      "metadata": {
        "id": "jMezKSPYe7sN"
      },
      "source": [
        "## Debug"
      ]
    },
    {
      "cell_type": "code",
      "metadata": {
        "id": "gHvgsUX8dAAF"
      },
      "source": [
        "for text, annotations in TRAIN_DATA:\n",
        "  for ent in annotations.get(\"entities\"):\n",
        "    # print(text,ent)\n",
        "    # print(text[ent[0]:ent[1]])\n",
        "    doc = nlp(text)\n",
        "    char_span = doc.char_span(ent[0],ent[1])\n",
        "    if char_span is None:  # start and end don't map to tokens\n",
        "        print(\"Misaligned tokens\", text, ent)"
      ],
      "execution_count": null,
      "outputs": []
    },
    {
      "cell_type": "markdown",
      "metadata": {
        "id": "CTnedeX8fDKV"
      },
      "source": [
        "## Save trained model to disk"
      ]
    },
    {
      "cell_type": "code",
      "metadata": {
        "id": "RXhK4SAvdAAG"
      },
      "source": [
        "nlp.to_disk('./ner_model')"
      ],
      "execution_count": null,
      "outputs": []
    },
    {
      "cell_type": "markdown",
      "metadata": {
        "id": "U8mmNQm9JKL9"
      },
      "source": [
        "# Part 2"
      ]
    },
    {
      "cell_type": "markdown",
      "metadata": {
        "id": "1h3GnKT2fIlT"
      },
      "source": [
        "## Load trained model from disk"
      ]
    },
    {
      "cell_type": "code",
      "metadata": {
        "id": "_F-h5fEhMqsj"
      },
      "source": [
        "nlp = spacy.load('./ner_model')\n",
        "nlp.tokenizer.initialize(pkuseg_model=\"./learning_spacy/spacy_pkuseg/models\")"
      ],
      "execution_count": null,
      "outputs": []
    },
    {
      "cell_type": "markdown",
      "metadata": {
        "id": "A9P4z0cBM1xj"
      },
      "source": [
        "## Define custom rules for EntityRuler"
      ]
    },
    {
      "cell_type": "code",
      "metadata": {
        "colab": {
          "base_uri": "https://localhost:8080/"
        },
        "id": "b_tRH7Dcw4ub",
        "outputId": "fa7da13f-1664-4031-e80c-9c4510cb89d0"
      },
      "source": [
        "from pandas import *\n",
        "\n",
        "# stockcodes.csv\n",
        "# https://drive.google.com/file/d/1LSAu7fJkNXHqsSbPQmBMc-T3hUQaVO4a/view?usp=sharing\n",
        "data = read_csv(\"stockcodes.csv\",dtype=str) \n",
        "\n",
        "stockcodes = data.iloc[:,1].to_list()   # STOCK\n",
        "orgs = data.iloc[:,2].to_list()         # ORG\n",
        "\n",
        "org_alias = ['5號仔','大笨象','中女']     # ORG-A\n",
        "\n",
        "print(stockcodes[:10])\n",
        "print(orgs[:10])"
      ],
      "execution_count": null,
      "outputs": [
        {
          "output_type": "stream",
          "name": "stdout",
          "text": [
            "['2', '3', '4', '5', '6', '8', '10', '11', '12', '14']\n",
            "['中電控股', '香港中華煤氣', '九龍倉集團', '匯豐控股', '電能實業', '電訊盈科', '恒隆集團', '恒生銀行', '恒基地產', '希慎興業']\n"
          ]
        }
      ]
    },
    {
      "cell_type": "code",
      "metadata": {
        "id": "pTcU3mk1dAAG"
      },
      "source": [
        "patterns = [\n",
        "    {\"label\": \"STOCK\", \"pattern\": [{\"IS_DIGIT\": True},{\"ORTH\":\".\"},{\"ORTH\": \"HK\"}]},\n",
        "    {\"label\": \"STOCK\", \"pattern\": [{\"TEXT\": {\"REGEX\":\"\\d+\\.HK\"}}]},\n",
        "    {\"label\": \"STOCK\", \"pattern\": [{\"ORTH\": \"(\"},{\"IS_DIGIT\": True},{\"ORTH\": \")\"}]},\n",
        "    {\"label\": \"STOCK3\", \"pattern\": [{'TEXT': {'IN': stockcodes}}]},\n",
        "    {\"label\": \"ORG\", \"pattern\": [{'ORTH': {'IN': orgs}}]},\n",
        "    {\"label\": \"ORG-A\", \"pattern\": [{'ORTH': {'IN': org_alias}}]},\n",
        "    {\"label\": \"STOCK\", \"pattern\": [{\"IS_DIGIT\": True},{\"ENT_TYPE\": \"ORG\"}]},\n",
        "    {\"label\": \"STOCK2\", \"pattern\": [{\"POS\": \"NUM\"},{\"POS\": \"NOUN\"}]},\n",
        "]\n",
        "\n",
        "if \"entity_ruler\" in nlp.pipe_names:\n",
        "  nlp.remove_pipe(\"entity_ruler\")\n",
        "\n",
        "entity_ruler = nlp.add_pipe(\"entity_ruler\", before='ner')\n",
        "entity_ruler.add_patterns(patterns)"
      ],
      "execution_count": null,
      "outputs": []
    },
    {
      "cell_type": "markdown",
      "metadata": {
        "id": "s4L-It64-Dd0"
      },
      "source": [
        "## Check stockcode suffix (entity label 'STOCK3')"
      ]
    },
    {
      "cell_type": "code",
      "metadata": {
        "colab": {
          "base_uri": "https://localhost:8080/"
        },
        "id": "woJlgEDL-AOh",
        "outputId": "821e3709-c3ad-494e-83c7-8a824f521c02"
      },
      "source": [
        "from spacy.language import Language\n",
        "from spacy.tokens import Span\n",
        "\n",
        "@Language.component(\"check_stockno_suffix\")\n",
        "def remove_stockno_suffix(doc):\n",
        "    # print('doc.ents: ', doc.ents)\n",
        "    new_ents = []\n",
        "    for i in range(len(doc.ents)):\n",
        "      if doc.ents[i].label_ == \"STOCK3\":\n",
        "        next_token = doc[doc.ents[i].start+1]\n",
        "        # print('[{},{},{}]'.format(doc.ents[i].text,doc.ents[i].label_,next_token.text))\n",
        "        if next_token.text != \"元\":\n",
        "          new_ent = Span(doc, doc.ents[i].start, doc.ents[i].end, label=\"STOCK\")\n",
        "          new_ents.append(doc.ents[i])\n",
        "      else:\n",
        "        new_ents.append(doc.ents[i])\n",
        "    doc.ents = new_ents\n",
        "    # print('doc.ents: ', doc.ents)\n",
        "    return doc\n",
        "\n",
        "# Add the component after the named entity recognizer\n",
        "if \"check_stockno_suffix\" in nlp.pipe_names:\n",
        "  nlp.remove_pipe(\"check_stockno_suffix\")\n",
        "\n",
        "nlp.add_pipe(\"check_stockno_suffix\", after=\"ner\")"
      ],
      "execution_count": null,
      "outputs": [
        {
          "output_type": "execute_result",
          "data": {
            "text/plain": [
              "<function __main__.remove_stockno_suffix>"
            ]
          },
          "metadata": {},
          "execution_count": 80
        }
      ]
    },
    {
      "cell_type": "markdown",
      "metadata": {
        "id": "AJOJnEtLcjpf"
      },
      "source": [
        "## Remove the noun suffix (entity label 'STOCK2')"
      ]
    },
    {
      "cell_type": "code",
      "metadata": {
        "colab": {
          "base_uri": "https://localhost:8080/"
        },
        "id": "adxyitSpPqZs",
        "outputId": "6913d109-4f9c-4ba4-b1e3-30a41cafe263"
      },
      "source": [
        "from spacy.language import Language\n",
        "from spacy.tokens import Span\n",
        "\n",
        "@Language.component(\"remove_stockno_suffix\")\n",
        "def remove_stockno_suffix(doc):\n",
        "    new_ents = []\n",
        "    for ent in doc.ents:\n",
        "        if ent.label_ == \"STOCK2\":  #and ent.start != 0:\n",
        "            next_token = doc[ent.start + 1]\n",
        "            if next_token.pos_ == \"NOUN\":\n",
        "                new_ent = Span(doc, ent.start, ent.end - 1, label=\"STOCK\")\n",
        "                new_ents.append(new_ent)\n",
        "        else:\n",
        "            new_ents.append(ent)\n",
        "    doc.ents = new_ents\n",
        "    return doc\n",
        "\n",
        "# Add the component after the named entity recognizer\n",
        "if \"remove_stockno_suffix\" in nlp.pipe_names:\n",
        "  nlp.remove_pipe(\"remove_stockno_suffix\")\n",
        "\n",
        "nlp.add_pipe(\"remove_stockno_suffix\", after=\"ner\")"
      ],
      "execution_count": null,
      "outputs": [
        {
          "output_type": "execute_result",
          "data": {
            "text/plain": [
              "<function __main__.remove_stockno_suffix>"
            ]
          },
          "metadata": {},
          "execution_count": 81
        }
      ]
    },
    {
      "cell_type": "markdown",
      "metadata": {
        "id": "-FYsX9upfqCY"
      },
      "source": [
        "# Test the trained NER model and EntityRuler"
      ]
    },
    {
      "cell_type": "code",
      "metadata": {
        "colab": {
          "base_uri": "https://localhost:8080/",
          "height": 192
        },
        "id": "BN0IKbXXdAAH",
        "outputId": "0e1db2db-3eb5-4d57-999f-73e62d57a135"
      },
      "source": [
        "sentences = [\n",
        "  \"睇好港鐡(0066.HK)強烈建議買入 😎\",\n",
        "  \"內地疫情受控,旅遊相關股同程藝龍(780)最近區間上落橫行,大戶收集似近完成,中線支持位$13.83,可考慮作中長線投資。\",\n",
        "  \"睿見教育（6068.HK）：凈利與現金流大增超四成，估值吸引力凸顯，獲大行睇多\t隻1765都賺多幾成 升左少少就跌凸 支股即係支股  🤷 \",\n",
        "  \"密切留意鋼鐵股，581中國東方，323馬鋼，347鞍鋼，1053重鋼，2600中鋁！\",\n",
        "  '入左中女 (308)  升四成，放定加馬\tall in pk 左,起唔翻身  加一注 算, 3元走人!  贏咗購買 tesla 電車  輸咗就pk'\n",
        "]\n",
        "\n",
        "# def replace_zh_punctuation(sentence):\n",
        "#   str = sentence\n",
        "#   str = str.replace(\"（\", \"(\")\n",
        "#   str = str.replace(\"）\", \")\")\n",
        "#   return(str)\n",
        "\n",
        "for sentence in sentences:\n",
        "  # sentence = replace_zh_punctuation(sentence)\n",
        "  doc = nlp(sentence)\n",
        "  displacy.render(doc,style='ent',jupyter=True)"
      ],
      "execution_count": null,
      "outputs": [
        {
          "output_type": "display_data",
          "data": {
            "text/html": [
              "<span class=\"tex2jax_ignore\"><div class=\"entities\" style=\"line-height: 2.5; direction: ltr\">睇好港鐡(\n",
              "<mark class=\"entity\" style=\"background: #ddd; padding: 0.45em 0.6em; margin: 0 0.25em; line-height: 1; border-radius: 0.35em;\">\n",
              "    0066.HK\n",
              "    <span style=\"font-size: 0.8em; font-weight: bold; line-height: 1; border-radius: 0.35em; vertical-align: middle; margin-left: 0.5rem\">STOCK</span>\n",
              "</mark>\n",
              ")強烈建議買入 😎</div></span>"
            ],
            "text/plain": [
              "<IPython.core.display.HTML object>"
            ]
          },
          "metadata": {}
        },
        {
          "output_type": "display_data",
          "data": {
            "text/html": [
              "<span class=\"tex2jax_ignore\"><div class=\"entities\" style=\"line-height: 2.5; direction: ltr\">內地疫情受控,旅遊相關股同程藝龍\n",
              "<mark class=\"entity\" style=\"background: #ddd; padding: 0.45em 0.6em; margin: 0 0.25em; line-height: 1; border-radius: 0.35em;\">\n",
              "    (780)\n",
              "    <span style=\"font-size: 0.8em; font-weight: bold; line-height: 1; border-radius: 0.35em; vertical-align: middle; margin-left: 0.5rem\">STOCK</span>\n",
              "</mark>\n",
              "最近區間上落橫行,大戶收集似近完成,中線支持位$13.83,可考慮作\n",
              "<mark class=\"entity\" style=\"background: #ddd; padding: 0.45em 0.6em; margin: 0 0.25em; line-height: 1; border-radius: 0.35em;\">\n",
              "    中長線\n",
              "    <span style=\"font-size: 0.8em; font-weight: bold; line-height: 1; border-radius: 0.35em; vertical-align: middle; margin-left: 0.5rem\">STOCK</span>\n",
              "</mark>\n",
              "投資。</div></span>"
            ],
            "text/plain": [
              "<IPython.core.display.HTML object>"
            ]
          },
          "metadata": {}
        },
        {
          "output_type": "display_data",
          "data": {
            "text/html": [
              "<span class=\"tex2jax_ignore\"><div class=\"entities\" style=\"line-height: 2.5; direction: ltr\">\n",
              "<mark class=\"entity\" style=\"background: #ddd; padding: 0.45em 0.6em; margin: 0 0.25em; line-height: 1; border-radius: 0.35em;\">\n",
              "    睿見\n",
              "    <span style=\"font-size: 0.8em; font-weight: bold; line-height: 1; border-radius: 0.35em; vertical-align: middle; margin-left: 0.5rem\">STOCK</span>\n",
              "</mark>\n",
              "教育（\n",
              "<mark class=\"entity\" style=\"background: #ddd; padding: 0.45em 0.6em; margin: 0 0.25em; line-height: 1; border-radius: 0.35em;\">\n",
              "    6068.HK\n",
              "    <span style=\"font-size: 0.8em; font-weight: bold; line-height: 1; border-radius: 0.35em; vertical-align: middle; margin-left: 0.5rem\">STOCK</span>\n",
              "</mark>\n",
              "）：凈利與現金流大增超四成，估值吸引力凸顯，獲大行睇多\t隻\n",
              "<mark class=\"entity\" style=\"background: #ddd; padding: 0.45em 0.6em; margin: 0 0.25em; line-height: 1; border-radius: 0.35em;\">\n",
              "    1765\n",
              "    <span style=\"font-size: 0.8em; font-weight: bold; line-height: 1; border-radius: 0.35em; vertical-align: middle; margin-left: 0.5rem\">STOCK3</span>\n",
              "</mark>\n",
              "都賺多幾成 升左少少就跌凸 支股即係支股  🤷 </div></span>"
            ],
            "text/plain": [
              "<IPython.core.display.HTML object>"
            ]
          },
          "metadata": {}
        },
        {
          "output_type": "display_data",
          "data": {
            "text/html": [
              "<span class=\"tex2jax_ignore\"><div class=\"entities\" style=\"line-height: 2.5; direction: ltr\">密切留意鋼鐵股，\n",
              "<mark class=\"entity\" style=\"background: #ddd; padding: 0.45em 0.6em; margin: 0 0.25em; line-height: 1; border-radius: 0.35em;\">\n",
              "    581\n",
              "    <span style=\"font-size: 0.8em; font-weight: bold; line-height: 1; border-radius: 0.35em; vertical-align: middle; margin-left: 0.5rem\">STOCK</span>\n",
              "</mark>\n",
              "中國東方，\n",
              "<mark class=\"entity\" style=\"background: #ddd; padding: 0.45em 0.6em; margin: 0 0.25em; line-height: 1; border-radius: 0.35em;\">\n",
              "    323\n",
              "    <span style=\"font-size: 0.8em; font-weight: bold; line-height: 1; border-radius: 0.35em; vertical-align: middle; margin-left: 0.5rem\">STOCK</span>\n",
              "</mark>\n",
              "馬鋼，\n",
              "<mark class=\"entity\" style=\"background: #ddd; padding: 0.45em 0.6em; margin: 0 0.25em; line-height: 1; border-radius: 0.35em;\">\n",
              "    347\n",
              "    <span style=\"font-size: 0.8em; font-weight: bold; line-height: 1; border-radius: 0.35em; vertical-align: middle; margin-left: 0.5rem\">STOCK3</span>\n",
              "</mark>\n",
              "鞍鋼，\n",
              "<mark class=\"entity\" style=\"background: #ddd; padding: 0.45em 0.6em; margin: 0 0.25em; line-height: 1; border-radius: 0.35em;\">\n",
              "    1053\n",
              "    <span style=\"font-size: 0.8em; font-weight: bold; line-height: 1; border-radius: 0.35em; vertical-align: middle; margin-left: 0.5rem\">STOCK</span>\n",
              "</mark>\n",
              "重鋼，\n",
              "<mark class=\"entity\" style=\"background: #ddd; padding: 0.45em 0.6em; margin: 0 0.25em; line-height: 1; border-radius: 0.35em;\">\n",
              "    2600\n",
              "    <span style=\"font-size: 0.8em; font-weight: bold; line-height: 1; border-radius: 0.35em; vertical-align: middle; margin-left: 0.5rem\">STOCK3</span>\n",
              "</mark>\n",
              "\n",
              "<mark class=\"entity\" style=\"background: #ddd; padding: 0.45em 0.6em; margin: 0 0.25em; line-height: 1; border-radius: 0.35em;\">\n",
              "    中鋁\n",
              "    <span style=\"font-size: 0.8em; font-weight: bold; line-height: 1; border-radius: 0.35em; vertical-align: middle; margin-left: 0.5rem\">STOCK</span>\n",
              "</mark>\n",
              "！</div></span>"
            ],
            "text/plain": [
              "<IPython.core.display.HTML object>"
            ]
          },
          "metadata": {}
        },
        {
          "output_type": "display_data",
          "data": {
            "text/html": [
              "<span class=\"tex2jax_ignore\"><div class=\"entities\" style=\"line-height: 2.5; direction: ltr\">入左\n",
              "<mark class=\"entity\" style=\"background: #ddd; padding: 0.45em 0.6em; margin: 0 0.25em; line-height: 1; border-radius: 0.35em;\">\n",
              "    中女\n",
              "    <span style=\"font-size: 0.8em; font-weight: bold; line-height: 1; border-radius: 0.35em; vertical-align: middle; margin-left: 0.5rem\">ORG-A</span>\n",
              "</mark>\n",
              " \n",
              "<mark class=\"entity\" style=\"background: #ddd; padding: 0.45em 0.6em; margin: 0 0.25em; line-height: 1; border-radius: 0.35em;\">\n",
              "    (308)\n",
              "    <span style=\"font-size: 0.8em; font-weight: bold; line-height: 1; border-radius: 0.35em; vertical-align: middle; margin-left: 0.5rem\">STOCK</span>\n",
              "</mark>\n",
              "  升四成，放定加馬\tall in pk 左,起唔翻身  加一注 算, 3元走人!  贏咗購買 tesla 電車  輸咗就pk</div></span>"
            ],
            "text/plain": [
              "<IPython.core.display.HTML object>"
            ]
          },
          "metadata": {}
        }
      ]
    }
  ]
}