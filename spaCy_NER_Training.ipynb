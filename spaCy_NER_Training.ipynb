{
  "nbformat": 4,
  "nbformat_minor": 0,
  "metadata": {
    "colab": {
      "name": "spaCy NER Training.ipynb",
      "provenance": [],
      "authorship_tag": "ABX9TyPsdckYs3om15nZrZR3MUdw",
      "include_colab_link": true
    },
    "kernelspec": {
      "name": "python3",
      "display_name": "Python 3"
    },
    "language_info": {
      "name": "python"
    }
  },
  "cells": [
    {
      "cell_type": "markdown",
      "metadata": {
        "id": "view-in-github",
        "colab_type": "text"
      },
      "source": [
        "<a href=\"https://colab.research.google.com/github/raymondwcs/learning_spacy/blob/main/spaCy_NER_Training.ipynb\" target=\"_parent\"><img src=\"https://colab.research.google.com/assets/colab-badge.svg\" alt=\"Open In Colab\"/></a>"
      ]
    },
    {
      "cell_type": "code",
      "metadata": {
        "colab": {
          "base_uri": "https://localhost:8080/"
        },
        "id": "WtT8ae0ZjmTJ",
        "outputId": "1e806cc1-e2b6-4425-b3de-e9607deb0ad9"
      },
      "source": [
        "!pip install -U --quiet spacy\n",
        "!pip install \"spacy-pkuseg>=0.0.27,<0.1.0\"\n",
        "!python -m spacy download zh_core_web_lg\n",
        "# !wget https://github.com/explosion/spacy-models/releases/download/zh_core_web_md-3.1.0/zh_core_web_md-3.1.0.tar.gz\n",
        "# !tar xvfz zh_core_web_md-3.1.0.tar.gz\n",
        "# !python -m spacy download zh_core_web_trf"
      ],
      "execution_count": 1,
      "outputs": [
        {
          "output_type": "stream",
          "text": [
            "\u001b[K     |████████████████████████████████| 6.4 MB 12.9 MB/s \n",
            "\u001b[K     |████████████████████████████████| 42 kB 1.2 MB/s \n",
            "\u001b[K     |████████████████████████████████| 621 kB 49.6 MB/s \n",
            "\u001b[K     |████████████████████████████████| 10.1 MB 44.8 MB/s \n",
            "\u001b[K     |████████████████████████████████| 456 kB 47.0 MB/s \n",
            "\u001b[?25hCollecting spacy-pkuseg<0.1.0,>=0.0.27\n",
            "  Downloading spacy_pkuseg-0.0.28-cp37-cp37m-manylinux2014_x86_64.whl (2.4 MB)\n",
            "\u001b[K     |████████████████████████████████| 2.4 MB 15.7 MB/s \n",
            "\u001b[?25hRequirement already satisfied: cython>=0.25 in /usr/local/lib/python3.7/dist-packages (from spacy-pkuseg<0.1.0,>=0.0.27) (0.29.23)\n",
            "Requirement already satisfied: srsly<3.0.0,>=2.3.0 in /usr/local/lib/python3.7/dist-packages (from spacy-pkuseg<0.1.0,>=0.0.27) (2.4.1)\n",
            "Requirement already satisfied: numpy>=1.16.0 in /usr/local/lib/python3.7/dist-packages (from spacy-pkuseg<0.1.0,>=0.0.27) (1.19.5)\n",
            "Requirement already satisfied: catalogue<2.1.0,>=2.0.1 in /usr/local/lib/python3.7/dist-packages (from srsly<3.0.0,>=2.3.0->spacy-pkuseg<0.1.0,>=0.0.27) (2.0.4)\n",
            "Requirement already satisfied: zipp>=0.5 in /usr/local/lib/python3.7/dist-packages (from catalogue<2.1.0,>=2.0.1->srsly<3.0.0,>=2.3.0->spacy-pkuseg<0.1.0,>=0.0.27) (3.5.0)\n",
            "Requirement already satisfied: typing-extensions>=3.6.4 in /usr/local/lib/python3.7/dist-packages (from catalogue<2.1.0,>=2.0.1->srsly<3.0.0,>=2.3.0->spacy-pkuseg<0.1.0,>=0.0.27) (3.7.4.3)\n",
            "Installing collected packages: spacy-pkuseg\n",
            "Successfully installed spacy-pkuseg-0.0.28\n",
            "2021-08-10 23:26:50.715307: I tensorflow/stream_executor/platform/default/dso_loader.cc:53] Successfully opened dynamic library libcudart.so.11.0\n",
            "Collecting zh-core-web-lg==3.1.0\n",
            "  Downloading https://github.com/explosion/spacy-models/releases/download/zh_core_web_lg-3.1.0/zh_core_web_lg-3.1.0-py3-none-any.whl (603.8 MB)\n",
            "\u001b[K     |████████████████████████████████| 603.8 MB 7.2 kB/s \n",
            "\u001b[?25hRequirement already satisfied: spacy<3.2.0,>=3.1.0 in /usr/local/lib/python3.7/dist-packages (from zh-core-web-lg==3.1.0) (3.1.1)\n",
            "Requirement already satisfied: spacy-pkuseg<0.1.0,>=0.0.27 in /usr/local/lib/python3.7/dist-packages (from zh-core-web-lg==3.1.0) (0.0.28)\n",
            "Requirement already satisfied: tqdm<5.0.0,>=4.38.0 in /usr/local/lib/python3.7/dist-packages (from spacy<3.2.0,>=3.1.0->zh-core-web-lg==3.1.0) (4.41.1)\n",
            "Requirement already satisfied: jinja2 in /usr/local/lib/python3.7/dist-packages (from spacy<3.2.0,>=3.1.0->zh-core-web-lg==3.1.0) (2.11.3)\n",
            "Requirement already satisfied: cymem<2.1.0,>=2.0.2 in /usr/local/lib/python3.7/dist-packages (from spacy<3.2.0,>=3.1.0->zh-core-web-lg==3.1.0) (2.0.5)\n",
            "Requirement already satisfied: murmurhash<1.1.0,>=0.28.0 in /usr/local/lib/python3.7/dist-packages (from spacy<3.2.0,>=3.1.0->zh-core-web-lg==3.1.0) (1.0.5)\n",
            "Requirement already satisfied: preshed<3.1.0,>=3.0.2 in /usr/local/lib/python3.7/dist-packages (from spacy<3.2.0,>=3.1.0->zh-core-web-lg==3.1.0) (3.0.5)\n",
            "Requirement already satisfied: requests<3.0.0,>=2.13.0 in /usr/local/lib/python3.7/dist-packages (from spacy<3.2.0,>=3.1.0->zh-core-web-lg==3.1.0) (2.23.0)\n",
            "Requirement already satisfied: typing-extensions<4.0.0.0,>=3.7.4 in /usr/local/lib/python3.7/dist-packages (from spacy<3.2.0,>=3.1.0->zh-core-web-lg==3.1.0) (3.7.4.3)\n",
            "Requirement already satisfied: numpy>=1.15.0 in /usr/local/lib/python3.7/dist-packages (from spacy<3.2.0,>=3.1.0->zh-core-web-lg==3.1.0) (1.19.5)\n",
            "Requirement already satisfied: wasabi<1.1.0,>=0.8.1 in /usr/local/lib/python3.7/dist-packages (from spacy<3.2.0,>=3.1.0->zh-core-web-lg==3.1.0) (0.8.2)\n",
            "Requirement already satisfied: catalogue<2.1.0,>=2.0.4 in /usr/local/lib/python3.7/dist-packages (from spacy<3.2.0,>=3.1.0->zh-core-web-lg==3.1.0) (2.0.4)\n",
            "Requirement already satisfied: blis<0.8.0,>=0.4.0 in /usr/local/lib/python3.7/dist-packages (from spacy<3.2.0,>=3.1.0->zh-core-web-lg==3.1.0) (0.4.1)\n",
            "Requirement already satisfied: packaging>=20.0 in /usr/local/lib/python3.7/dist-packages (from spacy<3.2.0,>=3.1.0->zh-core-web-lg==3.1.0) (21.0)\n",
            "Requirement already satisfied: srsly<3.0.0,>=2.4.1 in /usr/local/lib/python3.7/dist-packages (from spacy<3.2.0,>=3.1.0->zh-core-web-lg==3.1.0) (2.4.1)\n",
            "Requirement already satisfied: thinc<8.1.0,>=8.0.8 in /usr/local/lib/python3.7/dist-packages (from spacy<3.2.0,>=3.1.0->zh-core-web-lg==3.1.0) (8.0.8)\n",
            "Requirement already satisfied: pydantic!=1.8,!=1.8.1,<1.9.0,>=1.7.4 in /usr/local/lib/python3.7/dist-packages (from spacy<3.2.0,>=3.1.0->zh-core-web-lg==3.1.0) (1.8.2)\n",
            "Requirement already satisfied: spacy-legacy<3.1.0,>=3.0.7 in /usr/local/lib/python3.7/dist-packages (from spacy<3.2.0,>=3.1.0->zh-core-web-lg==3.1.0) (3.0.8)\n",
            "Requirement already satisfied: typer<0.4.0,>=0.3.0 in /usr/local/lib/python3.7/dist-packages (from spacy<3.2.0,>=3.1.0->zh-core-web-lg==3.1.0) (0.3.2)\n",
            "Requirement already satisfied: pathy>=0.3.5 in /usr/local/lib/python3.7/dist-packages (from spacy<3.2.0,>=3.1.0->zh-core-web-lg==3.1.0) (0.6.0)\n",
            "Requirement already satisfied: setuptools in /usr/local/lib/python3.7/dist-packages (from spacy<3.2.0,>=3.1.0->zh-core-web-lg==3.1.0) (57.2.0)\n",
            "Requirement already satisfied: zipp>=0.5 in /usr/local/lib/python3.7/dist-packages (from catalogue<2.1.0,>=2.0.4->spacy<3.2.0,>=3.1.0->zh-core-web-lg==3.1.0) (3.5.0)\n",
            "Requirement already satisfied: pyparsing>=2.0.2 in /usr/local/lib/python3.7/dist-packages (from packaging>=20.0->spacy<3.2.0,>=3.1.0->zh-core-web-lg==3.1.0) (2.4.7)\n",
            "Requirement already satisfied: smart-open<6.0.0,>=5.0.0 in /usr/local/lib/python3.7/dist-packages (from pathy>=0.3.5->spacy<3.2.0,>=3.1.0->zh-core-web-lg==3.1.0) (5.1.0)\n",
            "Requirement already satisfied: certifi>=2017.4.17 in /usr/local/lib/python3.7/dist-packages (from requests<3.0.0,>=2.13.0->spacy<3.2.0,>=3.1.0->zh-core-web-lg==3.1.0) (2021.5.30)\n",
            "Requirement already satisfied: chardet<4,>=3.0.2 in /usr/local/lib/python3.7/dist-packages (from requests<3.0.0,>=2.13.0->spacy<3.2.0,>=3.1.0->zh-core-web-lg==3.1.0) (3.0.4)\n",
            "Requirement already satisfied: idna<3,>=2.5 in /usr/local/lib/python3.7/dist-packages (from requests<3.0.0,>=2.13.0->spacy<3.2.0,>=3.1.0->zh-core-web-lg==3.1.0) (2.10)\n",
            "Requirement already satisfied: urllib3!=1.25.0,!=1.25.1,<1.26,>=1.21.1 in /usr/local/lib/python3.7/dist-packages (from requests<3.0.0,>=2.13.0->spacy<3.2.0,>=3.1.0->zh-core-web-lg==3.1.0) (1.24.3)\n",
            "Requirement already satisfied: cython>=0.25 in /usr/local/lib/python3.7/dist-packages (from spacy-pkuseg<0.1.0,>=0.0.27->zh-core-web-lg==3.1.0) (0.29.23)\n",
            "Requirement already satisfied: click<7.2.0,>=7.1.1 in /usr/local/lib/python3.7/dist-packages (from typer<0.4.0,>=0.3.0->spacy<3.2.0,>=3.1.0->zh-core-web-lg==3.1.0) (7.1.2)\n",
            "Requirement already satisfied: MarkupSafe>=0.23 in /usr/local/lib/python3.7/dist-packages (from jinja2->spacy<3.2.0,>=3.1.0->zh-core-web-lg==3.1.0) (2.0.1)\n",
            "Installing collected packages: zh-core-web-lg\n",
            "Successfully installed zh-core-web-lg-3.1.0\n",
            "\u001b[38;5;2m✔ Download and installation successful\u001b[0m\n",
            "You can now load the package via spacy.load('zh_core_web_lg')\n"
          ],
          "name": "stdout"
        }
      ]
    },
    {
      "cell_type": "code",
      "metadata": {
        "id": "q48FwremkN7W",
        "colab": {
          "base_uri": "https://localhost:8080/",
          "height": 52
        },
        "outputId": "85da6f7a-1ca2-4a88-93ef-19b260b52fea"
      },
      "source": [
        "import spacy\n",
        "from spacy import displacy\n",
        "\n",
        "# spacyModel='zh_core_web_md-3.1.0/zh_core_web_md/zh_core_web_md-3.1.0'\n",
        "nlp = spacy.load('zh_core_web_lg')\n",
        "\n",
        "doc = nlp('恆指漲3.3%，是香港在這半年最大漲幅；恒生科技指數漲7.9%，創下去年7月高位。')\n",
        "displacy.render(doc,jupyter=True,style=\"ent\")\n",
        "\n",
        "# for ent in doc.ents:\n",
        "#   print(ent.text, ent.start_char, ent.end_char, ent.label_)"
      ],
      "execution_count": 2,
      "outputs": [
        {
          "output_type": "display_data",
          "data": {
            "text/html": [
              "<span class=\"tex2jax_ignore\"><div class=\"entities\" style=\"line-height: 2.5; direction: ltr\">恆指漲\n",
              "<mark class=\"entity\" style=\"background: #e4e7d2; padding: 0.45em 0.6em; margin: 0 0.25em; line-height: 1; border-radius: 0.35em;\">\n",
              "    3.3%\n",
              "    <span style=\"font-size: 0.8em; font-weight: bold; line-height: 1; border-radius: 0.35em; vertical-align: middle; margin-left: 0.5rem\">PERCENT</span>\n",
              "</mark>\n",
              "，是\n",
              "<mark class=\"entity\" style=\"background: #feca74; padding: 0.45em 0.6em; margin: 0 0.25em; line-height: 1; border-radius: 0.35em;\">\n",
              "    香港\n",
              "    <span style=\"font-size: 0.8em; font-weight: bold; line-height: 1; border-radius: 0.35em; vertical-align: middle; margin-left: 0.5rem\">GPE</span>\n",
              "</mark>\n",
              "在這半年最大漲幅；恒生科技指數漲7.\n",
              "<mark class=\"entity\" style=\"background: #e4e7d2; padding: 0.45em 0.6em; margin: 0 0.25em; line-height: 1; border-radius: 0.35em;\">\n",
              "    9%\n",
              "    <span style=\"font-size: 0.8em; font-weight: bold; line-height: 1; border-radius: 0.35em; vertical-align: middle; margin-left: 0.5rem\">PERCENT</span>\n",
              "</mark>\n",
              "，創下\n",
              "<mark class=\"entity\" style=\"background: #bfe1d9; padding: 0.45em 0.6em; margin: 0 0.25em; line-height: 1; border-radius: 0.35em;\">\n",
              "    去年7月\n",
              "    <span style=\"font-size: 0.8em; font-weight: bold; line-height: 1; border-radius: 0.35em; vertical-align: middle; margin-left: 0.5rem\">DATE</span>\n",
              "</mark>\n",
              "高位。</div></span>"
            ],
            "text/plain": [
              "<IPython.core.display.HTML object>"
            ]
          },
          "metadata": {
            "tags": []
          }
        }
      ]
    },
    {
      "cell_type": "code",
      "metadata": {
        "colab": {
          "base_uri": "https://localhost:8080/"
        },
        "id": "7klA7lxfKMwe",
        "outputId": "3704b1d1-cbd1-4426-d69c-a365ec8d1f9f"
      },
      "source": [
        "import random\n",
        "from spacy.training.example import Example\n",
        "\n",
        "TRAIN_DATA = [\n",
        "  (\n",
        "    '現時恒指已跌穿重要支持位26500點來看，港股繼續尋底的機會是頗高的。',\n",
        "    {\n",
        "        'entities':\n",
        "        [\n",
        "         (2,4,'FIN'),(9,12,'FIN'),(21,23,'FIN'),(25,27,'FIN')\n",
        "        ]\n",
        "    }\n",
        "  ),\n",
        "  (\n",
        "    '恆生指數和創業板指數。',\n",
        "    {\n",
        "      'entities': \n",
        "      [\n",
        "        (0,4,'FIN'),(5,10,'FIN')          \n",
        "      ]\n",
        "    }\n",
        "  ),  \n",
        "  (\n",
        "    '中電、匯控、和黃8月暴升8.5%。',\n",
        "    {\n",
        "      'entities': \n",
        "      [\n",
        "        (0,2,'STOCK'),(3,5,'STOCK'),(6,8,'STOCK'),(10,12,'FIN')         \n",
        "      ]\n",
        "    }\n",
        "  ),\n",
        "  (\n",
        "    '恆指小雙底9月盼反彈。中電、匯控、和黃8月齊齊跌8.5%金融海嘯後最差。',\n",
        "    {\n",
        "      'entities': \n",
        "      [\n",
        "        (0,2,'FIN'),(2,5,'FIN'),(8,10,'FIN'),(11,13,'STOCK'),(14,16,'STOCK'),(17,19,'STOCK')      \n",
        "      ]\n",
        "    }\n",
        "  ),     \n",
        "  (\n",
        "    '匯控(00005)將於下周一（2日）公布2021年度中期業績。',\n",
        "    {\n",
        "        'entities':\n",
        "        [\n",
        "          (0,2,'STOCK'),(20,24,'DATE'),(26,30,'FIN')\n",
        "        ]\n",
        "    }\n",
        "  ),\n",
        "  (\n",
        "    '查看香港最新的股市報價、記錄、新聞及其他重要資訊，助你賣買股票及投資。',\n",
        "   {\n",
        "      'entities':\n",
        "      [\n",
        "        (2,4,'GPE'),(7,9,'FIN'),(9,11,'FIN')\n",
        "      ]\n",
        "   }\n",
        "  ),\n",
        "  (\n",
        "    '匯控低開4%。港股收市跌。',\n",
        "    {\n",
        "        'entities':\n",
        "        [\n",
        "         (0,2,'STOCK'),(4,6,'PERCENT'),(7,9,'FIN')\n",
        "        ]\n",
        "    }\n",
        "  ),\n",
        "  (\n",
        "    '港股高開173點。',\n",
        "   {\n",
        "       'entities': [(0,2,'FIN'),(2,4,'FIN')]\n",
        "   }\n",
        "  )\n",
        "]\n",
        "\n",
        "ner = nlp.get_pipe('ner')\n",
        "\n",
        "ner.add_label('STOCK')\n",
        "ner.add_label('FIN')\n",
        "\n",
        "epoch = 50\n",
        "optimizer = nlp.resume_training()\n",
        "\n",
        "# get names of other pipes to disable them during training\n",
        "pipe_exceptions = [\"ner\"]\n",
        "other_pipes = [pipe for pipe in nlp.pipe_names if pipe not in pipe_exceptions]\n",
        "print(f'Pipes: {other_pipes}')\n",
        "with nlp.disable_pipes(*other_pipes):  # only train NER\n",
        "  for itn in range(epoch):\n",
        "    random.shuffle(TRAIN_DATA)\n",
        "    losses = {}\n",
        "    # batch up the examples using spaCy's minibatch\n",
        "    batches = spacy.util.minibatch(TRAIN_DATA,size=2)\n",
        "    for batch in batches:\n",
        "        texts, annotations = zip(*batch)\n",
        "        example = []\n",
        "        for i in range(len(texts)):\n",
        "          doc = nlp.make_doc(texts[i])\n",
        "          example.append(Example.from_dict(doc, annotations[i]))\n",
        "        nlp.update(example,drop=0.1,sgd=optimizer,losses=losses)\n",
        "    print(\"Losses\", losses)\n",
        "\n",
        "nlp.to_disk('saved_model')\n",
        "\n",
        "print(f'NER labels: {ner.labels}')"
      ],
      "execution_count": 3,
      "outputs": [
        {
          "output_type": "stream",
          "text": [
            "Pipes: ['tok2vec', 'tagger', 'parser', 'attribute_ruler']\n",
            "Losses {'ner': 54.581031181350966}\n",
            "Losses {'ner': 36.52172169356767}\n",
            "Losses {'ner': 32.789904665321046}\n",
            "Losses {'ner': 28.32034448193008}\n",
            "Losses {'ner': 22.69413872628502}\n",
            "Losses {'ner': 18.940604060232545}\n",
            "Losses {'ner': 15.22527927320084}\n",
            "Losses {'ner': 14.77147589170923}\n",
            "Losses {'ner': 10.633933866874187}\n",
            "Losses {'ner': 13.167696383925893}\n",
            "Losses {'ner': 31.550088977435852}\n",
            "Losses {'ner': 14.185301015961468}\n",
            "Losses {'ner': 11.037364879597583}\n",
            "Losses {'ner': 9.679062027513794}\n",
            "Losses {'ner': 7.453567123960205}\n",
            "Losses {'ner': 2.7653598596718467}\n",
            "Losses {'ner': 0.756353356799977}\n",
            "Losses {'ner': 0.10815401153464538}\n",
            "Losses {'ner': 0.02686506584848023}\n",
            "Losses {'ner': 0.005570348461190453}\n",
            "Losses {'ner': 0.0033611270592285043}\n",
            "Losses {'ner': 0.0028199456733514613}\n",
            "Losses {'ner': 0.0007440812651518438}\n",
            "Losses {'ner': 0.00028882150810724294}\n",
            "Losses {'ner': 0.0003353275715190958}\n",
            "Losses {'ner': 1.4447292758870763e-06}\n",
            "Losses {'ner': 4.8549640923318166e-06}\n",
            "Losses {'ner': 3.3158853490325417e-06}\n",
            "Losses {'ner': 5.7178381385570484e-06}\n",
            "Losses {'ner': 1.8043945733640793e-06}\n",
            "Losses {'ner': 1.3854933169133061e-05}\n",
            "Losses {'ner': 3.53741336435061e-06}\n",
            "Losses {'ner': 2.3087474709129995e-06}\n",
            "Losses {'ner': 3.212017141724362e-07}\n",
            "Losses {'ner': 1.9852157272262879e-07}\n",
            "Losses {'ner': 2.4682551943697185e-06}\n",
            "Losses {'ner': 1.476781924427017e-06}\n",
            "Losses {'ner': 3.602241648199538e-07}\n",
            "Losses {'ner': 2.707094871744845e-07}\n",
            "Losses {'ner': 6.829724880340942e-07}\n",
            "Losses {'ner': 5.534620633078476e-06}\n",
            "Losses {'ner': 1.2213741213846683e-06}\n",
            "Losses {'ner': 1.689809725382753e-05}\n",
            "Losses {'ner': 3.763668875370143e-07}\n",
            "Losses {'ner': 2.0779903393277813e-07}\n",
            "Losses {'ner': 1.8791300222776807e-06}\n",
            "Losses {'ner': 2.5824009588427668e-06}\n",
            "Losses {'ner': 1.5830302853670712e-06}\n",
            "Losses {'ner': 2.2882895563679257e-06}\n",
            "Losses {'ner': 3.392857335494375e-07}\n",
            "NER labels: ('CARDINAL', 'DATE', 'EVENT', 'FAC', 'FIN', 'GPE', 'LANGUAGE', 'LAW', 'LOC', 'MONEY', 'NORP', 'ORDINAL', 'ORG', 'PERCENT', 'PERSON', 'PRODUCT', 'QUANTITY', 'STOCK', 'TIME', 'WORK_OF_ART')\n"
          ],
          "name": "stdout"
        }
      ]
    },
    {
      "cell_type": "code",
      "metadata": {
        "id": "YNcgljyQrJSj"
      },
      "source": [
        "# for text, annot in TRAIN_DATA:\n",
        "#     print(text,annot)\n",
        "#     doc = nlp.make_doc(text)\n",
        "#     biluo = spacy.training.offsets_to_biluo_tags(doc, annot[\"entities\"])\n",
        "#     print([t.text for t in doc], biluo)"
      ],
      "execution_count": 4,
      "outputs": []
    },
    {
      "cell_type": "code",
      "metadata": {
        "colab": {
          "base_uri": "https://localhost:8080/",
          "height": 192
        },
        "id": "1eYxnh8TnMQg",
        "outputId": "50419346-fef0-46b3-8abb-89923a223f0f"
      },
      "source": [
        "# Let's give our trained model a try!\n",
        "\n",
        "texts = [\n",
        "  '恆指上升3.3%，是香港在這半年最大漲幅；恒生科技指數漲7.9%，創下去年7月高位。',\n",
        "  '中電在假期前做好帶動，恒指單日暴升961.22點。',\n",
        "  '受美股收跌拖累，匯控、和記跌超過2%。',\n",
        "  '匯控下跌2%。',\n",
        "  '日本、新加坡、澳洲股市單日暴升961.22點。'\n",
        "]\n",
        "\n",
        "nlp_updated = spacy.load('saved_model')\n",
        "\n",
        "for text in texts:\n",
        "  doc = nlp_updated(text)\n",
        "  displacy.render(doc,jupyter=True,style=\"ent\")\n"
      ],
      "execution_count": 5,
      "outputs": [
        {
          "output_type": "display_data",
          "data": {
            "text/html": [
              "<span class=\"tex2jax_ignore\"><div class=\"entities\" style=\"line-height: 2.5; direction: ltr\">\n",
              "<mark class=\"entity\" style=\"background: #ddd; padding: 0.45em 0.6em; margin: 0 0.25em; line-height: 1; border-radius: 0.35em;\">\n",
              "    恆指\n",
              "    <span style=\"font-size: 0.8em; font-weight: bold; line-height: 1; border-radius: 0.35em; vertical-align: middle; margin-left: 0.5rem\">FIN</span>\n",
              "</mark>\n",
              "上升3.3%，是\n",
              "<mark class=\"entity\" style=\"background: #feca74; padding: 0.45em 0.6em; margin: 0 0.25em; line-height: 1; border-radius: 0.35em;\">\n",
              "    香港\n",
              "    <span style=\"font-size: 0.8em; font-weight: bold; line-height: 1; border-radius: 0.35em; vertical-align: middle; margin-left: 0.5rem\">GPE</span>\n",
              "</mark>\n",
              "在這半年最大漲幅；\n",
              "<mark class=\"entity\" style=\"background: #ddd; padding: 0.45em 0.6em; margin: 0 0.25em; line-height: 1; border-radius: 0.35em;\">\n",
              "    恒生科技\n",
              "    <span style=\"font-size: 0.8em; font-weight: bold; line-height: 1; border-radius: 0.35em; vertical-align: middle; margin-left: 0.5rem\">FIN</span>\n",
              "</mark>\n",
              "指數漲7.9%，創下\n",
              "<mark class=\"entity\" style=\"background: #bfe1d9; padding: 0.45em 0.6em; margin: 0 0.25em; line-height: 1; border-radius: 0.35em;\">\n",
              "    去年\n",
              "    <span style=\"font-size: 0.8em; font-weight: bold; line-height: 1; border-radius: 0.35em; vertical-align: middle; margin-left: 0.5rem\">DATE</span>\n",
              "</mark>\n",
              "7月\n",
              "<mark class=\"entity\" style=\"background: #ddd; padding: 0.45em 0.6em; margin: 0 0.25em; line-height: 1; border-radius: 0.35em;\">\n",
              "    高位\n",
              "    <span style=\"font-size: 0.8em; font-weight: bold; line-height: 1; border-radius: 0.35em; vertical-align: middle; margin-left: 0.5rem\">FIN</span>\n",
              "</mark>\n",
              "。</div></span>"
            ],
            "text/plain": [
              "<IPython.core.display.HTML object>"
            ]
          },
          "metadata": {
            "tags": []
          }
        },
        {
          "output_type": "display_data",
          "data": {
            "text/html": [
              "<span class=\"tex2jax_ignore\"><div class=\"entities\" style=\"line-height: 2.5; direction: ltr\">\n",
              "<mark class=\"entity\" style=\"background: #ddd; padding: 0.45em 0.6em; margin: 0 0.25em; line-height: 1; border-radius: 0.35em;\">\n",
              "    中電\n",
              "    <span style=\"font-size: 0.8em; font-weight: bold; line-height: 1; border-radius: 0.35em; vertical-align: middle; margin-left: 0.5rem\">STOCK</span>\n",
              "</mark>\n",
              "在假期前做好帶動，\n",
              "<mark class=\"entity\" style=\"background: #ddd; padding: 0.45em 0.6em; margin: 0 0.25em; line-height: 1; border-radius: 0.35em;\">\n",
              "    恒指\n",
              "    <span style=\"font-size: 0.8em; font-weight: bold; line-height: 1; border-radius: 0.35em; vertical-align: middle; margin-left: 0.5rem\">FIN</span>\n",
              "</mark>\n",
              "單日\n",
              "<mark class=\"entity\" style=\"background: #ddd; padding: 0.45em 0.6em; margin: 0 0.25em; line-height: 1; border-radius: 0.35em;\">\n",
              "    暴升\n",
              "    <span style=\"font-size: 0.8em; font-weight: bold; line-height: 1; border-radius: 0.35em; vertical-align: middle; margin-left: 0.5rem\">FIN</span>\n",
              "</mark>\n",
              "961.22點。</div></span>"
            ],
            "text/plain": [
              "<IPython.core.display.HTML object>"
            ]
          },
          "metadata": {
            "tags": []
          }
        },
        {
          "output_type": "display_data",
          "data": {
            "text/html": [
              "<span class=\"tex2jax_ignore\"><div class=\"entities\" style=\"line-height: 2.5; direction: ltr\">受\n",
              "<mark class=\"entity\" style=\"background: #ddd; padding: 0.45em 0.6em; margin: 0 0.25em; line-height: 1; border-radius: 0.35em;\">\n",
              "    美股\n",
              "    <span style=\"font-size: 0.8em; font-weight: bold; line-height: 1; border-radius: 0.35em; vertical-align: middle; margin-left: 0.5rem\">FIN</span>\n",
              "</mark>\n",
              "收跌拖累，\n",
              "<mark class=\"entity\" style=\"background: #ddd; padding: 0.45em 0.6em; margin: 0 0.25em; line-height: 1; border-radius: 0.35em;\">\n",
              "    匯控\n",
              "    <span style=\"font-size: 0.8em; font-weight: bold; line-height: 1; border-radius: 0.35em; vertical-align: middle; margin-left: 0.5rem\">STOCK</span>\n",
              "</mark>\n",
              "、和\n",
              "<mark class=\"entity\" style=\"background: #ddd; padding: 0.45em 0.6em; margin: 0 0.25em; line-height: 1; border-radius: 0.35em;\">\n",
              "    記跌超過\n",
              "    <span style=\"font-size: 0.8em; font-weight: bold; line-height: 1; border-radius: 0.35em; vertical-align: middle; margin-left: 0.5rem\">FIN</span>\n",
              "</mark>\n",
              "2%。</div></span>"
            ],
            "text/plain": [
              "<IPython.core.display.HTML object>"
            ]
          },
          "metadata": {
            "tags": []
          }
        },
        {
          "output_type": "display_data",
          "data": {
            "text/html": [
              "<span class=\"tex2jax_ignore\"><div class=\"entities\" style=\"line-height: 2.5; direction: ltr\">\n",
              "<mark class=\"entity\" style=\"background: #ddd; padding: 0.45em 0.6em; margin: 0 0.25em; line-height: 1; border-radius: 0.35em;\">\n",
              "    匯控\n",
              "    <span style=\"font-size: 0.8em; font-weight: bold; line-height: 1; border-radius: 0.35em; vertical-align: middle; margin-left: 0.5rem\">STOCK</span>\n",
              "</mark>\n",
              "下跌\n",
              "<mark class=\"entity\" style=\"background: #e4e7d2; padding: 0.45em 0.6em; margin: 0 0.25em; line-height: 1; border-radius: 0.35em;\">\n",
              "    2%\n",
              "    <span style=\"font-size: 0.8em; font-weight: bold; line-height: 1; border-radius: 0.35em; vertical-align: middle; margin-left: 0.5rem\">PERCENT</span>\n",
              "</mark>\n",
              "。</div></span>"
            ],
            "text/plain": [
              "<IPython.core.display.HTML object>"
            ]
          },
          "metadata": {
            "tags": []
          }
        },
        {
          "output_type": "display_data",
          "data": {
            "text/html": [
              "<span class=\"tex2jax_ignore\"><div class=\"entities\" style=\"line-height: 2.5; direction: ltr\">\n",
              "<mark class=\"entity\" style=\"background: #feca74; padding: 0.45em 0.6em; margin: 0 0.25em; line-height: 1; border-radius: 0.35em;\">\n",
              "    日本\n",
              "    <span style=\"font-size: 0.8em; font-weight: bold; line-height: 1; border-radius: 0.35em; vertical-align: middle; margin-left: 0.5rem\">GPE</span>\n",
              "</mark>\n",
              "、\n",
              "<mark class=\"entity\" style=\"background: #feca74; padding: 0.45em 0.6em; margin: 0 0.25em; line-height: 1; border-radius: 0.35em;\">\n",
              "    新加坡\n",
              "    <span style=\"font-size: 0.8em; font-weight: bold; line-height: 1; border-radius: 0.35em; vertical-align: middle; margin-left: 0.5rem\">GPE</span>\n",
              "</mark>\n",
              "、\n",
              "<mark class=\"entity\" style=\"background: #feca74; padding: 0.45em 0.6em; margin: 0 0.25em; line-height: 1; border-radius: 0.35em;\">\n",
              "    澳洲\n",
              "    <span style=\"font-size: 0.8em; font-weight: bold; line-height: 1; border-radius: 0.35em; vertical-align: middle; margin-left: 0.5rem\">GPE</span>\n",
              "</mark>\n",
              "\n",
              "<mark class=\"entity\" style=\"background: #ddd; padding: 0.45em 0.6em; margin: 0 0.25em; line-height: 1; border-radius: 0.35em;\">\n",
              "    股市單日\n",
              "    <span style=\"font-size: 0.8em; font-weight: bold; line-height: 1; border-radius: 0.35em; vertical-align: middle; margin-left: 0.5rem\">FIN</span>\n",
              "</mark>\n",
              "\n",
              "<mark class=\"entity\" style=\"background: #ddd; padding: 0.45em 0.6em; margin: 0 0.25em; line-height: 1; border-radius: 0.35em;\">\n",
              "    暴升\n",
              "    <span style=\"font-size: 0.8em; font-weight: bold; line-height: 1; border-radius: 0.35em; vertical-align: middle; margin-left: 0.5rem\">FIN</span>\n",
              "</mark>\n",
              "961.22點。</div></span>"
            ],
            "text/plain": [
              "<IPython.core.display.HTML object>"
            ]
          },
          "metadata": {
            "tags": []
          }
        }
      ]
    }
  ]
}