{
 "cells": [
  {
   "cell_type": "code",
   "execution_count": 1,
   "source": [
    "import spacy"
   ],
   "outputs": [],
   "metadata": {}
  },
  {
   "cell_type": "code",
   "execution_count": 2,
   "source": [
    "nlp         = spacy.load('zh_core_web_lg')\n",
    "nlp_updated = spacy.load('output/model-last')"
   ],
   "outputs": [],
   "metadata": {}
  },
  {
   "cell_type": "code",
   "execution_count": 3,
   "source": [
    "text = '今年香港匯控中電每股派息$1.5'\n",
    "\n",
    "# Untrained model\n",
    "doc1 = nlp(text)\n",
    "# spacy.displacy.render(doc1,jupyter=True,style=\"ent\")\n",
    "print('Untrained model:')\n",
    "for ent in doc1.ents:\n",
    "    print(ent.text, ent.label_)\n",
    "\n",
    "# Trained model\n",
    "print('\\nTrained model:')\n",
    "doc2 = nlp_updated(text)\n",
    "# spacy.displacy.render(doc2,jupyter=True,style=\"ent\")\n",
    "for ent in doc2.ents:\n",
    "    print(ent.text, ent.label_)"
   ],
   "outputs": [
    {
     "output_type": "stream",
     "name": "stdout",
     "text": [
      "untrained model:\n",
      "今年 DATE\n",
      "香港匯控中電 ORG\n",
      "\n",
      "trained model:\n",
      "香港 STOCK\n",
      "匯控 STOCK\n",
      "中電 STOCK\n"
     ]
    }
   ],
   "metadata": {}
  }
 ],
 "metadata": {
  "kernelspec": {
   "name": "python3",
   "display_name": "Python 3.9.7 64-bit ('nlp': conda)"
  },
  "language_info": {
   "codemirror_mode": {
    "name": "ipython",
    "version": 3
   },
   "file_extension": ".py",
   "mimetype": "text/x-python",
   "name": "python",
   "nbconvert_exporter": "python",
   "pygments_lexer": "ipython3",
   "version": "3.9.7"
  },
  "interpreter": {
   "hash": "351231c1f7e72ec05ff176d4b7814d8150b7ea6b9dc70ba3501701b8f740a37d"
  }
 },
 "nbformat": 4,
 "nbformat_minor": 5
}