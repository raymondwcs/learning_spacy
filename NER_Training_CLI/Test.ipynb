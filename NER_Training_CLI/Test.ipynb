{
 "cells": [
  {
   "cell_type": "code",
   "execution_count": 1,
   "id": "02dff416-5be3-4db8-9879-614bee1e7f69",
   "metadata": {},
   "outputs": [],
   "source": [
    "import spacy"
   ]
  },
  {
   "cell_type": "code",
   "execution_count": 2,
   "id": "74a63568-7af8-4fc3-b4f6-c21825ba097d",
   "metadata": {},
   "outputs": [
    {
     "data": {
      "text/plain": [
       "[('tok2vec', <spacy.pipeline.tok2vec.Tok2Vec at 0x15dfdbc20>),\n",
       " ('tagger', <spacy.pipeline.tagger.Tagger at 0x143988a90>),\n",
       " ('parser', <spacy.pipeline.dep_parser.DependencyParser at 0x14c9a1520>),\n",
       " ('attribute_ruler',\n",
       "  <spacy.pipeline.attributeruler.AttributeRuler at 0x143986700>),\n",
       " ('ner', <spacy.pipeline.ner.EntityRecognizer at 0x14c9a1640>)]"
      ]
     },
     "execution_count": 2,
     "metadata": {},
     "output_type": "execute_result"
    }
   ],
   "source": [
    "nlp         = spacy.load('zh_core_web_lg')\n",
    "\n",
    "nlp_updated = spacy.load('output/model-last')\n",
    "# nlp_updated.add_pipe(\"attribute_ruler\",source=nlp,before=\"ner\")\n",
    "# nlp_updated.add_pipe(\"parser\",source=nlp,before=\"attribute_ruler\")\n",
    "# nlp_updated.add_pipe(\"tagger\",source=nlp,before=\"parser\")\n",
    "\n",
    "# nlp.pipeline\n",
    "nlp_updated.pipeline"
   ]
  },
  {
   "cell_type": "code",
   "execution_count": 3,
   "id": "59dbe5c1-b627-4b0b-aee8-d17a2816103e",
   "metadata": {},
   "outputs": [
    {
     "data": {
      "text/html": [
       "<span class=\"tex2jax_ignore\"><div class=\"entities\" style=\"line-height: 2.5; direction: ltr\">\n",
       "<mark class=\"entity\" style=\"background: #bfe1d9; padding: 0.45em 0.6em; margin: 0 0.25em; line-height: 1; border-radius: 0.35em;\">\n",
       "    今年\n",
       "    <span style=\"font-size: 0.8em; font-weight: bold; line-height: 1; border-radius: 0.35em; vertical-align: middle; margin-left: 0.5rem\">DATE</span>\n",
       "</mark>\n",
       "\n",
       "<mark class=\"entity\" style=\"background: #7aecec; padding: 0.45em 0.6em; margin: 0 0.25em; line-height: 1; border-radius: 0.35em;\">\n",
       "    香港匯控中電\n",
       "    <span style=\"font-size: 0.8em; font-weight: bold; line-height: 1; border-radius: 0.35em; vertical-align: middle; margin-left: 0.5rem\">ORG</span>\n",
       "</mark>\n",
       "每股派息$1.5</div></span>"
      ],
      "text/plain": [
       "<IPython.core.display.HTML object>"
      ]
     },
     "metadata": {},
     "output_type": "display_data"
    },
    {
     "data": {
      "text/html": [
       "<span class=\"tex2jax_ignore\"><div class=\"entities\" style=\"line-height: 2.5; direction: ltr\">\n",
       "<mark class=\"entity\" style=\"background: #bfe1d9; padding: 0.45em 0.6em; margin: 0 0.25em; line-height: 1; border-radius: 0.35em;\">\n",
       "    今年\n",
       "    <span style=\"font-size: 0.8em; font-weight: bold; line-height: 1; border-radius: 0.35em; vertical-align: middle; margin-left: 0.5rem\">DATE</span>\n",
       "</mark>\n",
       "\n",
       "<mark class=\"entity\" style=\"background: #feca74; padding: 0.45em 0.6em; margin: 0 0.25em; line-height: 1; border-radius: 0.35em;\">\n",
       "    香港\n",
       "    <span style=\"font-size: 0.8em; font-weight: bold; line-height: 1; border-radius: 0.35em; vertical-align: middle; margin-left: 0.5rem\">GPE</span>\n",
       "</mark>\n",
       "\n",
       "<mark class=\"entity\" style=\"background: #ddd; padding: 0.45em 0.6em; margin: 0 0.25em; line-height: 1; border-radius: 0.35em;\">\n",
       "    匯控\n",
       "    <span style=\"font-size: 0.8em; font-weight: bold; line-height: 1; border-radius: 0.35em; vertical-align: middle; margin-left: 0.5rem\">STOCK</span>\n",
       "</mark>\n",
       "\n",
       "<mark class=\"entity\" style=\"background: #ddd; padding: 0.45em 0.6em; margin: 0 0.25em; line-height: 1; border-radius: 0.35em;\">\n",
       "    中電\n",
       "    <span style=\"font-size: 0.8em; font-weight: bold; line-height: 1; border-radius: 0.35em; vertical-align: middle; margin-left: 0.5rem\">STOCK</span>\n",
       "</mark>\n",
       "每股\n",
       "<mark class=\"entity\" style=\"background: #ddd; padding: 0.45em 0.6em; margin: 0 0.25em; line-height: 1; border-radius: 0.35em;\">\n",
       "    派息\n",
       "    <span style=\"font-size: 0.8em; font-weight: bold; line-height: 1; border-radius: 0.35em; vertical-align: middle; margin-left: 0.5rem\">FIN</span>\n",
       "</mark>\n",
       "$1.5</div></span>"
      ],
      "text/plain": [
       "<IPython.core.display.HTML object>"
      ]
     },
     "metadata": {},
     "output_type": "display_data"
    }
   ],
   "source": [
    "doc1 = nlp('今年香港匯控中電每股派息$1.5')\n",
    "spacy.displacy.render(doc1,jupyter=True,style=\"ent\")\n",
    "\n",
    "doc2 = nlp_updated('今年香港匯控中電每股派息$1.5')\n",
    "spacy.displacy.render(doc2,jupyter=True,style=\"ent\")"
   ]
  },
  {
   "cell_type": "code",
   "execution_count": 4,
   "id": "c13646fb-4b5d-45f5-b269-8424806caf8a",
   "metadata": {},
   "outputs": [
    {
     "name": "stdout",
     "output_type": "stream",
     "text": [
      "今年 NOUN nmod:tmod\n",
      "香港 PROPN dep\n",
      "匯控 PROPN dep\n",
      "中電 PROPN dobj\n",
      "每股 NOUN nsubj\n",
      "派息$ VERB ROOT\n",
      "1.5 NUM dep\n",
      "\n",
      "今年 NOUN nmod:tmod\n",
      "香港 PROPN dep\n",
      "匯控 PROPN advmod\n",
      "中電 PROPN dep\n",
      "每股 NOUN nsubj\n",
      "派息 VERB ROOT\n",
      "$ VERB ccomp\n",
      "1.5 NUM dep\n"
     ]
    }
   ],
   "source": [
    "for token in doc1:\n",
    "    print(token.text, token.pos_, token.dep_)\n",
    "\n",
    "print()\n",
    "    \n",
    "for token in doc2:\n",
    "    print(token.text, token.pos_, token.dep_)"
   ]
  },
  {
   "cell_type": "code",
   "execution_count": null,
   "id": "b34140f7-4aa8-454e-8425-b04035d74480",
   "metadata": {},
   "outputs": [],
   "source": []
  },
  {
   "cell_type": "code",
   "execution_count": null,
   "id": "9a6e6261-1635-461b-9f6c-67361694c769",
   "metadata": {},
   "outputs": [],
   "source": []
  }
 ],
 "metadata": {
  "kernelspec": {
   "display_name": "Python 3 (ipykernel)",
   "language": "python",
   "name": "python3"
  },
  "language_info": {
   "codemirror_mode": {
    "name": "ipython",
    "version": 3
   },
   "file_extension": ".py",
   "mimetype": "text/x-python",
   "name": "python",
   "nbconvert_exporter": "python",
   "pygments_lexer": "ipython3",
   "version": "3.9.6"
  }
 },
 "nbformat": 4,
 "nbformat_minor": 5
}
