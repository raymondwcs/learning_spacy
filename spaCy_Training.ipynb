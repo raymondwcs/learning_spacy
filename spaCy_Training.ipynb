{
  "nbformat": 4,
  "nbformat_minor": 0,
  "metadata": {
    "colab": {
      "name": "spaCy Training.ipynb",
      "provenance": [],
      "authorship_tag": "ABX9TyMsbcjqvCL4GP9BGQSqZQnN",
      "include_colab_link": true
    },
    "kernelspec": {
      "name": "python3",
      "display_name": "Python 3"
    },
    "language_info": {
      "name": "python"
    }
  },
  "cells": [
    {
      "cell_type": "markdown",
      "metadata": {
        "id": "view-in-github",
        "colab_type": "text"
      },
      "source": [
        "<a href=\"https://colab.research.google.com/github/raymondwcs/learning_spacy/blob/main/spaCy_Training.ipynb\" target=\"_parent\"><img src=\"https://colab.research.google.com/assets/colab-badge.svg\" alt=\"Open In Colab\"/></a>"
      ]
    },
    {
      "cell_type": "code",
      "metadata": {
        "colab": {
          "base_uri": "https://localhost:8080/"
        },
        "id": "WtT8ae0ZjmTJ",
        "outputId": "c17cc1ea-6252-4bda-b00d-617bf8a41df3"
      },
      "source": [
        "!pip install -U --quiet spacy\n",
        "!pip install \"spacy-pkuseg>=0.0.27,<0.1.0\"\n",
        "!python -m spacy download zh_core_web_lg\n",
        "# !wget https://github.com/explosion/spacy-models/releases/download/zh_core_web_md-3.1.0/zh_core_web_md-3.1.0.tar.gz\n",
        "# !tar xvfz zh_core_web_md-3.1.0.tar.gz\n",
        "# !python -m spacy download zh_core_web_trf"
      ],
      "execution_count": 7,
      "outputs": [
        {
          "output_type": "stream",
          "text": [
            "Requirement already satisfied: spacy-pkuseg<0.1.0,>=0.0.27 in /usr/local/lib/python3.7/dist-packages (0.0.28)\n",
            "Requirement already satisfied: cython>=0.25 in /usr/local/lib/python3.7/dist-packages (from spacy-pkuseg<0.1.0,>=0.0.27) (0.29.23)\n",
            "Requirement already satisfied: srsly<3.0.0,>=2.3.0 in /usr/local/lib/python3.7/dist-packages (from spacy-pkuseg<0.1.0,>=0.0.27) (2.4.1)\n",
            "Requirement already satisfied: numpy>=1.16.0 in /usr/local/lib/python3.7/dist-packages (from spacy-pkuseg<0.1.0,>=0.0.27) (1.19.5)\n",
            "Requirement already satisfied: catalogue<2.1.0,>=2.0.1 in /usr/local/lib/python3.7/dist-packages (from srsly<3.0.0,>=2.3.0->spacy-pkuseg<0.1.0,>=0.0.27) (2.0.4)\n",
            "Requirement already satisfied: zipp>=0.5 in /usr/local/lib/python3.7/dist-packages (from catalogue<2.1.0,>=2.0.1->srsly<3.0.0,>=2.3.0->spacy-pkuseg<0.1.0,>=0.0.27) (3.5.0)\n",
            "Requirement already satisfied: typing-extensions>=3.6.4 in /usr/local/lib/python3.7/dist-packages (from catalogue<2.1.0,>=2.0.1->srsly<3.0.0,>=2.3.0->spacy-pkuseg<0.1.0,>=0.0.27) (3.7.4.3)\n",
            "2021-08-09 10:22:14.649942: I tensorflow/stream_executor/platform/default/dso_loader.cc:53] Successfully opened dynamic library libcudart.so.11.0\n",
            "Collecting zh-core-web-lg==3.1.0\n",
            "  Downloading https://github.com/explosion/spacy-models/releases/download/zh_core_web_lg-3.1.0/zh_core_web_lg-3.1.0-py3-none-any.whl (603.8 MB)\n",
            "\u001b[K     |████████████████████████████████| 603.8 MB 8.3 kB/s \n",
            "\u001b[?25hRequirement already satisfied: spacy-pkuseg<0.1.0,>=0.0.27 in /usr/local/lib/python3.7/dist-packages (from zh-core-web-lg==3.1.0) (0.0.28)\n",
            "Requirement already satisfied: spacy<3.2.0,>=3.1.0 in /usr/local/lib/python3.7/dist-packages (from zh-core-web-lg==3.1.0) (3.1.1)\n",
            "Requirement already satisfied: wasabi<1.1.0,>=0.8.1 in /usr/local/lib/python3.7/dist-packages (from spacy<3.2.0,>=3.1.0->zh-core-web-lg==3.1.0) (0.8.2)\n",
            "Requirement already satisfied: typing-extensions<4.0.0.0,>=3.7.4 in /usr/local/lib/python3.7/dist-packages (from spacy<3.2.0,>=3.1.0->zh-core-web-lg==3.1.0) (3.7.4.3)\n",
            "Requirement already satisfied: tqdm<5.0.0,>=4.38.0 in /usr/local/lib/python3.7/dist-packages (from spacy<3.2.0,>=3.1.0->zh-core-web-lg==3.1.0) (4.41.1)\n",
            "Requirement already satisfied: murmurhash<1.1.0,>=0.28.0 in /usr/local/lib/python3.7/dist-packages (from spacy<3.2.0,>=3.1.0->zh-core-web-lg==3.1.0) (1.0.5)\n",
            "Requirement already satisfied: pydantic!=1.8,!=1.8.1,<1.9.0,>=1.7.4 in /usr/local/lib/python3.7/dist-packages (from spacy<3.2.0,>=3.1.0->zh-core-web-lg==3.1.0) (1.8.2)\n",
            "Requirement already satisfied: requests<3.0.0,>=2.13.0 in /usr/local/lib/python3.7/dist-packages (from spacy<3.2.0,>=3.1.0->zh-core-web-lg==3.1.0) (2.23.0)\n",
            "Requirement already satisfied: numpy>=1.15.0 in /usr/local/lib/python3.7/dist-packages (from spacy<3.2.0,>=3.1.0->zh-core-web-lg==3.1.0) (1.19.5)\n",
            "Requirement already satisfied: spacy-legacy<3.1.0,>=3.0.7 in /usr/local/lib/python3.7/dist-packages (from spacy<3.2.0,>=3.1.0->zh-core-web-lg==3.1.0) (3.0.8)\n",
            "Requirement already satisfied: pathy>=0.3.5 in /usr/local/lib/python3.7/dist-packages (from spacy<3.2.0,>=3.1.0->zh-core-web-lg==3.1.0) (0.6.0)\n",
            "Requirement already satisfied: preshed<3.1.0,>=3.0.2 in /usr/local/lib/python3.7/dist-packages (from spacy<3.2.0,>=3.1.0->zh-core-web-lg==3.1.0) (3.0.5)\n",
            "Requirement already satisfied: thinc<8.1.0,>=8.0.8 in /usr/local/lib/python3.7/dist-packages (from spacy<3.2.0,>=3.1.0->zh-core-web-lg==3.1.0) (8.0.8)\n",
            "Requirement already satisfied: setuptools in /usr/local/lib/python3.7/dist-packages (from spacy<3.2.0,>=3.1.0->zh-core-web-lg==3.1.0) (57.2.0)\n",
            "Requirement already satisfied: typer<0.4.0,>=0.3.0 in /usr/local/lib/python3.7/dist-packages (from spacy<3.2.0,>=3.1.0->zh-core-web-lg==3.1.0) (0.3.2)\n",
            "Requirement already satisfied: packaging>=20.0 in /usr/local/lib/python3.7/dist-packages (from spacy<3.2.0,>=3.1.0->zh-core-web-lg==3.1.0) (21.0)\n",
            "Requirement already satisfied: blis<0.8.0,>=0.4.0 in /usr/local/lib/python3.7/dist-packages (from spacy<3.2.0,>=3.1.0->zh-core-web-lg==3.1.0) (0.4.1)\n",
            "Requirement already satisfied: jinja2 in /usr/local/lib/python3.7/dist-packages (from spacy<3.2.0,>=3.1.0->zh-core-web-lg==3.1.0) (2.11.3)\n",
            "Requirement already satisfied: cymem<2.1.0,>=2.0.2 in /usr/local/lib/python3.7/dist-packages (from spacy<3.2.0,>=3.1.0->zh-core-web-lg==3.1.0) (2.0.5)\n",
            "Requirement already satisfied: srsly<3.0.0,>=2.4.1 in /usr/local/lib/python3.7/dist-packages (from spacy<3.2.0,>=3.1.0->zh-core-web-lg==3.1.0) (2.4.1)\n",
            "Requirement already satisfied: catalogue<2.1.0,>=2.0.4 in /usr/local/lib/python3.7/dist-packages (from spacy<3.2.0,>=3.1.0->zh-core-web-lg==3.1.0) (2.0.4)\n",
            "Requirement already satisfied: zipp>=0.5 in /usr/local/lib/python3.7/dist-packages (from catalogue<2.1.0,>=2.0.4->spacy<3.2.0,>=3.1.0->zh-core-web-lg==3.1.0) (3.5.0)\n",
            "Requirement already satisfied: pyparsing>=2.0.2 in /usr/local/lib/python3.7/dist-packages (from packaging>=20.0->spacy<3.2.0,>=3.1.0->zh-core-web-lg==3.1.0) (2.4.7)\n",
            "Requirement already satisfied: smart-open<6.0.0,>=5.0.0 in /usr/local/lib/python3.7/dist-packages (from pathy>=0.3.5->spacy<3.2.0,>=3.1.0->zh-core-web-lg==3.1.0) (5.1.0)\n",
            "Requirement already satisfied: chardet<4,>=3.0.2 in /usr/local/lib/python3.7/dist-packages (from requests<3.0.0,>=2.13.0->spacy<3.2.0,>=3.1.0->zh-core-web-lg==3.1.0) (3.0.4)\n",
            "Requirement already satisfied: idna<3,>=2.5 in /usr/local/lib/python3.7/dist-packages (from requests<3.0.0,>=2.13.0->spacy<3.2.0,>=3.1.0->zh-core-web-lg==3.1.0) (2.10)\n",
            "Requirement already satisfied: urllib3!=1.25.0,!=1.25.1,<1.26,>=1.21.1 in /usr/local/lib/python3.7/dist-packages (from requests<3.0.0,>=2.13.0->spacy<3.2.0,>=3.1.0->zh-core-web-lg==3.1.0) (1.24.3)\n",
            "Requirement already satisfied: certifi>=2017.4.17 in /usr/local/lib/python3.7/dist-packages (from requests<3.0.0,>=2.13.0->spacy<3.2.0,>=3.1.0->zh-core-web-lg==3.1.0) (2021.5.30)\n",
            "Requirement already satisfied: cython>=0.25 in /usr/local/lib/python3.7/dist-packages (from spacy-pkuseg<0.1.0,>=0.0.27->zh-core-web-lg==3.1.0) (0.29.23)\n",
            "Requirement already satisfied: click<7.2.0,>=7.1.1 in /usr/local/lib/python3.7/dist-packages (from typer<0.4.0,>=0.3.0->spacy<3.2.0,>=3.1.0->zh-core-web-lg==3.1.0) (7.1.2)\n",
            "Requirement already satisfied: MarkupSafe>=0.23 in /usr/local/lib/python3.7/dist-packages (from jinja2->spacy<3.2.0,>=3.1.0->zh-core-web-lg==3.1.0) (2.0.1)\n",
            "\u001b[38;5;2m✔ Download and installation successful\u001b[0m\n",
            "You can now load the package via spacy.load('zh_core_web_lg')\n"
          ],
          "name": "stdout"
        }
      ]
    },
    {
      "cell_type": "code",
      "metadata": {
        "id": "q48FwremkN7W",
        "colab": {
          "base_uri": "https://localhost:8080/"
        },
        "outputId": "c77c84bf-364b-4fb7-96a8-4e8254aed069"
      },
      "source": [
        "import spacy\n",
        "\n",
        "# spacyModel='zh_core_web_md-3.1.0/zh_core_web_md/zh_core_web_md-3.1.0'\n",
        "nlp = spacy.load('zh_core_web_lg')\n",
        "\n",
        "doc = nlp('恆指漲3.3%，是香港在這半年最大漲幅；恒生科技指數漲7.9%，創下去年7月高位。')\n",
        "\n",
        "for ent in doc.ents:\n",
        "  print(ent.text, ent.start_char, ent.end_char, ent.label_)"
      ],
      "execution_count": 64,
      "outputs": [
        {
          "output_type": "stream",
          "text": [
            "3.3% 3 7 PERCENT\n",
            "香港 9 11 GPE\n",
            "9% 29 31 PERCENT\n",
            "去年7月 34 38 DATE\n"
          ],
          "name": "stdout"
        }
      ]
    },
    {
      "cell_type": "code",
      "metadata": {
        "colab": {
          "base_uri": "https://localhost:8080/"
        },
        "id": "7klA7lxfKMwe",
        "outputId": "160fea93-454d-4546-de0b-a51937dcd97d"
      },
      "source": [
        "import random\n",
        "from spacy.training.example import Example\n",
        "\n",
        "TRAIN_DATA = [\n",
        "  (\n",
        "    '現時恒指已跌穿重要支持位26500點來看，港股繼續尋底的機會是頗高的。',\n",
        "    {\n",
        "        'entities':\n",
        "        [\n",
        "         (2,4,'FIN'),(9,12,'FIN'),(21,23,'FIN')\n",
        "        ]\n",
        "    }\n",
        "  ),\n",
        "  (\n",
        "    '恆生指數和創業板指數。',\n",
        "    {\n",
        "      'entities': \n",
        "      [\n",
        "        (0,4,'FIN'),(5,10,'FIN')          \n",
        "      ]\n",
        "    }\n",
        "  ),  \n",
        "  (\n",
        "    '中電、匯控、和黃8月暴升8.5%。',\n",
        "    {\n",
        "      'entities': \n",
        "      [\n",
        "        (0,2,'STOCK'),(3,5,'STOCK'),(6,8,'STOCK'),(10,12,'FIN'),(13,17,'PERCENT')          \n",
        "      ]\n",
        "    }\n",
        "  ),\n",
        "  (\n",
        "    '恆指小雙底9月盼反彈。中電、匯控、和黃8月齊齊跌8.5%金融海嘯後最差。',\n",
        "    {\n",
        "      'entities': \n",
        "      [\n",
        "        (0,2,'FIN'),(2,5,'FIN'),(8,10,'FIN'),(11,13,'STOCK'),(14,16,'STOCK'),\n",
        "       (17,19,'STOCK'),(24,28,'PERCENT')       \n",
        "      ]\n",
        "    }\n",
        "  ),     \n",
        "  (\n",
        "    '匯控(00005)將於下周一（2日）公布2021年度中期業績',\n",
        "    {\n",
        "        'entities':\n",
        "        [\n",
        "          (0,2,'STOCK'),(3,8,'STOCK')\n",
        "        ]\n",
        "    }\n",
        "  ),\n",
        "  (\n",
        "    '查看香港最新的中電股票報價、記錄、新聞及其他重要資訊，助你賣買股票及投資。',\n",
        "   {\n",
        "      'entities':\n",
        "      [\n",
        "        (2,4,'GPE'),(7,9,'STOCK')\n",
        "      ]\n",
        "   }\n",
        "  ),\n",
        "  (\n",
        "    '美股異動受港股收跌拖累和黃低開低走跌超14%',\n",
        "    {\n",
        "        'entities':\n",
        "        [\n",
        "         (0,2,'FIN'),(5,7,'FIN'),(7,11,'FIN'),(16,20,'FIN'),(11,13,'STOCK'),(21,24,'PERCENT')\n",
        "        ]\n",
        "    }\n",
        "  ),\n",
        "  (\n",
        "    '港隊於東京奧運創歷史佳績。',\n",
        "   {\n",
        "       'entities': [(3,5,'GPE')]\n",
        "   }\n",
        "  )\n",
        "]\n",
        "\n",
        "ner = nlp.get_pipe('ner')\n",
        "\n",
        "ner.add_label('STOCK')\n",
        "ner.add_label('FIN')\n",
        "\n",
        "epoch = 50\n",
        "\n",
        "# get names of other pipes to disable them during training\n",
        "pipe_exceptions = [\"ner\"]\n",
        "other_pipes = [pipe for pipe in nlp.pipe_names if pipe not in pipe_exceptions]\n",
        "print(f'Pipes: {other_pipes}')\n",
        "with nlp.disable_pipes(*other_pipes):  # only train NER\n",
        "  for itn in range(epoch):\n",
        "    random.shuffle(TRAIN_DATA)\n",
        "    losses = {}\n",
        "    # batch up the examples using spaCy's minibatch\n",
        "    batches = spacy.util.minibatch(TRAIN_DATA, size=2)\n",
        "    for batch in batches:\n",
        "        texts, annotations = zip(*batch)\n",
        "        example = []\n",
        "        for i in range(len(texts)):\n",
        "          doc = nlp.make_doc(texts[i])\n",
        "          example.append(Example.from_dict(doc, annotations[i]))\n",
        "        nlp.update(example,drop=0.2,losses=losses)\n",
        "    print(\"Losses\", losses)\n",
        "\n",
        "ner = nlp.get_pipe('ner')\n",
        "ner.to_disk('fin_ner')\n",
        "\n",
        "print(f'NER labels: {ner.labels}')"
      ],
      "execution_count": 69,
      "outputs": [
        {
          "output_type": "stream",
          "text": [
            "Pipes: ['tok2vec', 'tagger', 'parser', 'attribute_ruler']\n",
            "Losses {'ner': 0.00011848952024900792}\n"
          ],
          "name": "stdout"
        },
        {
          "output_type": "stream",
          "text": [
            "/usr/local/lib/python3.7/dist-packages/spacy/training/iob_utils.py:144: UserWarning: [W030] Some entities could not be aligned in the text \"美股異動受港股收跌拖累和黃低開低走跌超14%\" with entities \"[(0, 2, 'FIN'), (5, 7, 'FIN'), (7, 11, 'FIN'), (16...\". Use `spacy.training.offsets_to_biluo_tags(nlp.make_doc(text), entities)` to check the alignment. Misaligned entities ('-') will be ignored during training.\n",
            "  entities=ent_str[:50] + \"...\" if len(ent_str) > 50 else ent_str,\n"
          ],
          "name": "stderr"
        },
        {
          "output_type": "stream",
          "text": [
            "Losses {'ner': 0.009678948711595916}\n",
            "Losses {'ner': 0.0005593338120910253}\n",
            "Losses {'ner': 0.0012614028959649032}\n",
            "Losses {'ner': 4.485207496450963e-06}\n",
            "Losses {'ner': 3.11905108358117e-05}\n",
            "Losses {'ner': 3.1522353062982734e-05}\n",
            "Losses {'ner': 0.0002840932437230881}\n",
            "Losses {'ner': 5.442672486508126e-05}\n",
            "Losses {'ner': 0.048289406618835004}\n",
            "Losses {'ner': 0.029526225836005497}\n",
            "Losses {'ner': 2.9890225702272158e-06}\n",
            "Losses {'ner': 2.9970301848072356e-06}\n",
            "Losses {'ner': 2.340382289708755e-06}\n",
            "Losses {'ner': 5.563957183663289e-06}\n",
            "Losses {'ner': 0.0020246318549569987}\n",
            "Losses {'ner': 0.007782088340561515}\n",
            "Losses {'ner': 0.02784210626089453}\n",
            "Losses {'ner': 1.3382168442726505e-07}\n",
            "Losses {'ner': 8.858613128288123e-06}\n",
            "Losses {'ner': 5.752545848724062e-06}\n",
            "Losses {'ner': 0.0002076318199088355}\n",
            "Losses {'ner': 0.00017218721578071136}\n",
            "Losses {'ner': 2.2482249738854355e-05}\n",
            "Losses {'ner': 1.0475177607364676e-06}\n",
            "Losses {'ner': 5.490415531749251e-05}\n",
            "Losses {'ner': 0.003355758384739772}\n",
            "Losses {'ner': 2.3594015614820968e-05}\n",
            "Losses {'ner': 3.2656424503688847e-06}\n",
            "Losses {'ner': 0.0032319845051663114}\n",
            "Losses {'ner': 1.8323670131726923e-06}\n",
            "Losses {'ner': 0.0003622292507091984}\n",
            "Losses {'ner': 2.389635407570421e-05}\n",
            "Losses {'ner': 3.56883820469069e-07}\n",
            "Losses {'ner': 4.29946102990373e-06}\n",
            "Losses {'ner': 2.021479782903817e-06}\n",
            "Losses {'ner': 1.1191025159671993e-07}\n",
            "Losses {'ner': 2.969460580159181e-05}\n",
            "Losses {'ner': 5.664083720112328e-08}\n",
            "Losses {'ner': 4.2528985804754764e-07}\n",
            "Losses {'ner': 3.740811448590633e-05}\n",
            "Losses {'ner': 0.0001409835765538331}\n",
            "Losses {'ner': 2.3930526669437565e-06}\n",
            "Losses {'ner': 1.231757923513057e-06}\n",
            "Losses {'ner': 6.483582122179629e-09}\n",
            "Losses {'ner': 1.1097776595410384e-05}\n",
            "Losses {'ner': 4.361414701426274e-08}\n",
            "Losses {'ner': 1.5458113353923088e-06}\n",
            "Losses {'ner': 7.397213483088145e-06}\n",
            "Losses {'ner': 0.0013836389673906534}\n",
            "NER labels: ('CARDINAL', 'DATE', 'EVENT', 'FAC', 'FIN', 'GPE', 'LANGUAGE', 'LAW', 'LOC', 'MONEY', 'NORP', 'ORDINAL', 'ORG', 'PERCENT', 'PERSON', 'PRODUCT', 'QUANTITY', 'STOCK', 'TIME', 'WORK_OF_ART')\n"
          ],
          "name": "stdout"
        }
      ]
    },
    {
      "cell_type": "code",
      "metadata": {
        "id": "YNcgljyQrJSj"
      },
      "source": [
        "# for text, annot in TRAIN_DATA:\n",
        "#     print(text,annot)\n",
        "#     doc = nlp.make_doc(text)\n",
        "#     biluo = spacy.training.offsets_to_biluo_tags(doc, annot[\"entities\"])\n",
        "#     print([t.text for t in doc], biluo)"
      ],
      "execution_count": 19,
      "outputs": []
    },
    {
      "cell_type": "code",
      "metadata": {
        "colab": {
          "base_uri": "https://localhost:8080/",
          "height": 362
        },
        "id": "1eYxnh8TnMQg",
        "outputId": "f1ef2f7f-a95a-4c3e-d6d1-d405e7a17fc3"
      },
      "source": [
        "texts = [\n",
        "  '恆指上升3.3%，是香港在這半年最大漲幅；恒生科技指數漲7.9%，創下去年7月高位。',\n",
        "  '中電在假期前做好帶動，恒指單日暴升961.22點。',\n",
        "  '受美股收跌拖累，匯控、和記跌超過2%',\n",
        "  '匯控下跌2%',\n",
        "  '日本，新加坡及澳洲等地股市單日暴升961.22點。'\n",
        "]\n",
        "\n",
        "\n",
        "# nlp = spacy.load('zh_core_web_lg',disable=['ner'])\n",
        "# ner = nlp.create_pipe('ner')\n",
        "# ner.from_disk('fin_ner')\n",
        "# nlp.add_pipe(ner,'fin_ner')\n",
        "\n",
        "from spacy import displacy\n",
        "from IPython.core.display import display, HTML\n",
        "\n",
        "for text in texts:\n",
        "  doc = nlp(text)\n",
        "  \n",
        "  # print(doc)\n",
        "  # for token in doc:\n",
        "  #   print(token.text, token.pos_, token.dep_)\n",
        "\n",
        "  # for ent in doc.ents:\n",
        "    # print(ent.text, ent.start_char, ent.end_char, ent.label_)\n",
        "  html = displacy.render(doc,style=\"ent\")\n",
        "  display(HTML(html))\n",
        "\n",
        "  print('\\n')\n",
        "\n"
      ],
      "execution_count": 68,
      "outputs": [
        {
          "output_type": "display_data",
          "data": {
            "text/html": [
              "<div class=\"entities\" style=\"line-height: 2.5; direction: ltr\">\n",
              "<mark class=\"entity\" style=\"background: #ddd; padding: 0.45em 0.6em; margin: 0 0.25em; line-height: 1; border-radius: 0.35em;\">\n",
              "    恆指\n",
              "    <span style=\"font-size: 0.8em; font-weight: bold; line-height: 1; border-radius: 0.35em; vertical-align: middle; margin-left: 0.5rem\">FIN</span>\n",
              "</mark>\n",
              "上升\n",
              "<mark class=\"entity\" style=\"background: #e4e7d2; padding: 0.45em 0.6em; margin: 0 0.25em; line-height: 1; border-radius: 0.35em;\">\n",
              "    3.3%\n",
              "    <span style=\"font-size: 0.8em; font-weight: bold; line-height: 1; border-radius: 0.35em; vertical-align: middle; margin-left: 0.5rem\">PERCENT</span>\n",
              "</mark>\n",
              "，是\n",
              "<mark class=\"entity\" style=\"background: #feca74; padding: 0.45em 0.6em; margin: 0 0.25em; line-height: 1; border-radius: 0.35em;\">\n",
              "    香港\n",
              "    <span style=\"font-size: 0.8em; font-weight: bold; line-height: 1; border-radius: 0.35em; vertical-align: middle; margin-left: 0.5rem\">GPE</span>\n",
              "</mark>\n",
              "在這半年最大漲幅；\n",
              "<mark class=\"entity\" style=\"background: #ddd; padding: 0.45em 0.6em; margin: 0 0.25em; line-height: 1; border-radius: 0.35em;\">\n",
              "    恒生科技\n",
              "    <span style=\"font-size: 0.8em; font-weight: bold; line-height: 1; border-radius: 0.35em; vertical-align: middle; margin-left: 0.5rem\">FIN</span>\n",
              "</mark>\n",
              "指數漲\n",
              "<mark class=\"entity\" style=\"background: #e4e7d2; padding: 0.45em 0.6em; margin: 0 0.25em; line-height: 1; border-radius: 0.35em;\">\n",
              "    7.9%，\n",
              "    <span style=\"font-size: 0.8em; font-weight: bold; line-height: 1; border-radius: 0.35em; vertical-align: middle; margin-left: 0.5rem\">PERCENT</span>\n",
              "</mark>\n",
              "創下去年7月高位。</div>"
            ],
            "text/plain": [
              "<IPython.core.display.HTML object>"
            ]
          },
          "metadata": {
            "tags": []
          }
        },
        {
          "output_type": "stream",
          "text": [
            "\n",
            "\n"
          ],
          "name": "stdout"
        },
        {
          "output_type": "display_data",
          "data": {
            "text/html": [
              "<div class=\"entities\" style=\"line-height: 2.5; direction: ltr\">\n",
              "<mark class=\"entity\" style=\"background: #ddd; padding: 0.45em 0.6em; margin: 0 0.25em; line-height: 1; border-radius: 0.35em;\">\n",
              "    中電\n",
              "    <span style=\"font-size: 0.8em; font-weight: bold; line-height: 1; border-radius: 0.35em; vertical-align: middle; margin-left: 0.5rem\">STOCK</span>\n",
              "</mark>\n",
              "在假期前做好帶動，\n",
              "<mark class=\"entity\" style=\"background: #ddd; padding: 0.45em 0.6em; margin: 0 0.25em; line-height: 1; border-radius: 0.35em;\">\n",
              "    恒指\n",
              "    <span style=\"font-size: 0.8em; font-weight: bold; line-height: 1; border-radius: 0.35em; vertical-align: middle; margin-left: 0.5rem\">FIN</span>\n",
              "</mark>\n",
              "單日\n",
              "<mark class=\"entity\" style=\"background: #ddd; padding: 0.45em 0.6em; margin: 0 0.25em; line-height: 1; border-radius: 0.35em;\">\n",
              "    暴升\n",
              "    <span style=\"font-size: 0.8em; font-weight: bold; line-height: 1; border-radius: 0.35em; vertical-align: middle; margin-left: 0.5rem\">FIN</span>\n",
              "</mark>\n",
              "961.22點。</div>"
            ],
            "text/plain": [
              "<IPython.core.display.HTML object>"
            ]
          },
          "metadata": {
            "tags": []
          }
        },
        {
          "output_type": "stream",
          "text": [
            "\n",
            "\n"
          ],
          "name": "stdout"
        },
        {
          "output_type": "display_data",
          "data": {
            "text/html": [
              "<div class=\"entities\" style=\"line-height: 2.5; direction: ltr\">受\n",
              "<mark class=\"entity\" style=\"background: #ddd; padding: 0.45em 0.6em; margin: 0 0.25em; line-height: 1; border-radius: 0.35em;\">\n",
              "    美股\n",
              "    <span style=\"font-size: 0.8em; font-weight: bold; line-height: 1; border-radius: 0.35em; vertical-align: middle; margin-left: 0.5rem\">FIN</span>\n",
              "</mark>\n",
              "\n",
              "<mark class=\"entity\" style=\"background: #ddd; padding: 0.45em 0.6em; margin: 0 0.25em; line-height: 1; border-radius: 0.35em;\">\n",
              "    收跌拖累\n",
              "    <span style=\"font-size: 0.8em; font-weight: bold; line-height: 1; border-radius: 0.35em; vertical-align: middle; margin-left: 0.5rem\">FIN</span>\n",
              "</mark>\n",
              "，\n",
              "<mark class=\"entity\" style=\"background: #ddd; padding: 0.45em 0.6em; margin: 0 0.25em; line-height: 1; border-radius: 0.35em;\">\n",
              "    匯控\n",
              "    <span style=\"font-size: 0.8em; font-weight: bold; line-height: 1; border-radius: 0.35em; vertical-align: middle; margin-left: 0.5rem\">STOCK</span>\n",
              "</mark>\n",
              "、和記跌超過\n",
              "<mark class=\"entity\" style=\"background: #e4e7d2; padding: 0.45em 0.6em; margin: 0 0.25em; line-height: 1; border-radius: 0.35em;\">\n",
              "    2%\n",
              "    <span style=\"font-size: 0.8em; font-weight: bold; line-height: 1; border-radius: 0.35em; vertical-align: middle; margin-left: 0.5rem\">PERCENT</span>\n",
              "</mark>\n",
              "</div>"
            ],
            "text/plain": [
              "<IPython.core.display.HTML object>"
            ]
          },
          "metadata": {
            "tags": []
          }
        },
        {
          "output_type": "stream",
          "text": [
            "\n",
            "\n"
          ],
          "name": "stdout"
        },
        {
          "output_type": "display_data",
          "data": {
            "text/html": [
              "<div class=\"entities\" style=\"line-height: 2.5; direction: ltr\">\n",
              "<mark class=\"entity\" style=\"background: #ddd; padding: 0.45em 0.6em; margin: 0 0.25em; line-height: 1; border-radius: 0.35em;\">\n",
              "    匯控\n",
              "    <span style=\"font-size: 0.8em; font-weight: bold; line-height: 1; border-radius: 0.35em; vertical-align: middle; margin-left: 0.5rem\">STOCK</span>\n",
              "</mark>\n",
              "下跌\n",
              "<mark class=\"entity\" style=\"background: #e4e7d2; padding: 0.45em 0.6em; margin: 0 0.25em; line-height: 1; border-radius: 0.35em;\">\n",
              "    2%\n",
              "    <span style=\"font-size: 0.8em; font-weight: bold; line-height: 1; border-radius: 0.35em; vertical-align: middle; margin-left: 0.5rem\">PERCENT</span>\n",
              "</mark>\n",
              "</div>"
            ],
            "text/plain": [
              "<IPython.core.display.HTML object>"
            ]
          },
          "metadata": {
            "tags": []
          }
        },
        {
          "output_type": "stream",
          "text": [
            "\n",
            "\n"
          ],
          "name": "stdout"
        },
        {
          "output_type": "display_data",
          "data": {
            "text/html": [
              "<div class=\"entities\" style=\"line-height: 2.5; direction: ltr\">\n",
              "<mark class=\"entity\" style=\"background: #feca74; padding: 0.45em 0.6em; margin: 0 0.25em; line-height: 1; border-radius: 0.35em;\">\n",
              "    日本\n",
              "    <span style=\"font-size: 0.8em; font-weight: bold; line-height: 1; border-radius: 0.35em; vertical-align: middle; margin-left: 0.5rem\">GPE</span>\n",
              "</mark>\n",
              "，\n",
              "<mark class=\"entity\" style=\"background: #feca74; padding: 0.45em 0.6em; margin: 0 0.25em; line-height: 1; border-radius: 0.35em;\">\n",
              "    新加坡\n",
              "    <span style=\"font-size: 0.8em; font-weight: bold; line-height: 1; border-radius: 0.35em; vertical-align: middle; margin-left: 0.5rem\">GPE</span>\n",
              "</mark>\n",
              "及\n",
              "<mark class=\"entity\" style=\"background: #feca74; padding: 0.45em 0.6em; margin: 0 0.25em; line-height: 1; border-radius: 0.35em;\">\n",
              "    澳洲\n",
              "    <span style=\"font-size: 0.8em; font-weight: bold; line-height: 1; border-radius: 0.35em; vertical-align: middle; margin-left: 0.5rem\">GPE</span>\n",
              "</mark>\n",
              "等地\n",
              "<mark class=\"entity\" style=\"background: #ddd; padding: 0.45em 0.6em; margin: 0 0.25em; line-height: 1; border-radius: 0.35em;\">\n",
              "    股市\n",
              "    <span style=\"font-size: 0.8em; font-weight: bold; line-height: 1; border-radius: 0.35em; vertical-align: middle; margin-left: 0.5rem\">FIN</span>\n",
              "</mark>\n",
              "單日\n",
              "<mark class=\"entity\" style=\"background: #ddd; padding: 0.45em 0.6em; margin: 0 0.25em; line-height: 1; border-radius: 0.35em;\">\n",
              "    暴升\n",
              "    <span style=\"font-size: 0.8em; font-weight: bold; line-height: 1; border-radius: 0.35em; vertical-align: middle; margin-left: 0.5rem\">FIN</span>\n",
              "</mark>\n",
              "961.22點。</div>"
            ],
            "text/plain": [
              "<IPython.core.display.HTML object>"
            ]
          },
          "metadata": {
            "tags": []
          }
        },
        {
          "output_type": "stream",
          "text": [
            "\n",
            "\n"
          ],
          "name": "stdout"
        }
      ]
    }
  ]
}