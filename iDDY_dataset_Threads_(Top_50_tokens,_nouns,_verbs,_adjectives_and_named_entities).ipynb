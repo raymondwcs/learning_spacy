{
  "nbformat": 4,
  "nbformat_minor": 0,
  "metadata": {
    "colab": {
      "name": "iDDY dataset - Threads (Top 50 tokens, nouns, verbs, adjectives and named entities).ipynb",
      "provenance": [],
      "collapsed_sections": [],
      "authorship_tag": "ABX9TyNVv7j6qcFIxa5zk7dtG06Q",
      "include_colab_link": true
    },
    "kernelspec": {
      "name": "python3",
      "display_name": "Python 3"
    },
    "language_info": {
      "name": "python"
    },
    "accelerator": "GPU"
  },
  "cells": [
    {
      "cell_type": "markdown",
      "metadata": {
        "id": "view-in-github",
        "colab_type": "text"
      },
      "source": [
        "<a href=\"https://colab.research.google.com/github/raymondwcs/learning_spacy/blob/main/iDDY_dataset_Threads_(Top_50_tokens%2C_nouns%2C_verbs%2C_adjectives_and_named_entities).ipynb\" target=\"_parent\"><img src=\"https://colab.research.google.com/assets/colab-badge.svg\" alt=\"Open In Colab\"/></a>"
      ]
    },
    {
      "cell_type": "code",
      "metadata": {
        "colab": {
          "base_uri": "https://localhost:8080/"
        },
        "id": "Gwgm-n1PgQi2",
        "outputId": "8101edc2-04b2-4548-ce3c-71132613954f"
      },
      "source": [
        "!pip install --quiet sentence-transformers\n",
        "!pip install --upgrade spacy[cuda102]\n",
        "!pip install -U spacy_pkuseg\n",
        "!python -m spacy download zh_core_web_lg"
      ],
      "execution_count": null,
      "outputs": [
        {
          "output_type": "stream",
          "name": "stdout",
          "text": [
            "Requirement already satisfied: spacy[cuda102] in /usr/local/lib/python3.7/dist-packages (3.1.2)\n",
            "Requirement already satisfied: requests<3.0.0,>=2.13.0 in /usr/local/lib/python3.7/dist-packages (from spacy[cuda102]) (2.23.0)\n",
            "Requirement already satisfied: packaging>=20.0 in /usr/local/lib/python3.7/dist-packages (from spacy[cuda102]) (21.0)\n",
            "Requirement already satisfied: murmurhash<1.1.0,>=0.28.0 in /usr/local/lib/python3.7/dist-packages (from spacy[cuda102]) (1.0.5)\n",
            "Requirement already satisfied: srsly<3.0.0,>=2.4.1 in /usr/local/lib/python3.7/dist-packages (from spacy[cuda102]) (2.4.1)\n",
            "Requirement already satisfied: catalogue<2.1.0,>=2.0.4 in /usr/local/lib/python3.7/dist-packages (from spacy[cuda102]) (2.0.6)\n",
            "Requirement already satisfied: preshed<3.1.0,>=3.0.2 in /usr/local/lib/python3.7/dist-packages (from spacy[cuda102]) (3.0.5)\n",
            "Requirement already satisfied: typer<0.4.0,>=0.3.0 in /usr/local/lib/python3.7/dist-packages (from spacy[cuda102]) (0.3.2)\n",
            "Requirement already satisfied: jinja2 in /usr/local/lib/python3.7/dist-packages (from spacy[cuda102]) (2.11.3)\n",
            "Requirement already satisfied: thinc<8.1.0,>=8.0.8 in /usr/local/lib/python3.7/dist-packages (from spacy[cuda102]) (8.0.8)\n",
            "Requirement already satisfied: setuptools in /usr/local/lib/python3.7/dist-packages (from spacy[cuda102]) (57.4.0)\n",
            "Requirement already satisfied: pathy>=0.3.5 in /usr/local/lib/python3.7/dist-packages (from spacy[cuda102]) (0.6.0)\n",
            "Requirement already satisfied: blis<0.8.0,>=0.4.0 in /usr/local/lib/python3.7/dist-packages (from spacy[cuda102]) (0.4.1)\n",
            "Requirement already satisfied: wasabi<1.1.0,>=0.8.1 in /usr/local/lib/python3.7/dist-packages (from spacy[cuda102]) (0.8.2)\n",
            "Requirement already satisfied: cymem<2.1.0,>=2.0.2 in /usr/local/lib/python3.7/dist-packages (from spacy[cuda102]) (2.0.5)\n",
            "Requirement already satisfied: typing-extensions<4.0.0.0,>=3.7.4 in /usr/local/lib/python3.7/dist-packages (from spacy[cuda102]) (3.7.4.3)\n",
            "Requirement already satisfied: spacy-legacy<3.1.0,>=3.0.7 in /usr/local/lib/python3.7/dist-packages (from spacy[cuda102]) (3.0.8)\n",
            "Requirement already satisfied: tqdm<5.0.0,>=4.38.0 in /usr/local/lib/python3.7/dist-packages (from spacy[cuda102]) (4.62.0)\n",
            "Requirement already satisfied: numpy>=1.15.0 in /usr/local/lib/python3.7/dist-packages (from spacy[cuda102]) (1.19.5)\n",
            "Requirement already satisfied: pydantic!=1.8,!=1.8.1,<1.9.0,>=1.7.4 in /usr/local/lib/python3.7/dist-packages (from spacy[cuda102]) (1.8.2)\n",
            "Requirement already satisfied: cupy-cuda102<10.0.0,>=5.0.0b4 in /usr/local/lib/python3.7/dist-packages (from spacy[cuda102]) (9.4.0)\n",
            "Requirement already satisfied: zipp>=0.5 in /usr/local/lib/python3.7/dist-packages (from catalogue<2.1.0,>=2.0.4->spacy[cuda102]) (3.5.0)\n",
            "Requirement already satisfied: fastrlock>=0.5 in /usr/local/lib/python3.7/dist-packages (from cupy-cuda102<10.0.0,>=5.0.0b4->spacy[cuda102]) (0.6)\n",
            "Requirement already satisfied: pyparsing>=2.0.2 in /usr/local/lib/python3.7/dist-packages (from packaging>=20.0->spacy[cuda102]) (2.4.7)\n",
            "Requirement already satisfied: smart-open<6.0.0,>=5.0.0 in /usr/local/lib/python3.7/dist-packages (from pathy>=0.3.5->spacy[cuda102]) (5.1.0)\n",
            "Requirement already satisfied: urllib3!=1.25.0,!=1.25.1,<1.26,>=1.21.1 in /usr/local/lib/python3.7/dist-packages (from requests<3.0.0,>=2.13.0->spacy[cuda102]) (1.24.3)\n",
            "Requirement already satisfied: certifi>=2017.4.17 in /usr/local/lib/python3.7/dist-packages (from requests<3.0.0,>=2.13.0->spacy[cuda102]) (2021.5.30)\n",
            "Requirement already satisfied: chardet<4,>=3.0.2 in /usr/local/lib/python3.7/dist-packages (from requests<3.0.0,>=2.13.0->spacy[cuda102]) (3.0.4)\n",
            "Requirement already satisfied: idna<3,>=2.5 in /usr/local/lib/python3.7/dist-packages (from requests<3.0.0,>=2.13.0->spacy[cuda102]) (2.10)\n",
            "Requirement already satisfied: click<7.2.0,>=7.1.1 in /usr/local/lib/python3.7/dist-packages (from typer<0.4.0,>=0.3.0->spacy[cuda102]) (7.1.2)\n",
            "Requirement already satisfied: MarkupSafe>=0.23 in /usr/local/lib/python3.7/dist-packages (from jinja2->spacy[cuda102]) (2.0.1)\n",
            "Requirement already satisfied: spacy_pkuseg in /usr/local/lib/python3.7/dist-packages (0.0.28)\n",
            "Requirement already satisfied: srsly<3.0.0,>=2.3.0 in /usr/local/lib/python3.7/dist-packages (from spacy_pkuseg) (2.4.1)\n",
            "Requirement already satisfied: numpy>=1.16.0 in /usr/local/lib/python3.7/dist-packages (from spacy_pkuseg) (1.19.5)\n",
            "Requirement already satisfied: cython>=0.25 in /usr/local/lib/python3.7/dist-packages (from spacy_pkuseg) (0.29.24)\n",
            "Requirement already satisfied: catalogue<2.1.0,>=2.0.1 in /usr/local/lib/python3.7/dist-packages (from srsly<3.0.0,>=2.3.0->spacy_pkuseg) (2.0.6)\n",
            "Requirement already satisfied: zipp>=0.5 in /usr/local/lib/python3.7/dist-packages (from catalogue<2.1.0,>=2.0.1->srsly<3.0.0,>=2.3.0->spacy_pkuseg) (3.5.0)\n",
            "Requirement already satisfied: typing-extensions>=3.6.4 in /usr/local/lib/python3.7/dist-packages (from catalogue<2.1.0,>=2.0.1->srsly<3.0.0,>=2.3.0->spacy_pkuseg) (3.7.4.3)\n",
            "Collecting zh-core-web-lg==3.1.0\n",
            "  Downloading https://github.com/explosion/spacy-models/releases/download/zh_core_web_lg-3.1.0/zh_core_web_lg-3.1.0-py3-none-any.whl (603.8 MB)\n",
            "\u001b[K     |████████████████████████████████| 603.8 MB 8.8 kB/s \n",
            "\u001b[?25hRequirement already satisfied: spacy-pkuseg<0.1.0,>=0.0.27 in /usr/local/lib/python3.7/dist-packages (from zh-core-web-lg==3.1.0) (0.0.28)\n",
            "Requirement already satisfied: spacy<3.2.0,>=3.1.0 in /usr/local/lib/python3.7/dist-packages (from zh-core-web-lg==3.1.0) (3.1.2)\n",
            "Requirement already satisfied: srsly<3.0.0,>=2.4.1 in /usr/local/lib/python3.7/dist-packages (from spacy<3.2.0,>=3.1.0->zh-core-web-lg==3.1.0) (2.4.1)\n",
            "Requirement already satisfied: murmurhash<1.1.0,>=0.28.0 in /usr/local/lib/python3.7/dist-packages (from spacy<3.2.0,>=3.1.0->zh-core-web-lg==3.1.0) (1.0.5)\n",
            "Requirement already satisfied: typing-extensions<4.0.0.0,>=3.7.4 in /usr/local/lib/python3.7/dist-packages (from spacy<3.2.0,>=3.1.0->zh-core-web-lg==3.1.0) (3.7.4.3)\n",
            "Requirement already satisfied: wasabi<1.1.0,>=0.8.1 in /usr/local/lib/python3.7/dist-packages (from spacy<3.2.0,>=3.1.0->zh-core-web-lg==3.1.0) (0.8.2)\n",
            "Requirement already satisfied: preshed<3.1.0,>=3.0.2 in /usr/local/lib/python3.7/dist-packages (from spacy<3.2.0,>=3.1.0->zh-core-web-lg==3.1.0) (3.0.5)\n",
            "Requirement already satisfied: numpy>=1.15.0 in /usr/local/lib/python3.7/dist-packages (from spacy<3.2.0,>=3.1.0->zh-core-web-lg==3.1.0) (1.19.5)\n",
            "Requirement already satisfied: cymem<2.1.0,>=2.0.2 in /usr/local/lib/python3.7/dist-packages (from spacy<3.2.0,>=3.1.0->zh-core-web-lg==3.1.0) (2.0.5)\n",
            "Requirement already satisfied: packaging>=20.0 in /usr/local/lib/python3.7/dist-packages (from spacy<3.2.0,>=3.1.0->zh-core-web-lg==3.1.0) (21.0)\n",
            "Requirement already satisfied: pathy>=0.3.5 in /usr/local/lib/python3.7/dist-packages (from spacy<3.2.0,>=3.1.0->zh-core-web-lg==3.1.0) (0.6.0)\n",
            "Requirement already satisfied: requests<3.0.0,>=2.13.0 in /usr/local/lib/python3.7/dist-packages (from spacy<3.2.0,>=3.1.0->zh-core-web-lg==3.1.0) (2.23.0)\n",
            "Requirement already satisfied: jinja2 in /usr/local/lib/python3.7/dist-packages (from spacy<3.2.0,>=3.1.0->zh-core-web-lg==3.1.0) (2.11.3)\n",
            "Requirement already satisfied: setuptools in /usr/local/lib/python3.7/dist-packages (from spacy<3.2.0,>=3.1.0->zh-core-web-lg==3.1.0) (57.4.0)\n",
            "Requirement already satisfied: thinc<8.1.0,>=8.0.8 in /usr/local/lib/python3.7/dist-packages (from spacy<3.2.0,>=3.1.0->zh-core-web-lg==3.1.0) (8.0.8)\n",
            "Requirement already satisfied: blis<0.8.0,>=0.4.0 in /usr/local/lib/python3.7/dist-packages (from spacy<3.2.0,>=3.1.0->zh-core-web-lg==3.1.0) (0.4.1)\n",
            "Requirement already satisfied: catalogue<2.1.0,>=2.0.4 in /usr/local/lib/python3.7/dist-packages (from spacy<3.2.0,>=3.1.0->zh-core-web-lg==3.1.0) (2.0.6)\n",
            "Requirement already satisfied: typer<0.4.0,>=0.3.0 in /usr/local/lib/python3.7/dist-packages (from spacy<3.2.0,>=3.1.0->zh-core-web-lg==3.1.0) (0.3.2)\n",
            "Requirement already satisfied: tqdm<5.0.0,>=4.38.0 in /usr/local/lib/python3.7/dist-packages (from spacy<3.2.0,>=3.1.0->zh-core-web-lg==3.1.0) (4.62.0)\n",
            "Requirement already satisfied: spacy-legacy<3.1.0,>=3.0.7 in /usr/local/lib/python3.7/dist-packages (from spacy<3.2.0,>=3.1.0->zh-core-web-lg==3.1.0) (3.0.8)\n",
            "Requirement already satisfied: pydantic!=1.8,!=1.8.1,<1.9.0,>=1.7.4 in /usr/local/lib/python3.7/dist-packages (from spacy<3.2.0,>=3.1.0->zh-core-web-lg==3.1.0) (1.8.2)\n",
            "Requirement already satisfied: zipp>=0.5 in /usr/local/lib/python3.7/dist-packages (from catalogue<2.1.0,>=2.0.4->spacy<3.2.0,>=3.1.0->zh-core-web-lg==3.1.0) (3.5.0)\n",
            "Requirement already satisfied: pyparsing>=2.0.2 in /usr/local/lib/python3.7/dist-packages (from packaging>=20.0->spacy<3.2.0,>=3.1.0->zh-core-web-lg==3.1.0) (2.4.7)\n",
            "Requirement already satisfied: smart-open<6.0.0,>=5.0.0 in /usr/local/lib/python3.7/dist-packages (from pathy>=0.3.5->spacy<3.2.0,>=3.1.0->zh-core-web-lg==3.1.0) (5.1.0)\n",
            "Requirement already satisfied: idna<3,>=2.5 in /usr/local/lib/python3.7/dist-packages (from requests<3.0.0,>=2.13.0->spacy<3.2.0,>=3.1.0->zh-core-web-lg==3.1.0) (2.10)\n",
            "Requirement already satisfied: urllib3!=1.25.0,!=1.25.1,<1.26,>=1.21.1 in /usr/local/lib/python3.7/dist-packages (from requests<3.0.0,>=2.13.0->spacy<3.2.0,>=3.1.0->zh-core-web-lg==3.1.0) (1.24.3)\n",
            "Requirement already satisfied: chardet<4,>=3.0.2 in /usr/local/lib/python3.7/dist-packages (from requests<3.0.0,>=2.13.0->spacy<3.2.0,>=3.1.0->zh-core-web-lg==3.1.0) (3.0.4)\n",
            "Requirement already satisfied: certifi>=2017.4.17 in /usr/local/lib/python3.7/dist-packages (from requests<3.0.0,>=2.13.0->spacy<3.2.0,>=3.1.0->zh-core-web-lg==3.1.0) (2021.5.30)\n",
            "Requirement already satisfied: cython>=0.25 in /usr/local/lib/python3.7/dist-packages (from spacy-pkuseg<0.1.0,>=0.0.27->zh-core-web-lg==3.1.0) (0.29.24)\n",
            "Requirement already satisfied: click<7.2.0,>=7.1.1 in /usr/local/lib/python3.7/dist-packages (from typer<0.4.0,>=0.3.0->spacy<3.2.0,>=3.1.0->zh-core-web-lg==3.1.0) (7.1.2)\n",
            "Requirement already satisfied: MarkupSafe>=0.23 in /usr/local/lib/python3.7/dist-packages (from jinja2->spacy<3.2.0,>=3.1.0->zh-core-web-lg==3.1.0) (2.0.1)\n",
            "\u001b[38;5;2m✔ Download and installation successful\u001b[0m\n",
            "You can now load the package via spacy.load('zh_core_web_lg')\n"
          ]
        }
      ]
    },
    {
      "cell_type": "code",
      "metadata": {
        "id": "7ZNLGtHPgLZN"
      },
      "source": [
        "# from sentence_transformers import SentenceTransformer\n",
        "# from sklearn.cluster import KMeans\n",
        "# from sklearn.metrics.pairwise import cosine_similarity\n",
        "from tqdm import tqdm\n",
        "import numpy as np\n",
        "import pandas as pd\n",
        "import spacy"
      ],
      "execution_count": null,
      "outputs": []
    },
    {
      "cell_type": "code",
      "metadata": {
        "colab": {
          "base_uri": "https://localhost:8080/"
        },
        "id": "Q4gI60pLTa6v",
        "outputId": "da25c9b2-e368-417d-ceda-f5c7f07e4ee3"
      },
      "source": [
        "!gdown --id 1bw2rAvh8XO80YIg1qr5dZGLf35gBanVR"
      ],
      "execution_count": null,
      "outputs": [
        {
          "output_type": "stream",
          "name": "stdout",
          "text": [
            "Downloading...\n",
            "From: https://drive.google.com/uc?id=1bw2rAvh8XO80YIg1qr5dZGLf35gBanVR\n",
            "To: /content/thread.tsv\n",
            "49.7MB [00:00, 120MB/s] \n"
          ]
        }
      ]
    },
    {
      "cell_type": "code",
      "metadata": {
        "colab": {
          "base_uri": "https://localhost:8080/"
        },
        "id": "37sIWFtSgV8r",
        "outputId": "fa1f6536-66de-4817-c225-c3429ddf0da6"
      },
      "source": [
        "CHECKPOINT = 'paraphrase-multilingual-mpnet-base-v2'\n",
        "# CHECKPOINT = 'paraphrase-multilingual-mpnet-base-v2'\n",
        "\n",
        "dataset = pd.read_csv('thread.tsv',sep='\\t\\t',header=None,engine='python')\n",
        "print(dataset.shape)   \n",
        "\n",
        "subjects = []\n",
        "for s in dataset.iloc[:,9]:\n",
        "    s = str(s)\n",
        "    subjects.append(s.replace(' ','')) # remove extra spaces\n",
        "\n",
        "del dataset"
      ],
      "execution_count": null,
      "outputs": [
        {
          "output_type": "stream",
          "name": "stdout",
          "text": [
            "(215845, 18)\n"
          ]
        }
      ]
    },
    {
      "cell_type": "code",
      "metadata": {
        "colab": {
          "base_uri": "https://localhost:8080/"
        },
        "id": "ogprFuzhgc46",
        "outputId": "fd0a17aa-458e-4559-e71e-8eec99047f1c"
      },
      "source": [
        "tk = []       # tokens\n",
        "noun = []     # nouns, proper nouns\n",
        "verb = []     # verbs\n",
        "adj = []      # adjectives\n",
        "ne = []       # named entities\n",
        "\n",
        "print(spacy.prefer_gpu()) # or spacy.require_gpu()\n",
        "nlp = spacy.load('zh_core_web_lg')\n",
        "# Use trained pkuseg model on Traditional Chinese text\n",
        "# Download folder \"models\" from:\n",
        "# https://github.com/raymondwcs/learning_spacy/tree/main/spacy_pkuseg\n",
        "nlp.tokenizer.initialize(pkuseg_model='./models')\n",
        "\n",
        "from spacy.lang.zh.stop_words import STOP_WORDS\n",
        "spacy_stopwords = STOP_WORDS\n",
        "for w in spacy_stopwords:\n",
        "  nlp.vocab[w].is_stop = True\n",
        "\n",
        "for subject in tqdm(subjects, leave=True):\n",
        "    doc = nlp(subject)\n",
        "    # remove stop words\n",
        "    tokens = [token for token in doc if not token.is_stop]\n",
        "    # for token in doc:\n",
        "    for token in tokens:\n",
        "        tk.append(token.text)\n",
        "        if token.pos_ == 'NOUN' or token.pos_ == 'PROPN':\n",
        "            noun.append(token.text)\n",
        "        elif token.pos_ == 'VERB':\n",
        "            verb.append(token.text)\n",
        "        elif token.pos_ == 'ADJ':\n",
        "            adj.append(token.text)\n",
        "    for ent in doc.ents:\n",
        "        ne.append('(%s, %s)' % (ent.text, ent.label_))"
      ],
      "execution_count": null,
      "outputs": [
        {
          "metadata": {
            "tags": null
          },
          "name": "stdout",
          "output_type": "stream",
          "text": [
            "False\n"
          ]
        },
        {
          "output_type": "stream",
          "name": "stderr",
          "text": [
            "100%|██████████| 215845/215845 [30:26<00:00, 118.16it/s]\n"
          ]
        }
      ]
    },
    {
      "cell_type": "code",
      "metadata": {
        "colab": {
          "base_uri": "https://localhost:8080/"
        },
        "id": "7UPebtIqneg5",
        "outputId": "9f9a4384-d84b-465d-d214-84933725a395"
      },
      "source": [
        "pd.Series(tk).value_counts().head(50)"
      ],
      "execution_count": null,
      "outputs": [
        {
          "output_type": "execute_result",
          "data": {
            "text/plain": [
              "點      11837\n",
              "今日     10717\n",
              "跌       9650\n",
              "買       9512\n",
              "升       9044\n",
              "個       8950\n",
              "係       8723\n",
              "會       7907\n",
              "!!      7555\n",
              "中國      6522\n",
              "香港      6501\n",
              "美國      5734\n",
              "港股      5593\n",
              "幾       4642\n",
              "股票      4155\n",
              "過       4149\n",
              "美股      4067\n",
              "隻       4024\n",
              "騰訊      3735\n",
              "大戶      3668\n",
              "牛       3644\n",
              "恆指      3621\n",
              "股市      3460\n",
              "。。。     3417\n",
              "想       3406\n",
              "明天      3157\n",
              "未       3101\n",
              "將       3038\n",
              "700     2902\n",
              "爆升      2856\n",
              "點解      2854\n",
              "夜期      2824\n",
              "話       2813\n",
              "做       2784\n",
              "睇       2718\n",
              "「       2656\n",
              "中       2561\n",
              "無       2559\n",
              "先       2549\n",
              "冇       2547\n",
              "股災      2454\n",
              "已經      2454\n",
              "年       2441\n",
              "聽日      2423\n",
              "蚊       2356\n",
              "投資      2355\n",
              "開始      2348\n",
              "新       2347\n",
              "星期一     2346\n",
              "錢       2301\n",
              "dtype: int64"
            ]
          },
          "metadata": {},
          "execution_count": 5
        }
      ]
    },
    {
      "cell_type": "code",
      "metadata": {
        "colab": {
          "base_uri": "https://localhost:8080/"
        },
        "id": "ksuR3N87ghHu",
        "outputId": "efe29e77-190c-461d-ba81-d1a6e4706768"
      },
      "source": [
        "pd.Series(noun).value_counts().head(50)"
      ],
      "execution_count": null,
      "outputs": [
        {
          "output_type": "execute_result",
          "data": {
            "text/plain": [
              "今日     10717\n",
              "中國      6522\n",
              "香港      6501\n",
              "美國      5734\n",
              "港股      5593\n",
              "股票      4155\n",
              "美股      4067\n",
              "騰訊      3570\n",
              "牛       3497\n",
              "股市      3460\n",
              "大戶      3202\n",
              "明天      3157\n",
              "夜期      2819\n",
              "星期一     2346\n",
              "聽日      2276\n",
              "小米      2270\n",
              "消息      2237\n",
              "錢       2193\n",
              "經濟      2098\n",
              "大陸      2094\n",
              "??      1977\n",
              "指數      1898\n",
              "日       1888\n",
              "港       1885\n",
              "今晚      1866\n",
              "左       1827\n",
              "月       1806\n",
              "銀行      1792\n",
              "今次      1698\n",
              "匯豐      1585\n",
              "QQ      1566\n",
              "熊       1512\n",
              "淡友      1511\n",
              "大師      1477\n",
              "全球      1466\n",
              "股災      1462\n",
              "大市      1441\n",
              "星期      1438\n",
              "金融      1430\n",
              "業績      1423\n",
              "阿爺      1393\n",
              "公司      1370\n",
              "恒指      1325\n",
              "老美      1306\n",
              "股價      1271\n",
              "日日      1261\n",
              "市場      1252\n",
              "收市      1233\n",
              "中美      1231\n",
              "美       1222\n",
              "dtype: int64"
            ]
          },
          "metadata": {},
          "execution_count": 6
        }
      ]
    },
    {
      "cell_type": "code",
      "metadata": {
        "colab": {
          "base_uri": "https://localhost:8080/"
        },
        "id": "MrrR6XwCnjny",
        "outputId": "93ac3082-2d06-4953-df8d-b777e827043b"
      },
      "source": [
        "pd.Series(verb).value_counts().head(50)"
      ],
      "execution_count": null,
      "outputs": [
        {
          "output_type": "execute_result",
          "data": {
            "text/plain": [
              "跌     9598\n",
              "買     9280\n",
              "升     8643\n",
              "係     7630\n",
              "想     3406\n",
              "過     2820\n",
              "做     2784\n",
              "睇     2711\n",
              "爆升    2693\n",
              "指     2133\n",
              "入     2079\n",
              "走     1963\n",
              "玩     1884\n",
              "嘩     1813\n",
              "完     1781\n",
              "見     1716\n",
              "賺     1701\n",
              "有無    1630\n",
              "大跌    1598\n",
              "會     1575\n",
              "投資    1539\n",
              "插     1531\n",
              "準備    1467\n",
              "講     1451\n",
              "無     1437\n",
              "為     1413\n",
              "小心    1334\n",
              "問     1331\n",
              "輸     1291\n",
              "炒     1289\n",
              "穿     1271\n",
              "反彈    1260\n",
              "死     1259\n",
              "係咪    1256\n",
              "冇人    1250\n",
              "咩事    1197\n",
              "成     1192\n",
              "出現    1145\n",
              "恆指    1103\n",
              "上市    1098\n",
              "聽     1054\n",
              "爆     1048\n",
              "沽     1041\n",
              "冇     1038\n",
              "大升     965\n",
              "來      928\n",
              "返      916\n",
              "知      913\n",
              "分析     909\n",
              "炒股     885\n",
              "dtype: int64"
            ]
          },
          "metadata": {},
          "execution_count": 7
        }
      ]
    },
    {
      "cell_type": "code",
      "metadata": {
        "colab": {
          "base_uri": "https://localhost:8080/"
        },
        "id": "CWeIGjAEnoTQ",
        "outputId": "db9c607d-3de5-4ddd-d940-1e0deb15cade"
      },
      "source": [
        "pd.Series(adj).value_counts().head(50)"
      ],
      "execution_count": null,
      "outputs": [
        {
          "output_type": "execute_result",
          "data": {
            "text/plain": [
              "新      1973\n",
              "恆指      639\n",
              "高       590\n",
              "壞       398\n",
              "個       395\n",
              "低       306\n",
              "幾多      294\n",
              "原來      283\n",
              "無       263\n",
              "前       249\n",
              "倒跌      243\n",
              "突發      239\n",
              "窮       230\n",
              "沽空      224\n",
              "未來      223\n",
              "超級      217\n",
              "內地      212\n",
              "標普      188\n",
              "股災      179\n",
              "溫馨      177\n",
              "財經      167\n",
              "假       144\n",
              "大戶      136\n",
              "強       134\n",
              "利好      133\n",
              "女       132\n",
              "死       132\n",
              "差       118\n",
              "副       116\n",
              "最低      114\n",
              "邊間      107\n",
              "相關      106\n",
              "大型      106\n",
              "斷估      105\n",
              "唯一      101\n",
              "真       101\n",
              "會        96\n",
              "內        95\n",
              "道期       95\n",
              "正        94\n",
              "這個       93\n",
              "仆街       89\n",
              "超大       88\n",
              "人民幣      87\n",
              "人工       86\n",
              "尋日       86\n",
              "嘅        85\n",
              "有乜       85\n",
              "開始       85\n",
              "倒升       85\n",
              "dtype: int64"
            ]
          },
          "metadata": {},
          "execution_count": 8
        }
      ]
    },
    {
      "cell_type": "code",
      "metadata": {
        "colab": {
          "base_uri": "https://localhost:8080/"
        },
        "id": "HLjKl27Yg8N8",
        "outputId": "461f0030-ded4-46d0-9712-c22f583bd0fc"
      },
      "source": [
        "pd.Series(ne).value_counts().head(50)"
      ],
      "execution_count": null,
      "outputs": [
        {
          "output_type": "execute_result",
          "data": {
            "text/plain": [
              "(今日, DATE)           7003\n",
              "(香港, GPE)            5713\n",
              "(美國, GPE)            4725\n",
              "(中國, GPE)            3949\n",
              "(港股, GPE)            3425\n",
              "(明天, DATE)           3025\n",
              "(騰訊, ORG)            2517\n",
              "(美股, GPE)            2440\n",
              "(700, CARDINAL)      1908\n",
              "(星期一, DATE)          1876\n",
              "(今晚, TIME)           1749\n",
              "(港, GPE)             1723\n",
              "(大陸, GPE)            1597\n",
              "(三, CARDINAL)        1453\n",
              "(小米, ORG)            1400\n",
              "(一, CARDINAL)        1216\n",
              "(3, CARDINAL)        1163\n",
              "(今年, DATE)           1094\n",
              "(今天, DATE)           1052\n",
              "(阿里, ORG)             954\n",
              "(下午, TIME)            942\n",
              "(美, GPE)              876\n",
              "(5, CARDINAL)         871\n",
              "(2, CARDINAL)         781\n",
              "(第一, ORDINAL)         752\n",
              "(下星期, DATE)           748\n",
              "(1, CARDINAL)         700\n",
              "(中美, ORG)             663\n",
              "(日, GPE)              648\n",
              "(10, CARDINAL)        587\n",
              "(沈, PERSON)           581\n",
              "(老美, GPE)             579\n",
              "(9, CARDINAL)         578\n",
              "(巴巴, PERSON)          569\n",
              "(兩, CARDINAL)         569\n",
              "(港交所, ORG)            567\n",
              "(美團, ORG)             552\n",
              "(4, CARDINAL)         552\n",
              "(夜期, PERSON)          530\n",
              "(美股, NORP)            522\n",
              "(28000, CARDINAL)     514\n",
              "(IG, ORG)             508\n",
              "(夜期, ORG)             505\n",
              "(明日, DATE)            485\n",
              "(中, GPE)              479\n",
              "(1000點, QUANTITY)     458\n",
              "(第二, ORDINAL)         427\n",
              "(500, CARDINAL)       423\n",
              "(特朗普, PERSON)         420\n",
              "(7, CARDINAL)         416\n",
              "dtype: int64"
            ]
          },
          "metadata": {},
          "execution_count": 9
        }
      ]
    }
  ]
}